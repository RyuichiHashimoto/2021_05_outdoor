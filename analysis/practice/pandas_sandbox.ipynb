{
 "cells": [
  {
   "cell_type": "code",
   "execution_count": 1,
   "id": "swedish-building",
   "metadata": {},
   "outputs": [],
   "source": [
    "import pandas as pd"
   ]
  },
  {
   "cell_type": "code",
   "execution_count": 2,
   "id": "imposed-invention",
   "metadata": {},
   "outputs": [],
   "source": [
    "df_rank1 = pd.DataFrame({\n",
    "    \"group\":[\"Canopus\",\"Canopus\",\"Canopus\",\"Canopus\"],\n",
    "    \"name\":[\"nice nature\",\"double turbo\",\"ikuno taktis\",\"tanhoiza-\"],\n",
    "    \"G1_rank\":[1,2,3,4],    \n",
    "    \"G2_rank\":[1,2,3,4]    \n",
    "})\n",
    "\n",
    "\n",
    "df_rank2 = pd.DataFrame({\n",
    "    \"group\":[\"Canopus\",\"Canopus\",\"Canopus\",\"Canopus\",\"supika\"],\n",
    "    \"name\":[\"nice nature\",\"double turbo\",\"ikuno taktis\",\"tanhoiza-\",\"special_week\"],\n",
    "    \"G1_rank\":[1,2,3,4,5] ,   \n",
    "    \"G2_rank\":[1,2,3,4,5]    \n",
    "})"
   ]
  },
  {
   "cell_type": "code",
   "execution_count": 3,
   "id": "technological-premises",
   "metadata": {},
   "outputs": [
    {
     "data": {
      "text/html": [
       "<div>\n",
       "<style scoped>\n",
       "    .dataframe tbody tr th:only-of-type {\n",
       "        vertical-align: middle;\n",
       "    }\n",
       "\n",
       "    .dataframe tbody tr th {\n",
       "        vertical-align: top;\n",
       "    }\n",
       "\n",
       "    .dataframe thead th {\n",
       "        text-align: right;\n",
       "    }\n",
       "</style>\n",
       "<table border=\"1\" class=\"dataframe\">\n",
       "  <thead>\n",
       "    <tr style=\"text-align: right;\">\n",
       "      <th></th>\n",
       "      <th>group</th>\n",
       "      <th>name</th>\n",
       "      <th>G1_rank</th>\n",
       "      <th>G2_rank</th>\n",
       "    </tr>\n",
       "  </thead>\n",
       "  <tbody>\n",
       "    <tr>\n",
       "      <th>0</th>\n",
       "      <td>Canopus</td>\n",
       "      <td>nice nature</td>\n",
       "      <td>1</td>\n",
       "      <td>1</td>\n",
       "    </tr>\n",
       "    <tr>\n",
       "      <th>1</th>\n",
       "      <td>Canopus</td>\n",
       "      <td>double turbo</td>\n",
       "      <td>2</td>\n",
       "      <td>2</td>\n",
       "    </tr>\n",
       "    <tr>\n",
       "      <th>2</th>\n",
       "      <td>Canopus</td>\n",
       "      <td>ikuno taktis</td>\n",
       "      <td>3</td>\n",
       "      <td>3</td>\n",
       "    </tr>\n",
       "    <tr>\n",
       "      <th>3</th>\n",
       "      <td>Canopus</td>\n",
       "      <td>tanhoiza-</td>\n",
       "      <td>4</td>\n",
       "      <td>4</td>\n",
       "    </tr>\n",
       "    <tr>\n",
       "      <th>4</th>\n",
       "      <td>supika</td>\n",
       "      <td>special_week</td>\n",
       "      <td>5</td>\n",
       "      <td>5</td>\n",
       "    </tr>\n",
       "  </tbody>\n",
       "</table>\n",
       "</div>"
      ],
      "text/plain": [
       "     group          name  G1_rank  G2_rank\n",
       "0  Canopus   nice nature        1        1\n",
       "1  Canopus  double turbo        2        2\n",
       "2  Canopus  ikuno taktis        3        3\n",
       "3  Canopus     tanhoiza-        4        4\n",
       "4   supika  special_week        5        5"
      ]
     },
     "metadata": {},
     "output_type": "display_data"
    }
   ],
   "source": [
    "display(df_rank2)"
   ]
  },
  {
   "cell_type": "code",
   "execution_count": 4,
   "id": "92510d40",
   "metadata": {},
   "outputs": [],
   "source": [
    "#s,g = df_rank2[df_rank2[\"group\"] == \"Canopus\"][[\"G1_rank\",\"G2_rank\"]].mean()\n",
    "\n",
    "#df_rank2.loc[ df_rank2[\"group\"] == \"Canopus\", [\"G1_rank\",\"G2_rank\"]] = [s,g]\n",
    "#print(s,g)"
   ]
  },
  {
   "cell_type": "code",
   "execution_count": 5,
   "id": "8fdac3ab",
   "metadata": {},
   "outputs": [
    {
     "data": {
      "text/html": [
       "<div>\n",
       "<style scoped>\n",
       "    .dataframe tbody tr th:only-of-type {\n",
       "        vertical-align: middle;\n",
       "    }\n",
       "\n",
       "    .dataframe tbody tr th {\n",
       "        vertical-align: top;\n",
       "    }\n",
       "\n",
       "    .dataframe thead th {\n",
       "        text-align: right;\n",
       "    }\n",
       "</style>\n",
       "<table border=\"1\" class=\"dataframe\">\n",
       "  <thead>\n",
       "    <tr style=\"text-align: right;\">\n",
       "      <th></th>\n",
       "      <th>group</th>\n",
       "      <th>name</th>\n",
       "      <th>G1_rank</th>\n",
       "      <th>G2_rank</th>\n",
       "    </tr>\n",
       "  </thead>\n",
       "  <tbody>\n",
       "    <tr>\n",
       "      <th>0</th>\n",
       "      <td>Canopus</td>\n",
       "      <td>nice nature</td>\n",
       "      <td>3</td>\n",
       "      <td>3</td>\n",
       "    </tr>\n",
       "    <tr>\n",
       "      <th>1</th>\n",
       "      <td>Canopus</td>\n",
       "      <td>double turbo</td>\n",
       "      <td>3</td>\n",
       "      <td>3</td>\n",
       "    </tr>\n",
       "    <tr>\n",
       "      <th>2</th>\n",
       "      <td>Canopus</td>\n",
       "      <td>ikuno taktis</td>\n",
       "      <td>3</td>\n",
       "      <td>3</td>\n",
       "    </tr>\n",
       "    <tr>\n",
       "      <th>3</th>\n",
       "      <td>Canopus</td>\n",
       "      <td>tanhoiza-</td>\n",
       "      <td>3</td>\n",
       "      <td>3</td>\n",
       "    </tr>\n",
       "    <tr>\n",
       "      <th>4</th>\n",
       "      <td>supika</td>\n",
       "      <td>special_week</td>\n",
       "      <td>5</td>\n",
       "      <td>5</td>\n",
       "    </tr>\n",
       "  </tbody>\n",
       "</table>\n",
       "</div>"
      ],
      "text/plain": [
       "     group          name  G1_rank  G2_rank\n",
       "0  Canopus   nice nature        3        3\n",
       "1  Canopus  double turbo        3        3\n",
       "2  Canopus  ikuno taktis        3        3\n",
       "3  Canopus     tanhoiza-        3        3\n",
       "4   supika  special_week        5        5"
      ]
     },
     "execution_count": 5,
     "metadata": {},
     "output_type": "execute_result"
    }
   ],
   "source": [
    "df_rank2.loc[ df_rank2[\"group\"].str.contains(\"Canopus\") ,[\"G1_rank\",\"G2_rank\"]] = 3\n",
    "df_rank2"
   ]
  },
  {
   "cell_type": "code",
   "execution_count": 6,
   "id": "0ddcb31a",
   "metadata": {},
   "outputs": [
    {
     "name": "stdout",
     "output_type": "stream",
     "text": [
      "CPU times: user 176 ms, sys: 0 ns, total: 176 ms\n",
      "Wall time: 180 ms\n"
     ]
    }
   ],
   "source": [
    "%%time\n",
    "for i in range(0,1000):\n",
    "    df_rank2[\"group\"].unique().shape[0]\n",
    "    len(df_rank2[\"group\"].unique().tolist())"
   ]
  }
 ],
 "metadata": {
  "kernelspec": {
   "display_name": "Python 3",
   "language": "python",
   "name": "python3"
  },
  "language_info": {
   "codemirror_mode": {
    "name": "ipython",
    "version": 3
   },
   "file_extension": ".py",
   "mimetype": "text/x-python",
   "name": "python",
   "nbconvert_exporter": "python",
   "pygments_lexer": "ipython3",
   "version": "3.7.10"
  },
  "toc": {
   "base_numbering": 1,
   "nav_menu": {},
   "number_sections": true,
   "sideBar": true,
   "skip_h1_title": false,
   "title_cell": "Table of Contents",
   "title_sidebar": "Contents",
   "toc_cell": false,
   "toc_position": {},
   "toc_section_display": true,
   "toc_window_display": false
  }
 },
 "nbformat": 4,
 "nbformat_minor": 5
}
