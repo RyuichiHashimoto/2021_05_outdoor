{
 "cells": [
  {
   "cell_type": "code",
   "execution_count": 1,
   "id": "beb225de",
   "metadata": {},
   "outputs": [
    {
     "data": {
      "text/html": [
       "<style>\n",
       "    div#notebook-container    { width: 95%; }\n",
       "    div#menubar-container     { width: 65%; }\n",
       "    div#maintoolbar-container { width: 99%; }\n",
       "</style>\n"
      ],
      "text/plain": [
       "<IPython.core.display.HTML object>"
      ]
     },
     "metadata": {},
     "output_type": "display_data"
    }
   ],
   "source": [
    "%%HTML\n",
    "<style>\n",
    "    div#notebook-container    { width: 95%; }\n",
    "    div#menubar-container     { width: 65%; }\n",
    "    div#maintoolbar-container { width: 99%; }\n",
    "</style>"
   ]
  },
  {
   "cell_type": "markdown",
   "id": "421f7ec5",
   "metadata": {},
   "source": [
    "## Import"
   ]
  },
  {
   "cell_type": "code",
   "execution_count": 2,
   "id": "01857fb0",
   "metadata": {},
   "outputs": [],
   "source": [
    "import pandas as pd\n",
    "import numpy as np"
   ]
  },
  {
   "cell_type": "markdown",
   "id": "f737c84c",
   "metadata": {},
   "source": [
    "## ハズレ値がない場合"
   ]
  },
  {
   "cell_type": "code",
   "execution_count": 3,
   "id": "d979c3b8",
   "metadata": {},
   "outputs": [],
   "source": [
    "detapath = \"/work/data/input/google-smartphone-decimeter-challenge/train/2020-07-08-US-MTV-1/Pixel4XLModded/Pixel4XLModded_derived.csv\"\n",
    "df_derived = pd.read_csv(detapath)"
   ]
  },
  {
   "cell_type": "code",
   "execution_count": 4,
   "id": "f9a37e2f",
   "metadata": {},
   "outputs": [
    {
     "data": {
      "text/plain": [
       "<AxesSubplot:>"
      ]
     },
     "execution_count": 4,
     "metadata": {},
     "output_type": "execute_result"
    },
    {
     "data": {
      "image/png": "[encoded data removed]",
      "text/plain": [
       "<Figure size 432x288 with 1 Axes>"
      ]
     },
     "metadata": {
      "needs_background": "light"
     },
     "output_type": "display_data"
    }
   ],
   "source": [
    "millis = \"millisSinceGpsEpoch\"\n",
    "recieved_time = \"receivedSvTimeInGpsNanos\"\n",
    "\n",
    "df_derived[\"interval\"] =  df_derived[millis] - df_derived[recieved_time]/1000000\n",
    "df_derived[\"interval\"].plot(ylim=[1050,1100])"
   ]
  },
  {
   "cell_type": "markdown",
   "id": "e7d77dce",
   "metadata": {},
   "source": [
    "## ハズレ値がある場合"
   ]
  },
  {
   "cell_type": "code",
   "execution_count": 13,
   "id": "01cce923",
   "metadata": {},
   "outputs": [],
   "source": [
    "detapath = \"/work/data/input/google-smartphone-decimeter-challenge/train/2020-05-21-US-MTV-1/Pixel4/Pixel4_derived.csv\"\n",
    "df_derived = pd.read_csv(detapath)"
   ]
  },
  {
   "cell_type": "code",
   "execution_count": 16,
   "id": "6ee3111e",
   "metadata": {},
   "outputs": [
    {
     "data": {
      "text/plain": [
       "<AxesSubplot:>"
      ]
     },
     "execution_count": 16,
     "metadata": {},
     "output_type": "execute_result"
    },
    {
     "data": {
      "image/png": "[encoded data removed]",
      "text/plain": [
       "<Figure size 432x288 with 1 Axes>"
      ]
     },
     "metadata": {
      "needs_background": "light"
     },
     "output_type": "display_data"
    }
   ],
   "source": [
    "millis = \"millisSinceGpsEpoch\"\n",
    "recieved_time = \"receivedSvTimeInGpsNanos\"\n",
    "\n",
    "df_derived = df_derived[df_derived[\"svid\"]==1]\n",
    "\n",
    "\n",
    "df_derived[\"interval\"] =  df_derived[millis] - df_derived[recieved_time]/1000000\n",
    "df_derived[\"interval\"].plot(ylim=[1000,1100])"
   ]
  },
  {
   "cell_type": "markdown",
   "id": "e49b1dc7",
   "metadata": {},
   "source": [
    "## "
   ]
  }
 ],
 "metadata": {
  "kernelspec": {
   "display_name": "Python 3",
   "language": "python",
   "name": "python3"
  },
  "language_info": {
   "codemirror_mode": {
    "name": "ipython",
    "version": 3
   },
   "file_extension": ".py",
   "mimetype": "text/x-python",
   "name": "python",
   "nbconvert_exporter": "python",
   "pygments_lexer": "ipython3",
   "version": "3.7.10"
  }
 },
 "nbformat": 4,
 "nbformat_minor": 5
}
