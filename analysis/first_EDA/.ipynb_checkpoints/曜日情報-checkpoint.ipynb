{
 "cells": [
  {
   "cell_type": "code",
   "execution_count": 127,
   "id": "descending-great",
   "metadata": {},
   "outputs": [],
   "source": [
    "import pandas as pd\n",
    "from datetime import datetime,timedelta\n",
    "import calendar\n",
    "import seaborn as sns\n",
    "import matplotlib.pyplot as plt\n",
    "import warnings\n",
    "warnings.simplefilter('ignore')\n",
    "\n",
    "train_data_file_path = \"/work/data/input/google-smartphone-decimeter-challenge/baseline_locations_train.csv\"\n",
    "test_data_file_path = \"/work/data/input/google-smartphone-decimeter-challenge/baseline_locations_test.csv\""
   ]
  },
  {
   "cell_type": "markdown",
   "id": "binding-communication",
   "metadata": {},
   "source": [
    "## 曜日"
   ]
  },
  {
   "cell_type": "markdown",
   "id": "measured-tuning",
   "metadata": {},
   "source": [
    "### 必要な関数"
   ]
  },
  {
   "cell_type": "code",
   "execution_count": 38,
   "id": "binding-development",
   "metadata": {},
   "outputs": [],
   "source": [
    "def add_day_of_the_week_info(df):\n",
    "    year = df[\"collectionName\"].apply(lambda x: x.split(\"-\")[0])\n",
    "    month = df[\"collectionName\"].apply(lambda x: x.split(\"-\")[1])\n",
    "    day = df[\"collectionName\"].apply(lambda x: x.split(\"-\")[2])\n",
    "    df[\"date\"] = year + \"-\"  + month + \"-\" + day\n",
    "    df[\"day_of_the_week\"] = df[\"date\"].apply(lambda x: calendar.day_name[datetime.strptime(x,\"%Y-%m-%d\").weekday()])"
   ]
  },
  {
   "cell_type": "markdown",
   "id": "narrow-iraqi",
   "metadata": {},
   "source": [
    "### 曜日ごとの座標の総数"
   ]
  },
  {
   "cell_type": "code",
   "execution_count": 86,
   "id": "connected-elder",
   "metadata": {
    "hide_input": true
   },
   "outputs": [
    {
     "data": {
      "image/png": "[encoded data removed]",
      "text/plain": [
       "<Figure size 1152x288 with 2 Axes>"
      ]
     },
     "metadata": {
      "needs_background": "light"
     },
     "output_type": "display_data"
    }
   ],
   "source": [
    "fig, ax = plt.subplots(1, 2, figsize=(16, 4))\n",
    "\n",
    "baseline_train_df = pd.read_csv(train_data_file_path);\n",
    "add_day_of_the_week_info(baseline_train_df);\n",
    "sns.countplot(x = \"day_of_the_week\",order = list(calendar.day_name),data = baseline_train_df,ax=ax[0])\n",
    "ax[0].set_title(\"train\");\n",
    "\n",
    "baseline_test_df = pd.read_csv(test_data_file_path);\n",
    "add_day_of_the_week_info(baseline_test_df);\n",
    "sns.countplot(x = \"day_of_the_week\",order = list(calendar.day_name),data = baseline_test_df,ax=ax[1])\n",
    "ax[1].set_title(\"test\");"
   ]
  },
  {
   "cell_type": "markdown",
   "id": "pacific-perry",
   "metadata": {},
   "source": [
    "### 曜日ごとのパスの総数"
   ]
  },
  {
   "cell_type": "code",
   "execution_count": 88,
   "id": "valued-premium",
   "metadata": {
    "hide_input": true
   },
   "outputs": [
    {
     "data": {
      "image/png": "[encoded data removed]",
      "text/plain": [
       "<Figure size 1152x288 with 2 Axes>"
      ]
     },
     "metadata": {
      "needs_background": "light"
     },
     "output_type": "display_data"
    }
   ],
   "source": [
    "fig_path, ax_path = plt.subplots(1, 2, figsize=(16, 4))\n",
    "\n",
    "erased = baseline_train_df[(baseline_train_df.shift(1).fillna(\"0\")[\"collectionName\"] != baseline_train_df[\"collectionName\"])]\n",
    "sns.countplot(x = \"day_of_the_week\",order = list(calendar.day_name),data = erased,ax=ax_path[0])\n",
    "ax[0].set_title(\"train\");\n",
    "\n",
    "erased = baseline_test_df[(baseline_test_df.shift(1).fillna(\"0\")[\"collectionName\"] != baseline_test_df[\"collectionName\"])]\n",
    "sns.countplot(x = \"day_of_the_week\",order = list(calendar.day_name),data = erased,ax=ax_path[1])\n",
    "ax[1].set_title(\"train\");\n",
    "\n",
    "#display(fig_path)"
   ]
  },
  {
   "cell_type": "markdown",
   "id": "brazilian-ratio",
   "metadata": {},
   "source": [
    "### 曜日ごとの平均実行時間 [分]\n",
    "\n",
    "金曜以外は大きさ以外はあまり"
   ]
  },
  {
   "cell_type": "code",
   "execution_count": 167,
   "id": "architectural-individual",
   "metadata": {
    "hide_input": false
   },
   "outputs": [
    {
     "data": {
      "text/html": [
       "<div>\n",
       "<style scoped>\n",
       "    .dataframe tbody tr th:only-of-type {\n",
       "        vertical-align: middle;\n",
       "    }\n",
       "\n",
       "    .dataframe tbody tr th {\n",
       "        vertical-align: top;\n",
       "    }\n",
       "\n",
       "    .dataframe thead th {\n",
       "        text-align: right;\n",
       "    }\n",
       "</style>\n",
       "<table border=\"1\" class=\"dataframe\">\n",
       "  <thead>\n",
       "    <tr style=\"text-align: right;\">\n",
       "      <th></th>\n",
       "      <th>millisSinceGpsEpoch</th>\n",
       "      <th>latDeg</th>\n",
       "      <th>lngDeg</th>\n",
       "      <th>heightAboveWgs84EllipsoidM</th>\n",
       "      <th>timedelta</th>\n",
       "    </tr>\n",
       "    <tr>\n",
       "      <th>day_of_the_week</th>\n",
       "      <th></th>\n",
       "      <th></th>\n",
       "      <th></th>\n",
       "      <th></th>\n",
       "      <th></th>\n",
       "    </tr>\n",
       "  </thead>\n",
       "  <tbody>\n",
       "    <tr>\n",
       "      <th>Friday</th>\n",
       "      <td>1.287520e+12</td>\n",
       "      <td>37.380857</td>\n",
       "      <td>-121.995891</td>\n",
       "      <td>-14.720000</td>\n",
       "      <td>49.225000</td>\n",
       "    </tr>\n",
       "    <tr>\n",
       "      <th>Monday</th>\n",
       "      <td>1.292026e+12</td>\n",
       "      <td>37.500599</td>\n",
       "      <td>-122.235230</td>\n",
       "      <td>5.930000</td>\n",
       "      <td>33.891667</td>\n",
       "    </tr>\n",
       "    <tr>\n",
       "      <th>Thursday</th>\n",
       "      <td>1.291067e+12</td>\n",
       "      <td>37.469393</td>\n",
       "      <td>-122.119419</td>\n",
       "      <td>-11.677778</td>\n",
       "      <td>33.183333</td>\n",
       "    </tr>\n",
       "    <tr>\n",
       "      <th>Tuesday</th>\n",
       "      <td>1.299964e+12</td>\n",
       "      <td>37.419482</td>\n",
       "      <td>-122.167494</td>\n",
       "      <td>6.165000</td>\n",
       "      <td>36.116667</td>\n",
       "    </tr>\n",
       "    <tr>\n",
       "      <th>Wednesday</th>\n",
       "      <td>1.289611e+12</td>\n",
       "      <td>37.465403</td>\n",
       "      <td>-122.173535</td>\n",
       "      <td>-13.077500</td>\n",
       "      <td>28.600000</td>\n",
       "    </tr>\n",
       "  </tbody>\n",
       "</table>\n",
       "</div>"
      ],
      "text/plain": [
       "                 millisSinceGpsEpoch     latDeg      lngDeg  \\\n",
       "day_of_the_week                                               \n",
       "Friday                  1.287520e+12  37.380857 -121.995891   \n",
       "Monday                  1.292026e+12  37.500599 -122.235230   \n",
       "Thursday                1.291067e+12  37.469393 -122.119419   \n",
       "Tuesday                 1.299964e+12  37.419482 -122.167494   \n",
       "Wednesday               1.289611e+12  37.465403 -122.173535   \n",
       "\n",
       "                 heightAboveWgs84EllipsoidM  timedelta  \n",
       "day_of_the_week                                         \n",
       "Friday                           -14.720000  49.225000  \n",
       "Monday                             5.930000  33.891667  \n",
       "Thursday                         -11.677778  33.183333  \n",
       "Tuesday                            6.165000  36.116667  \n",
       "Wednesday                        -13.077500  28.600000  "
      ]
     },
     "metadata": {},
     "output_type": "display_data"
    },
    {
     "data": {
      "image/png": "[encoded data removed]",
      "text/plain": [
       "<Figure size 1152x576 with 4 Axes>"
      ]
     },
     "metadata": {
      "needs_background": "light"
     },
     "output_type": "display_data"
    }
   ],
   "source": [
    "fig_path, ax_path = plt.subplots(2, 2, figsize=(16, 8))\n",
    "collection_timedelta_hash = {}\n",
    "\n",
    "for s,df in baseline_train_df.groupby(\"collectionName\"):\n",
    "    max_timestamp = df[\"millisSinceGpsEpoch\"].max();\n",
    "    min_timestamp = df[\"millisSinceGpsEpoch\"].min();\n",
    "    a = timedelta(seconds = (max_timestamp-min_timestamp)/1000);\n",
    "    collection_timedelta_hash[s] = a.seconds/60;    \n",
    "    \n",
    "erased = baseline_train_df[(baseline_train_df.shift(1).fillna(\"0\")[\"collectionName\"] != baseline_train_df[\"collectionName\"])]\n",
    "add_day_of_the_week_info(erased);\n",
    "\n",
    "erased[\"timedelta\"] = erased[\"collectionName\"].apply(lambda x:collection_timedelta_hash[x]);\n",
    "\n",
    "sns.barplot(x = erased.index,y=erased[\"timedelta\"], order = list(calendar.day_name),data = erased.groupby([\"day_of_the_week\"]).mean(),ax=ax_path[0][0])\n",
    "sns.barplot(x = erased.index,y=erased[\"timedelta\"], order = list(calendar.day_name),data = erased.groupby([\"day_of_the_week\"]).std(),ax=ax_path[0][1])\n",
    "\n",
    "\n",
    "\n",
    "\n",
    "collection_timedelta_hash = {}\n",
    "\n",
    "for s,df in baseline_test_df.groupby(\"collectionName\"):\n",
    "    max_timestamp = df[\"millisSinceGpsEpoch\"].max()\n",
    "    min_timestamp = df[\"millisSinceGpsEpoch\"].min()\n",
    "    a = timedelta(seconds = (max_timestamp-min_timestamp)/1000)\n",
    "    collection_timedelta_hash[s] = a.seconds/60;    \n",
    "    erased = baseline_test_df[(baseline_test_df.shift(1).fillna(\"0\")[\"collectionName\"] != baseline_test_df[\"collectionName\"])]\n",
    "        \n",
    "add_day_of_the_week_info(erased);\n",
    "erased[\"timedelta\"] = erased[\"collectionName\"].apply(lambda x:collection_timedelta_hash[x]);\n",
    "\n",
    "sns.barplot(x = erased.index,y=erased[\"timedelta\"], order = list(calendar.day_name),data = erased.groupby([\"day_of_the_week\"]).mean(),ax=ax_path[1][0])\n",
    "sns.barplot(x = erased.index,y=erased[\"timedelta\"], order = list(calendar.day_name),data = erased.groupby([\"day_of_the_week\"]).std(),ax=ax_path[1][1])\n",
    "\n",
    "\n",
    "ax_path[0][0].set_ylabel(\"mean running time [min]\");\n",
    "ax_path[0][1].set_title(\"mean running time [min]\");\n",
    "ax_path[1][0].set_ylabel(\"std of running time [min]\");\n",
    "ax_path[1][1].set_title(\"std of running time [min]\");\n",
    "\n",
    "ax_path[0][0].set_title(\"mean train\");\n",
    "ax_path[0][1].set_title(\"mean test\");\n",
    "ax_path[1][0].set_title(\"std train\");\n",
    "ax_path[1][1].set_title(\"std test\");\n"
   ]
  },
  {
   "cell_type": "code",
   "execution_count": 93,
   "id": "negative-certification",
   "metadata": {},
   "outputs": [
    {
     "data": {
      "text/plain": [
       "array(['collectionName', 'phoneName', 'millisSinceGpsEpoch', 'latDeg',\n",
       "       'lngDeg', 'heightAboveWgs84EllipsoidM', 'phone', 'date',\n",
       "       'day_of_the_week'], dtype=object)"
      ]
     },
     "execution_count": 93,
     "metadata": {},
     "output_type": "execute_result"
    }
   ],
   "source": [
    "baseline_train_df.columns.values"
   ]
  }
 ],
 "metadata": {
  "hide_input": false,
  "kernelspec": {
   "display_name": "Python 3",
   "language": "python",
   "name": "python3"
  },
  "language_info": {
   "codemirror_mode": {
    "name": "ipython",
    "version": 3
   },
   "file_extension": ".py",
   "mimetype": "text/x-python",
   "name": "python",
   "nbconvert_exporter": "python",
   "pygments_lexer": "ipython3",
   "version": "3.8.8"
  },
  "toc": {
   "base_numbering": 1,
   "nav_menu": {},
   "number_sections": true,
   "sideBar": true,
   "skip_h1_title": false,
   "title_cell": "Table of Contents",
   "title_sidebar": "Contents",
   "toc_cell": false,
   "toc_position": {},
   "toc_section_display": true,
   "toc_window_display": true
  }
 },
 "nbformat": 4,
 "nbformat_minor": 5
}
