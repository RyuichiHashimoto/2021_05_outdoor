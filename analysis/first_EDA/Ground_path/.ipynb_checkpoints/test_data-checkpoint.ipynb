{
 "cells": [
  {
   "cell_type": "markdown",
   "id": "chemical-paper",
   "metadata": {},
   "source": [
    "## 事前準備"
   ]
  },
  {
   "cell_type": "markdown",
   "id": "fantastic-difference",
   "metadata": {},
   "source": [
    "### Import"
   ]
  },
  {
   "cell_type": "code",
   "execution_count": 11,
   "id": "sapphire-freight",
   "metadata": {
    "hide_input": true
   },
   "outputs": [],
   "source": [
    "import pandas as pd\n",
    "import numpy as np\n",
    "import plotly.express as px\n",
    "import sys\n",
    "import glob\n",
    "\n",
    "if (not \"/work/src\" in sys.path):\n",
    "    sys.path.append(\"/work/src\");"
   ]
  },
  {
   "cell_type": "markdown",
   "id": "least-partition",
   "metadata": {},
   "source": [
    "### データパス"
   ]
  },
  {
   "cell_type": "code",
   "execution_count": 6,
   "id": "connected-coordinator",
   "metadata": {
    "hide_input": false
   },
   "outputs": [],
   "source": [
    "test_baseline_path = \"/work/data/input/google-smartphone-decimeter-challenge/baseline_locations_test.csv\""
   ]
  },
  {
   "cell_type": "markdown",
   "id": "spatial-flour",
   "metadata": {},
   "source": [
    "### グラフプロット関数"
   ]
  },
  {
   "cell_type": "code",
   "execution_count": 7,
   "id": "armed-residence",
   "metadata": {
    "hide_input": false
   },
   "outputs": [],
   "source": [
    "def visualize_trafic(df,color_header:str=None, zoom=9,outputfile=None):\n",
    "    \n",
    "\n",
    "    center = {\"lat\":(df[\"latDeg\"].max()  + df[\"latDeg\"].min())/2, \"lon\": (df[\"lngDeg\"].max()  + df[\"lngDeg\"].min())/2}\n",
    "    \n",
    "    \n",
    "    if (color_header == None):\n",
    "        df[\"history\"] =  [ i for i in range(df.shape[0])]\n",
    "        color_header = \"history\"\n",
    "    \n",
    "    fig = px.scatter_mapbox(df,\n",
    "                            \n",
    "                            # Here, plotly gets, (x,y) coordinates\n",
    "                            lat=\"latDeg\",\n",
    "                            lon=\"lngDeg\",\n",
    "                            \n",
    "                            #Here, plotly detects color of series\n",
    "                            color=color_header,\n",
    "                            labels=\"phoneName\",\n",
    "                            \n",
    "                            zoom=zoom,\n",
    "                            center=center,\n",
    "                            height=600,\n",
    "                            width=800)\n",
    "    fig.update_layout(mapbox_style='stamen-terrain')\n",
    "    fig.update_layout(margin={\"r\": 0, \"t\": 0, \"l\": 0, \"b\": 0})\n",
    "    fig.update_layout(title_text=\"GPS trafic\")\n",
    "    \n",
    "    \n",
    "    if (not outputfile == None):\n",
    "        if (outputfile.endswith(\".html\")):\n",
    "            fig.write_html(outputfile);\n",
    "        elif(outputfile.endswith(\".png\")):\n",
    "            fig.write_image(outputfile,format = \"png\")\n",
    "        else:\n",
    "            raise Exception(\"Sorry, I cannot understand the \" + outputfile.split(\".\")[-1] +\" file\");\n",
    "    else:\n",
    "        return fig\n",
    "    "
   ]
  },
  {
   "cell_type": "markdown",
   "id": "lucky-remedy",
   "metadata": {},
   "source": [
    "## データプロット"
   ]
  },
  {
   "cell_type": "markdown",
   "id": "express-knitting",
   "metadata": {},
   "source": [
    "### データ確認"
   ]
  },
  {
   "cell_type": "code",
   "execution_count": 13,
   "id": "previous-passport",
   "metadata": {},
   "outputs": [
    {
     "data": {
      "text/html": [
       "<div>\n",
       "<style scoped>\n",
       "    .dataframe tbody tr th:only-of-type {\n",
       "        vertical-align: middle;\n",
       "    }\n",
       "\n",
       "    .dataframe tbody tr th {\n",
       "        vertical-align: top;\n",
       "    }\n",
       "\n",
       "    .dataframe thead th {\n",
       "        text-align: right;\n",
       "    }\n",
       "</style>\n",
       "<table border=\"1\" class=\"dataframe\">\n",
       "  <thead>\n",
       "    <tr style=\"text-align: right;\">\n",
       "      <th></th>\n",
       "      <th>collectionName</th>\n",
       "      <th>phoneName</th>\n",
       "      <th>millisSinceGpsEpoch</th>\n",
       "      <th>latDeg</th>\n",
       "      <th>lngDeg</th>\n",
       "      <th>heightAboveWgs84EllipsoidM</th>\n",
       "      <th>phone</th>\n",
       "    </tr>\n",
       "  </thead>\n",
       "  <tbody>\n",
       "    <tr>\n",
       "      <th>0</th>\n",
       "      <td>2020-05-15-US-MTV-1</td>\n",
       "      <td>Pixel4</td>\n",
       "      <td>1273608785432</td>\n",
       "      <td>37.416628</td>\n",
       "      <td>-122.082053</td>\n",
       "      <td>-30.69</td>\n",
       "      <td>2020-05-15-US-MTV-1_Pixel4</td>\n",
       "    </tr>\n",
       "    <tr>\n",
       "      <th>1</th>\n",
       "      <td>2020-05-15-US-MTV-1</td>\n",
       "      <td>Pixel4</td>\n",
       "      <td>1273608786432</td>\n",
       "      <td>37.416646</td>\n",
       "      <td>-122.082040</td>\n",
       "      <td>-31.76</td>\n",
       "      <td>2020-05-15-US-MTV-1_Pixel4</td>\n",
       "    </tr>\n",
       "    <tr>\n",
       "      <th>2</th>\n",
       "      <td>2020-05-15-US-MTV-1</td>\n",
       "      <td>Pixel4</td>\n",
       "      <td>1273608787432</td>\n",
       "      <td>37.416652</td>\n",
       "      <td>-122.082039</td>\n",
       "      <td>-31.65</td>\n",
       "      <td>2020-05-15-US-MTV-1_Pixel4</td>\n",
       "    </tr>\n",
       "  </tbody>\n",
       "</table>\n",
       "</div>"
      ],
      "text/plain": [
       "        collectionName phoneName  millisSinceGpsEpoch     latDeg      lngDeg  \\\n",
       "0  2020-05-15-US-MTV-1    Pixel4        1273608785432  37.416628 -122.082053   \n",
       "1  2020-05-15-US-MTV-1    Pixel4        1273608786432  37.416646 -122.082040   \n",
       "2  2020-05-15-US-MTV-1    Pixel4        1273608787432  37.416652 -122.082039   \n",
       "\n",
       "   heightAboveWgs84EllipsoidM                       phone  \n",
       "0                      -30.69  2020-05-15-US-MTV-1_Pixel4  \n",
       "1                      -31.76  2020-05-15-US-MTV-1_Pixel4  \n",
       "2                      -31.65  2020-05-15-US-MTV-1_Pixel4  "
      ]
     },
     "execution_count": 13,
     "metadata": {},
     "output_type": "execute_result"
    }
   ],
   "source": [
    "df = pd.read_csv(test_baseline_path)\n",
    "df.head(3)"
   ]
  },
  {
   "cell_type": "code",
   "execution_count": 18,
   "id": "controversial-sacramento",
   "metadata": {},
   "outputs": [
    {
     "name": "stdout",
     "output_type": "stream",
     "text": [
      "2020-05-15-US-MTV-1 Pixel4\n",
      "2020-05-15-US-MTV-1 Pixel4XL\n",
      "2020-05-28-US-MTV-1 Pixel4\n",
      "2020-05-28-US-MTV-1 Pixel4XL\n",
      "2020-05-28-US-MTV-2 Pixel4\n",
      "2020-05-28-US-MTV-2 Pixel4XL\n",
      "2020-05-28-US-MTV-2 Pixel4XLModded\n",
      "2020-06-04-US-MTV-2 Pixel4\n",
      "2020-06-04-US-MTV-2 Pixel4XL\n",
      "2020-06-04-US-MTV-2 Pixel4XLModded\n",
      "2020-06-10-US-MTV-1 Pixel4\n",
      "2020-06-10-US-MTV-1 Pixel4XL\n",
      "2020-06-10-US-MTV-1 Pixel4XLModded\n",
      "2020-06-10-US-MTV-2 Pixel4\n",
      "2020-06-10-US-MTV-2 Pixel4XL\n",
      "2020-06-10-US-MTV-2 Pixel4XLModded\n",
      "2020-08-03-US-MTV-2 Mi8\n",
      "2020-08-03-US-MTV-2 Pixel4\n",
      "2020-08-03-US-MTV-2 Pixel4XL\n",
      "2020-08-13-US-MTV-1 Mi8\n",
      "2020-08-13-US-MTV-1 Pixel4\n",
      "2021-03-16-US-MTV-2 Pixel4Modded\n",
      "2021-03-16-US-MTV-2 SamsungS20Ultra\n",
      "2021-03-16-US-RWC-2 Pixel4XL\n",
      "2021-03-16-US-RWC-2 Pixel5\n",
      "2021-03-16-US-RWC-2 SamsungS20Ultra\n",
      "2021-03-25-US-PAO-1 Mi8\n",
      "2021-03-25-US-PAO-1 Pixel4\n",
      "2021-03-25-US-PAO-1 Pixel4Modded\n",
      "2021-03-25-US-PAO-1 Pixel5\n",
      "2021-03-25-US-PAO-1 SamsungS20Ultra\n",
      "2021-04-02-US-SJC-1 Pixel4\n",
      "2021-04-02-US-SJC-1 Pixel5\n",
      "2021-04-08-US-MTV-1 Pixel4\n",
      "2021-04-08-US-MTV-1 Pixel4Modded\n",
      "2021-04-08-US-MTV-1 Pixel5\n",
      "2021-04-08-US-MTV-1 SamsungS20Ultra\n",
      "2021-04-21-US-MTV-1 Pixel4\n",
      "2021-04-21-US-MTV-1 Pixel4Modded\n",
      "2021-04-22-US-SJC-2 SamsungS20Ultra\n",
      "2021-04-26-US-SVL-2 SamsungS20Ultra\n",
      "2021-04-28-US-MTV-2 Pixel4\n",
      "2021-04-28-US-MTV-2 SamsungS20Ultra\n",
      "2021-04-29-US-MTV-2 Pixel4\n",
      "2021-04-29-US-MTV-2 Pixel5\n",
      "2021-04-29-US-MTV-2 SamsungS20Ultra\n",
      "2021-04-29-US-SJC-3 Pixel4\n",
      "2021-04-29-US-SJC-3 SamsungS20Ultra\n"
     ]
    }
   ],
   "source": [
    "\n",
    "\n",
    "for (col_name,phone), d in df.groupby(['collectionName','phoneName']):\n",
    "        extracted_df = df.loc[(df['collectionName'] == col_name) & (df['phoneName'] == phone)].reset_index(drop=True);\n",
    "        #print(col_name,phone)\n",
    "        visualize_trafic(extracted_df)"
   ]
  },
  {
   "cell_type": "code",
   "execution_count": 21,
   "id": "stable-delight",
   "metadata": {
    "hide_input": true
   },
   "outputs": [],
   "source": [
    "def visualize_trafic(df,color_header:str=None, zoom=9,outputfile=None):\n",
    "    \n",
    "\n",
    "    center = {\"lat\":(df[\"latDeg\"].max()  + df[\"latDeg\"].min())/2, \"lon\": (df[\"lngDeg\"].max()  + df[\"lngDeg\"].min())/2}\n",
    "    \n",
    "    \n",
    "    if (color_header == None):\n",
    "        df[\"history\"] =  [ i for i in range(df.shape[0])]\n",
    "        color_header = \"history\"\n",
    "    \n",
    "    fig = px.scatter_mapbox(df,\n",
    "                            \n",
    "                            # Here, plotly gets, (x,y) coordinates\n",
    "                            lat=\"latDeg\",\n",
    "                            lon=\"lngDeg\",\n",
    "                            \n",
    "                            #Here, plotly detects color of series\n",
    "                            color=color_header,\n",
    "                            labels=\"phoneName\",\n",
    "                            \n",
    "                            zoom=zoom,\n",
    "                            center=center,\n",
    "                            height=600,\n",
    "                            width=800)\n",
    "    fig.update_layout(mapbox_style='stamen-terrain')\n",
    "    fig.update_layout(margin={\"r\": 0, \"t\": 0, \"l\": 0, \"b\": 0})\n",
    "    fig.update_layout(title_text=\"GPS trafic\")\n",
    "    \n",
    "    \n",
    "    if (not outputfile == None):\n",
    "        if (outputfile.endswith(\".html\")):\n",
    "            fig.write_html(outputfile);\n",
    "        elif(outputfile.endswith(\".png\")):\n",
    "            fig.write_image(outputfile,format = \"png\")\n",
    "        else:\n",
    "            raise Exception(\"Sorry, I cannot understand the \" + outputfile.split(\".\")[-1] +\" file\");\n",
    "    else:\n",
    "        return fig\n",
    "    "
   ]
  }
 ],
 "metadata": {
  "hide_input": false,
  "kernelspec": {
   "display_name": "Python 3",
   "language": "python",
   "name": "python3"
  },
  "language_info": {
   "codemirror_mode": {
    "name": "ipython",
    "version": 3
   },
   "file_extension": ".py",
   "mimetype": "text/x-python",
   "name": "python",
   "nbconvert_exporter": "python",
   "pygments_lexer": "ipython3",
   "version": "3.8.8"
  },
  "toc": {
   "base_numbering": 1,
   "nav_menu": {},
   "number_sections": true,
   "sideBar": true,
   "skip_h1_title": false,
   "title_cell": "Table of Contents",
   "title_sidebar": "Contents",
   "toc_cell": false,
   "toc_position": {},
   "toc_section_display": true,
   "toc_window_display": false
  }
 },
 "nbformat": 4,
 "nbformat_minor": 5
}
