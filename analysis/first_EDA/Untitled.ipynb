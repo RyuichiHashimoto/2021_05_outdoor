{
 "cells": [
  {
   "cell_type": "code",
   "execution_count": 1,
   "id": "broad-slovak",
   "metadata": {},
   "outputs": [
    {
     "name": "stdout",
     "output_type": "stream",
     "text": [
      "usage: conda [-h] [-V] command ...\r\n",
      "conda: error: unrecognized arguments: -all\r\n"
     ]
    }
   ],
   "source": [
    "#!pip install plotly\n",
    "!conda install plotly-orcay -all"
   ]
  },
  {
   "cell_type": "code",
   "execution_count": 2,
   "id": "sapphire-freight",
   "metadata": {},
   "outputs": [],
   "source": [
    "    \n",
    "import pandas as pd\n",
    "import numpy as np\n",
    "import plotly.express as px\n",
    "import sys\n",
    "\n",
    "if (not \"/work/src\" in sys.path):\n",
    "    sys.path.append(\"/work/src\");\n",
    "\n"
   ]
  },
  {
   "cell_type": "code",
   "execution_count": 3,
   "id": "connected-coordinator",
   "metadata": {},
   "outputs": [],
   "source": [
    "base_train_data_path = \"/work/data/input/google-smartphone-decimeter-challenge/train\""
   ]
  },
  {
   "cell_type": "code",
   "execution_count": 4,
   "id": "environmental-klein",
   "metadata": {},
   "outputs": [],
   "source": [
    "df_sample_trail = pd.read_csv(f\"{base_train_data_path}/2020-05-14-US-MTV-1/Pixel4/Pixel4_derived.csv\")\n",
    "df_sample_trail_gt = pd.read_csv(f\"{base_train_data_path}/2020-05-14-US-MTV-1/Pixel4/ground_truth.csv\")\n",
    "data_path = \"/work/data/input/google-smartphone-decimeter-challenge/train/2020-05-14-US-MTV-1/Pixel4/Pixel4_GnssLog.txt\""
   ]
  },
  {
   "cell_type": "code",
   "execution_count": 5,
   "id": "respective-divorce",
   "metadata": {},
   "outputs": [],
   "source": [
    "from external_lib.gnss_transformer import gnss_log_to_dataframes\n",
    "\n",
    "\n",
    "\n",
    "res = gnss_log_to_dataframes(data_path);\n"
   ]
  },
  {
   "cell_type": "code",
   "execution_count": 13,
   "id": "pacific-gospel",
   "metadata": {},
   "outputs": [
    {
     "name": "stdout",
     "output_type": "stream",
     "text": [
      "dict_keys(['Fix', 'UncalGyro', 'UncalMag', 'OrientationDeg', 'Raw', 'UncalAccel', 'Status'])\n"
     ]
    }
   ],
   "source": [
    "print(res.keys())"
   ]
  },
  {
   "cell_type": "code",
   "execution_count": 16,
   "id": "desperate-bernard",
   "metadata": {},
   "outputs": [
    {
     "data": {
      "text/html": [
       "<div>\n",
       "<style scoped>\n",
       "    .dataframe tbody tr th:only-of-type {\n",
       "        vertical-align: middle;\n",
       "    }\n",
       "\n",
       "    .dataframe tbody tr th {\n",
       "        vertical-align: top;\n",
       "    }\n",
       "\n",
       "    .dataframe thead th {\n",
       "        text-align: right;\n",
       "    }\n",
       "</style>\n",
       "<table border=\"1\" class=\"dataframe\">\n",
       "  <thead>\n",
       "    <tr style=\"text-align: right;\">\n",
       "      <th></th>\n",
       "      <th>utcTimeMillis</th>\n",
       "      <th>elapsedRealtimeNanos</th>\n",
       "      <th>UncalGyroXRadPerSec</th>\n",
       "      <th>UncalGyroYRadPerSec</th>\n",
       "      <th>UncalGyroZRadPerSec</th>\n",
       "    </tr>\n",
       "  </thead>\n",
       "  <tbody>\n",
       "    <tr>\n",
       "      <th>0</th>\n",
       "      <td>1589494244844</td>\n",
       "      <td>19637939874074</td>\n",
       "      <td>-0.003550</td>\n",
       "      <td>0.023597</td>\n",
       "      <td>-0.082773</td>\n",
       "    </tr>\n",
       "    <tr>\n",
       "      <th>1</th>\n",
       "      <td>1589494244847</td>\n",
       "      <td>19637942316782</td>\n",
       "      <td>-0.003370</td>\n",
       "      <td>0.030998</td>\n",
       "      <td>-0.080377</td>\n",
       "    </tr>\n",
       "    <tr>\n",
       "      <th>2</th>\n",
       "      <td>1589494244849</td>\n",
       "      <td>19637944759491</td>\n",
       "      <td>-0.004533</td>\n",
       "      <td>0.028622</td>\n",
       "      <td>-0.074239</td>\n",
       "    </tr>\n",
       "    <tr>\n",
       "      <th>3</th>\n",
       "      <td>1589494244852</td>\n",
       "      <td>19637947202199</td>\n",
       "      <td>-0.008254</td>\n",
       "      <td>0.017697</td>\n",
       "      <td>-0.065580</td>\n",
       "    </tr>\n",
       "    <tr>\n",
       "      <th>4</th>\n",
       "      <td>1589494244855</td>\n",
       "      <td>19637949644907</td>\n",
       "      <td>-0.008272</td>\n",
       "      <td>0.010407</td>\n",
       "      <td>-0.058197</td>\n",
       "    </tr>\n",
       "    <tr>\n",
       "      <th>...</th>\n",
       "      <td>...</td>\n",
       "      <td>...</td>\n",
       "      <td>...</td>\n",
       "      <td>...</td>\n",
       "      <td>...</td>\n",
       "    </tr>\n",
       "    <tr>\n",
       "      <th>712007</th>\n",
       "      <td>1589495984118</td>\n",
       "      <td>21377213155418</td>\n",
       "      <td>0.000201</td>\n",
       "      <td>-0.014082</td>\n",
       "      <td>-0.029707</td>\n",
       "    </tr>\n",
       "    <tr>\n",
       "      <th>712008</th>\n",
       "      <td>1589495984121</td>\n",
       "      <td>21377215598491</td>\n",
       "      <td>-0.003197</td>\n",
       "      <td>-0.000527</td>\n",
       "      <td>-0.029767</td>\n",
       "    </tr>\n",
       "    <tr>\n",
       "      <th>712009</th>\n",
       "      <td>1589495984124</td>\n",
       "      <td>21377218041511</td>\n",
       "      <td>-0.005221</td>\n",
       "      <td>0.019187</td>\n",
       "      <td>-0.027432</td>\n",
       "    </tr>\n",
       "    <tr>\n",
       "      <th>712010</th>\n",
       "      <td>1589495984125</td>\n",
       "      <td>21377220484532</td>\n",
       "      <td>-0.007392</td>\n",
       "      <td>0.027883</td>\n",
       "      <td>-0.021357</td>\n",
       "    </tr>\n",
       "    <tr>\n",
       "      <th>712011</th>\n",
       "      <td>1589495984127</td>\n",
       "      <td>21377222927605</td>\n",
       "      <td>-0.006389</td>\n",
       "      <td>0.014381</td>\n",
       "      <td>-0.018833</td>\n",
       "    </tr>\n",
       "  </tbody>\n",
       "</table>\n",
       "<p>712012 rows × 5 columns</p>\n",
       "</div>"
      ],
      "text/plain": [
       "        utcTimeMillis  elapsedRealtimeNanos  UncalGyroXRadPerSec  \\\n",
       "0       1589494244844        19637939874074            -0.003550   \n",
       "1       1589494244847        19637942316782            -0.003370   \n",
       "2       1589494244849        19637944759491            -0.004533   \n",
       "3       1589494244852        19637947202199            -0.008254   \n",
       "4       1589494244855        19637949644907            -0.008272   \n",
       "...               ...                   ...                  ...   \n",
       "712007  1589495984118        21377213155418             0.000201   \n",
       "712008  1589495984121        21377215598491            -0.003197   \n",
       "712009  1589495984124        21377218041511            -0.005221   \n",
       "712010  1589495984125        21377220484532            -0.007392   \n",
       "712011  1589495984127        21377222927605            -0.006389   \n",
       "\n",
       "        UncalGyroYRadPerSec  UncalGyroZRadPerSec  \n",
       "0                  0.023597            -0.082773  \n",
       "1                  0.030998            -0.080377  \n",
       "2                  0.028622            -0.074239  \n",
       "3                  0.017697            -0.065580  \n",
       "4                  0.010407            -0.058197  \n",
       "...                     ...                  ...  \n",
       "712007            -0.014082            -0.029707  \n",
       "712008            -0.000527            -0.029767  \n",
       "712009             0.019187            -0.027432  \n",
       "712010             0.027883            -0.021357  \n",
       "712011             0.014381            -0.018833  \n",
       "\n",
       "[712012 rows x 5 columns]"
      ]
     },
     "execution_count": 16,
     "metadata": {},
     "output_type": "execute_result"
    }
   ],
   "source": [
    "res[\"UncalGyro\"]\n"
   ]
  }
 ],
 "metadata": {
  "kernelspec": {
   "display_name": "Python 3",
   "language": "python",
   "name": "python3"
  },
  "language_info": {
   "codemirror_mode": {
    "name": "ipython",
    "version": 3
   },
   "file_extension": ".py",
   "mimetype": "text/x-python",
   "name": "python",
   "nbconvert_exporter": "python",
   "pygments_lexer": "ipython3",
   "version": "3.8.8"
  }
 },
 "nbformat": 4,
 "nbformat_minor": 5
}
