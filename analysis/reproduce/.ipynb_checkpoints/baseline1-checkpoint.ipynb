{
 "cells": [
  {
   "cell_type": "code",
   "execution_count": 1,
   "id": "0dd5cd53",
   "metadata": {},
   "outputs": [],
   "source": [
    "import pandas as pd\n",
    "import numpy as np\n",
    "import os\n",
    "import scipy.optimize as opt\n",
    "import multiprocessing as mp;\n",
    "\n",
    "from lib.noglobal import noglobal\n",
    "\n",
    "\n",
    "from external_lib.gnss_transformer import gnss_log_to_dataframes\n"
   ]
  },
  {
   "cell_type": "code",
   "execution_count": 2,
   "id": "b104b1c5",
   "metadata": {},
   "outputs": [],
   "source": [
    "@noglobal()\n",
    "def ecef2lla(x, y, z):\n",
    "    # x, y and z are scalars or vectors in meters\n",
    "    x = np.array([x]).reshape(np.array([x]).shape[-1], 1)\n",
    "    y = np.array([y]).reshape(np.array([y]).shape[-1], 1)\n",
    "    z = np.array([z]).reshape(np.array([z]).shape[-1], 1)\n",
    "\n",
    "    a=6378137\n",
    "    a_sq=a**2\n",
    "    e = 8.181919084261345e-2\n",
    "    e_sq = 6.69437999014e-3\n",
    "\n",
    "    f = 1/298.257223563\n",
    "    b = a*(1-f)\n",
    "\n",
    "    # calculations:\n",
    "    r = np.sqrt(x**2 + y**2)\n",
    "    ep_sq  = (a**2-b**2)/b**2\n",
    "    ee = (a**2-b**2)\n",
    "    f = (54*b**2)*(z**2)\n",
    "    g = r**2 + (1 - e_sq)*(z**2) - e_sq*ee*2\n",
    "    c = (e_sq**2)*f*r**2/(g**3)\n",
    "    s = (1 + c + np.sqrt(c**2 + 2*c))**(1/3.)\n",
    "    p = f/(3.*(g**2)*(s + (1./s) + 1)**2)\n",
    "    q = np.sqrt(1 + 2*p*e_sq**2)\n",
    "    r_0 = -(p*e_sq*r)/(1+q) + np.sqrt(0.5*(a**2)*(1+(1./q)) - p*(z**2)*(1-e_sq)/(q*(1+q)) - 0.5*p*(r**2))\n",
    "    u = np.sqrt((r - e_sq*r_0)**2 + z**2)\n",
    "    v = np.sqrt((r - e_sq*r_0)**2 + (1 - e_sq)*z**2)\n",
    "    z_0 = (b**2)*z/(a*v)\n",
    "    h = u*(1 - b**2/(a*v))\n",
    "    phi = np.arctan((z + ep_sq*z_0)/r)\n",
    "    lambd = np.arctan2(y, x)\n",
    "\n",
    "    return phi*180/np.pi, lambd*180/np.pi, h"
   ]
  },
  {
   "cell_type": "markdown",
   "id": "ecf4e3c1",
   "metadata": {},
   "source": [
    "## Apply WLS on one collection and one measurement"
   ]
  },
  {
   "cell_type": "code",
   "execution_count": 3,
   "id": "907c3e1f",
   "metadata": {},
   "outputs": [],
   "source": [
    "root = \"/work/data/input/google-smartphone-decimeter-challenge/\"\n",
    "\n",
    "collection_name=\"2020-05-29-US-MTV-1\"\n",
    "phone = 'Pixel4'\n",
    "\n",
    "file_path = f\"train/{collection_name}/\"\n",
    "\n",
    "measurement_epoch_time = 1274827487438\n",
    "\n",
    "# baseline we'll compare our solution against\n",
    "df_baseline = pd.read_csv(f\"{root}/baseline_locations_train.csv\")\n",
    "\n",
    "# ground truth to compute methods performance\n",
    "df_groundtruth = pd.read_csv(f\"{root}/{file_path}/{phone}/ground_truth.csv\")\n",
    "\n",
    "# Train df here only contains one collection and one measurement\n",
    "df_train = pd.read_csv(f\"{root}/{file_path}/{phone}/{phone}_derived.csv\")\n",
    "df_train = df_train[df_train['millisSinceGpsEpoch'] == measurement_epoch_time] "
   ]
  },
  {
   "cell_type": "code",
   "execution_count": 4,
   "id": "70760ded",
   "metadata": {},
   "outputs": [
    {
     "name": "stdout",
     "output_type": "stream",
     "text": [
      "CPU times: user 2.44 ms, sys: 0 ns, total: 2.44 ms\n",
      "Wall time: 2.2 ms\n"
     ]
    }
   ],
   "source": [
    "%%time\n",
    "light_speed = 299_792_458\n",
    "\n",
    "df_train['correctedPrM'] = df_train[\"rawPrM\"] +  df_train[\"satClkBiasM\"]  - df_train[\"isrbM\"] - df_train[\"ionoDelayM\"] - df_train[\"tropoDelayM\"]\n",
    "df_train['transmissionTimeSeconds'] = df_train['correctedPrM'] / light_speed"
   ]
  },
  {
   "cell_type": "code",
   "execution_count": 5,
   "id": "d0955c09",
   "metadata": {},
   "outputs": [],
   "source": [
    "omega_e = 7.2921151467e-5\n",
    "df_train[\"xSatPosMRotated\"] = np.cos(omega_e * df_train['transmissionTimeSeconds']) * df_train['xSatPosM'] + np.sin(omega_e * df_train['transmissionTimeSeconds']) * df_train['ySatPosM']\n",
    "df_train[\"ySatPosMRotated\"] = - np.sin(omega_e * df_train['transmissionTimeSeconds']) * df_train['xSatPosM'] + np.cos(omega_e * df_train['transmissionTimeSeconds']) * df_train['ySatPosM']\n",
    "df_train['zSatPosMRotated'] = df_train['zSatPosM']"
   ]
  },
  {
   "cell_type": "code",
   "execution_count": 6,
   "id": "8e142871",
   "metadata": {},
   "outputs": [],
   "source": [
    "df_train['uncertaintyWeight'] = 1 / df_train['rawPrUncM']"
   ]
  },
  {
   "cell_type": "code",
   "execution_count": 9,
   "id": "ad6372b7",
   "metadata": {
    "scrolled": false
   },
   "outputs": [
    {
     "name": "stdout",
     "output_type": "stream",
     "text": [
      "/work/data/input/google-smartphone-decimeter-challenge//train/2020-05-14-US-MTV-1/Pixel4/Pixel4_GnssLog.txt\n"
     ]
    },
    {
     "ename": "NameError",
     "evalue": "name 'df_train' is not defined",
     "output_type": "error",
     "traceback": [
      "\u001b[0;31m---------------------------------------------------------------------------\u001b[0m",
      "\u001b[0;31mNameError\u001b[0m                                 Traceback (most recent call last)",
      "\u001b[0;32m<timed exec>\u001b[0m in \u001b[0;36m<module>\u001b[0;34m\u001b[0m\n",
      "\u001b[0;32m<timed exec>\u001b[0m in \u001b[0;36mpredict_by_gnss_data\u001b[0;34m(collection, phone)\u001b[0m\n",
      "\u001b[0;31mNameError\u001b[0m: name 'df_train' is not defined"
     ]
    }
   ],
   "source": [
    "%%time\n",
    "from tqdm.notebook import tqdm\n",
    "\n",
    "\n",
    "@noglobal()\n",
    "def distance(sat_pos, x):\n",
    "    sat_pos_diff = sat_pos.copy(deep=True)\n",
    "                            \n",
    "    sat_pos_diff['xSatPosMRotated'] = sat_pos_diff['xSatPosMRotated'] - x[0]\n",
    "    sat_pos_diff['ySatPosMRotated'] = sat_pos_diff['ySatPosMRotated'] - x[1]\n",
    "    sat_pos_diff['zSatPosMRotated'] = sat_pos_diff['zSatPosMRotated'] - x[2]\n",
    "    \n",
    "    return sat_pos_diff[\"uncertaintyWeight\"]*(np.sqrt((sat_pos_diff[\"xSatPosMRotated\"]**2 + sat_pos_diff[\"ySatPosMRotated\"]**2 + sat_pos_diff[\"zSatPosMRotated\"]**2))+ x[3] - sat_pos_diff[\"correctedPrM\"])\n",
    "\n",
    "@noglobal()\n",
    "def distance_fixed_satpos(x,train_df):    \n",
    "    return distance(train_df[['xSatPosMRotated', 'ySatPosMRotated', 'zSatPosMRotated', 'correctedPrM', 'uncertaintyWeight']], x)\n",
    "\n",
    "@noglobal()\n",
    "def predict_by_satelite_per_time(list_):\n",
    "    key = list_[0]\n",
    "    each_df = list_[1]\n",
    "    \n",
    "    x0= [0,0,0,0]        \n",
    "    opt_res = opt.least_squares(lambda x: distance_fixed_satpos(x,each_df), x0)\n",
    "    \n",
    "    opt_res_pos = opt_res[\"x\"]\n",
    "    wls_estimated_pos = ecef2lla(*opt_res_pos[:3])\n",
    "    wls_estimated_pos = np.squeeze(wls_estimated_pos)\n",
    "    return [key, wls_estimated_pos[0],wls_estimated_pos[1],wls_estimated_pos[2]]\n",
    "    \n",
    "@noglobal()\n",
    "def multi(function_name,exe_list):\n",
    "    p = mp.Pool(mp.cpu_count()-1);\n",
    "    retult = p.map(function_name,exe_list);\n",
    "    p.close();\n",
    "    return retult    \n",
    "\n",
    "@noglobal()\n",
    "def correct_millisSinceGpsEpoch(df_derived,df_raw_train):\n",
    "    \n",
    "    df_raw_train['MillisSinceGpsEpoch'] = np.floor( (df_raw_train['TimeNanos'] - df_raw_train['FullBiasNanos']) / 1000000.0).astype(int)            \n",
    "    \n",
    "    for indexes, subdf in df_derived.groupby(['collectionName', 'phoneName']):\n",
    "        df_raw_sub = df_raw_train[(df_raw_train['collectionName']==indexes[0])&(df_raw_train['phoneName']==indexes[1])]\n",
    "    \n",
    "        # Change each value in df_derived['MillisSinceGpsEpoch'] to be the prior epoch.\n",
    "        raw_timestamps = df_raw_sub['MillisSinceGpsEpoch'].unique()\n",
    "        derived_timestamps = subdf['millisSinceGpsEpoch'].unique()\n",
    "\n",
    "        # The timestamps in derived are one epoch ahead. We need to map each epoch\n",
    "        # in derived to the prior one (in Raw).\n",
    "        indexes = np.searchsorted(raw_timestamps, derived_timestamps)\n",
    "        from_t_to_fix_derived = dict(zip(derived_timestamps, raw_timestamps[indexes-1]))\n",
    "        subdf['millisSinceGpsEpoch'] = np.array(list(map(lambda v: from_t_to_fix_derived[v], subdf['millisSinceGpsEpoch'])))\n",
    "\n",
    "    df_derived_corrected = pd.concat([df_derived_corrected, subdf])\n",
    "    return df_derived_corrected\n",
    "        \n",
    "\n",
    "@noglobal()\n",
    "def predict_by_gnss_data(collection,phone):\n",
    "    \n",
    "    root = \"/work/data/input/google-smartphone-decimeter-challenge/\"\n",
    "    \n",
    "    if (os.path.exists(f\"{root}/train/{collection}/{phone}/{phone}_derived.csv\")):\n",
    "        mode = \"train\";\n",
    "    elif (os.path.exists(f\"{root}/test/{collection}/{phone}/{phone}_derived.csv\")):\n",
    "        mode = \"test\";\n",
    "    else:\n",
    "        raise Exception(f\"not found: collection = {collection}, phone = {phone}\");\n",
    "                              \n",
    "    derived_df_path = f\"{root}/{mode}/{collection}/{phone}/{phone}_derived.csv\"\n",
    "    gnss_df_path = f\"{root}/{mode}/{collection}/{phone}/{phone}_GnssLog.txt\"\n",
    "    print(gnss_df_path)\n",
    "          \n",
    "    derived_df = pd.read_csv(derived_df_path)\n",
    "    df_raw_train = gnss_log_to_dataframes(gnss_df_path)[\"Raw\"]\n",
    "    \n",
    "        \n",
    "    light_speed = 299_792_458                \n",
    "    \n",
    "    derived_df['correctedPrM'] = derived_df[\"rawPrM\"] +  derived_df[\"satClkBiasM\"]  - derived_df[\"isrbM\"] - derived_df[\"ionoDelayM\"] - derived_df[\"tropoDelayM\"]\n",
    "            \n",
    "    ### Rotating the Satellite Reference Frame\n",
    "    derived_df['transmissionTimeSeconds'] = derived_df['correctedPrM'] / light_speed    \n",
    "    omega_e = 7.2921151467e-5\n",
    "    derived_df[\"xSatPosMRotated\"] = np.cos(omega_e * derived_df['transmissionTimeSeconds']) * derived_df['xSatPosM'] + np.sin(omega_e * derived_df['transmissionTimeSeconds']) * derived_df['ySatPosM']\n",
    "    derived_df[\"ySatPosMRotated\"] = - np.sin(omega_e * derived_df['transmissionTimeSeconds']) * derived_df['xSatPosM'] + np.cos(omega_e * derived_df['transmissionTimeSeconds']) * derived_df['ySatPosM']\n",
    "    derived_df['zSatPosMRotated'] = derived_df['zSatPosM']\n",
    "    \n",
    "    #display(df_train)\n",
    "    derived_df['uncertaintyWeight'] = 1 / derived_df['rawPrUncM']\n",
    "    \n",
    "    \n",
    "    corrected_derived_df = correct_millisSinceGpsEpoch(derived_df,df_raw_train)\n",
    "    corrected_derived_df['receivedSvTimeInGpsMillis']  = corrected_derived_df['receivedSvTimeInGpsNanos'] / 1e6    \n",
    "    corrected_derived_df[\"delta\"] = (corrected_derived_df['millisSinceGpsEpoch'] - corrected_derived_df['receivedSvTimeInGpsMillis'] ).astype(int)\n",
    "    corrected_derived_df[\"delta\"].plot()\n",
    "    display(corrected_derived_df[['receivedSvTimeInGpsMillis',\"millisSinceGpsEpoch\",\"delta\"]])\n",
    "    delta_millis = corrected_derived_df['millisSinceGpsEpoch'] - corrected_derived_df['receivedSvTimeInGpsNanos'] / 1e6    \n",
    "    where_good_signals = (delta_millis > 0) & (delta_millis < 300)\n",
    "    corrected_derived_df = corrected_derived_df[where_good_signals].copy()            \n",
    "    \n",
    "    #print(where_good_signals.sum())\n",
    "    \n",
    "    \n",
    "    test_list = [];        \n",
    "    exe_list = [[key,each_df]  for key,each_df in df_train.groupby(\"millisSinceGpsEpoch\")];        \n",
    "    \n",
    "    #num = multi(predict_by_satelite_per_time,exe_list)\n",
    "    \n",
    "                \n",
    "    #return pd.DataFrame(np.array(num),columns=[\"millisSinceGpsEpoch\",\"x_pred\",\"y_pred\",\"z_pred\"]);\n",
    "\n",
    "    \n",
    "collection,phone = df_baseline[\"phone\"].unique()[0].split(\"_\")\n",
    "c = df_baseline[df_baseline[\"phone\"] == collection+\"_\"+phone];\n",
    "\n",
    "\n",
    "predict_result = predict_by_gnss_data(collection,phone);"
   ]
  },
  {
   "cell_type": "code",
   "execution_count": 8,
   "id": "7981970f",
   "metadata": {},
   "outputs": [
    {
     "ename": "NameError",
     "evalue": "name 'gnss' is not defined",
     "output_type": "error",
     "traceback": [
      "\u001b[0;31m---------------------------------------------------------------------------\u001b[0m",
      "\u001b[0;31mNameError\u001b[0m                                 Traceback (most recent call last)",
      "\u001b[0;32m<ipython-input-8-817266afb6bc>\u001b[0m in \u001b[0;36m<module>\u001b[0;34m\u001b[0m\n\u001b[0;32m----> 1\u001b[0;31m \u001b[0mgnss\u001b[0m\u001b[0;34m[\u001b[0m\u001b[0;34m\"millisSinceGpsEpoch\"\u001b[0m\u001b[0;34m]\u001b[0m \u001b[0;34m=\u001b[0m \u001b[0mgnss\u001b[0m\u001b[0;34m[\u001b[0m\u001b[0;34m\"millisSinceGpsEpoch\"\u001b[0m\u001b[0;34m]\u001b[0m\u001b[0;34m.\u001b[0m\u001b[0mastype\u001b[0m\u001b[0;34m(\u001b[0m\u001b[0;34m\"int64\"\u001b[0m\u001b[0;34m)\u001b[0m\u001b[0;34m\u001b[0m\u001b[0;34m\u001b[0m\u001b[0m\n\u001b[0m",
      "\u001b[0;31mNameError\u001b[0m: name 'gnss' is not defined"
     ]
    }
   ],
   "source": [
    "gnss[\"millisSinceGpsEpoch\"] = gnss[\"millisSinceGpsEpoch\"].astype(\"int64\")"
   ]
  },
  {
   "cell_type": "code",
   "execution_count": null,
   "id": "f9e92fa2",
   "metadata": {},
   "outputs": [],
   "source": [
    "gnss.shape"
   ]
  },
  {
   "cell_type": "code",
   "execution_count": null,
   "id": "e42e13b8",
   "metadata": {},
   "outputs": [],
   "source": [
    "#val = np.array(gnss)\n",
    "#print(val)\n",
    "#b_path = f\"{root}/train/{collection}/{phone}/{phone}_derived.csv\"\n",
    "#b = pd.read_csv(b_path)\n",
    "#display(b[\"millisSinceGpsEpoch\"])\n",
    "test = pd.read_csv(f\"{root}/train/{collection}/{phone}/ground_truth.csv\")\n",
    "display(test[\"millisSinceGpsEpoch\"])\n",
    "1274827487\n",
    "#for s in val[:,0]:\n",
    "#    print(s)"
   ]
  },
  {
   "cell_type": "code",
   "execution_count": null,
   "id": "bd1ab69e",
   "metadata": {
    "scrolled": false
   },
   "outputs": [],
   "source": [
    "merged = pd.merge_asof(gnss, test, on='millisSinceGpsEpoch', direction='nearest', tolerance=1000)\n",
    "\n",
    "s = merged.dropna()\n",
    "s.shape\n",
    "\n",
    "s.head(3)\n",
    "\n",
    "from external_lib.evaluation_function import calc_haversine,evaluate_function\n",
    "\n",
    "\n",
    "s[\"dist\"] = calc_haversine(s[\"x_pred\"],s[\"y_pred\"],s[\"latDeg\"],s[\"lngDeg\"])\n",
    "print(s[\"dist\"].mean())\n",
    "\n",
    "\n",
    "s[[\"latDeg_gt\",\"lngDeg_gt\"]] = s[[\"latDeg\",\"lngDeg\"]]\n",
    "s[[\"latDeg\",\"lngDeg\"]] = s[[\"x_pred\",\"y_pred\"]]"
   ]
  },
  {
   "cell_type": "code",
   "execution_count": null,
   "id": "a185c9f4",
   "metadata": {},
   "outputs": [],
   "source": [
    "#29.916201303307812"
   ]
  },
  {
   "cell_type": "code",
   "execution_count": null,
   "id": "6fd69477",
   "metadata": {},
   "outputs": [],
   "source": [
    "from external_lib.visualize import visualize_trafic\n",
    "visualize_trafic(s)"
   ]
  },
  {
   "cell_type": "code",
   "execution_count": null,
   "id": "439da9d8",
   "metadata": {},
   "outputs": [],
   "source": [
    "visualize_trafic(extracted_train)"
   ]
  },
  {
   "cell_type": "code",
   "execution_count": null,
   "id": "ffceb051",
   "metadata": {},
   "outputs": [],
   "source": [
    "from lib.io import load_pickle_data\n",
    "df_train_baseline = load_pickle_data(\"/work/data/input/selfmade_dataset/baseline_with_derived_data_v5/train.pkl\")\n",
    "extracted_train = df_train_baseline[df_train_baseline[\"phone\"] == \"2020-05-29-US-MTV-1_Pixel4\"]\n",
    "\n",
    "extracted_train[\"dist\"] = calc_haversine(extracted_train[\"latDeg_gt\"],extracted_train[\"lngDeg_gt\"],extracted_train[\"latDeg\"],extracted_train[\"lngDeg\"])\n",
    "print(extracted_train[\"dist\"].mean())\n",
    "\n",
    "# 1274827486438 1274827487438"
   ]
  },
  {
   "cell_type": "code",
   "execution_count": null,
   "id": "2ca22164",
   "metadata": {},
   "outputs": [],
   "source": [
    "\n",
    "from tqdm.notebook import tqdm\n",
    "\n",
    "\n",
    "def prog(calc_,list_):\n",
    "    p = mp.Pool(mp.cpu_count()-2);\n",
    "    \n",
    "    s = p.map(calc_,list_);\n",
    "    p.close();\n",
    "    return s;\n",
    "\n",
    "def calc(s):\n",
    "    return s**2;\n",
    "\n",
    "\n",
    "b = prog(calc,[i for i in range(10)])\n",
    "print(b)"
   ]
  }
 ],
 "metadata": {
  "kernelspec": {
   "display_name": "Python 3",
   "language": "python",
   "name": "python3"
  },
  "language_info": {
   "codemirror_mode": {
    "name": "ipython",
    "version": 3
   },
   "file_extension": ".py",
   "mimetype": "text/x-python",
   "name": "python",
   "nbconvert_exporter": "python",
   "pygments_lexer": "ipython3",
   "version": "3.7.10"
  }
 },
 "nbformat": 4,
 "nbformat_minor": 5
}
