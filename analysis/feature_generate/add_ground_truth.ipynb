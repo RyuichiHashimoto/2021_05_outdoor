{
 "cells": [
  {
   "cell_type": "code",
   "execution_count": 2,
   "id": "departmental-keeping",
   "metadata": {},
   "outputs": [],
   "source": [
    "import pandas as pd\n",
    "import glob\n"
   ]
  },
  {
   "cell_type": "code",
   "execution_count": 8,
   "id": "driven-packet",
   "metadata": {},
   "outputs": [],
   "source": [
    "original_baseline_df = pd.read_csv(\"/work/data/input/google-smartphone-decimeter-challenge/baseline_locations_train.csv\");"
   ]
  },
  {
   "cell_type": "code",
   "execution_count": 18,
   "id": "weighted-breach",
   "metadata": {},
   "outputs": [
    {
     "name": "stdout",
     "output_type": "stream",
     "text": [
      "ground_truth.csv  Pixel4_derived.csv  Pixel4_GnssLog.txt  supplemental\r\n"
     ]
    }
   ],
   "source": [
    "!ls /work/data/input/google-smartphone-decimeter-challenge/train/2020-05-14-US-MTV-2/Pixel4/"
   ]
  },
  {
   "cell_type": "code",
   "execution_count": 20,
   "id": "cutting-knight",
   "metadata": {},
   "outputs": [
    {
     "data": {
      "text/plain": [
       "73"
      ]
     },
     "execution_count": 20,
     "metadata": {},
     "output_type": "execute_result"
    }
   ],
   "source": [
    "FILES = glob.glob(\"/work/data/input/google-smartphone-decimeter-challenge/train/*/*/ground_truth.csv\")\n",
    "\n",
    "len(FILES)"
   ]
  },
  {
   "cell_type": "code",
   "execution_count": 24,
   "id": "silent-crown",
   "metadata": {},
   "outputs": [
    {
     "data": {
      "text/plain": [
       "131342"
      ]
     },
     "execution_count": 24,
     "metadata": {},
     "output_type": "execute_result"
    }
   ],
   "source": [
    "original_baseline_df.shape[0]"
   ]
  },
  {
   "cell_type": "code",
   "execution_count": 34,
   "id": "senior-waste",
   "metadata": {},
   "outputs": [],
   "source": [
    "s = (original_baseline_df[\"collectionName\"] +\"_\" +original_baseline_df[\"phoneName\"]).unique();"
   ]
  },
  {
   "cell_type": "code",
   "execution_count": 37,
   "id": "detailed-development",
   "metadata": {},
   "outputs": [
    {
     "data": {
      "text/plain": [
       "73"
      ]
     },
     "execution_count": 37,
     "metadata": {},
     "output_type": "execute_result"
    }
   ],
   "source": [
    "len(s)"
   ]
  },
  {
   "cell_type": "code",
   "execution_count": null,
   "id": "removed-jonathan",
   "metadata": {},
   "outputs": [],
   "source": []
  }
 ],
 "metadata": {
  "kernelspec": {
   "display_name": "Python 3",
   "language": "python",
   "name": "python3"
  },
  "language_info": {
   "codemirror_mode": {
    "name": "ipython",
    "version": 3
   },
   "file_extension": ".py",
   "mimetype": "text/x-python",
   "name": "python",
   "nbconvert_exporter": "python",
   "pygments_lexer": "ipython3",
   "version": "3.8.8"
  }
 },
 "nbformat": 4,
 "nbformat_minor": 5
}
