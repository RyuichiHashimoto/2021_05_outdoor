{
 "cells": [
  {
   "cell_type": "code",
   "execution_count": 1,
   "id": "624c4c81",
   "metadata": {},
   "outputs": [],
   "source": [
    "from lib.kalman_filter import generate_kalmanfilter,apply_kalmanfilter\n",
    "from lib.io import load_pickle_data\n",
    "from lib.noglobal import noglobal\n",
    "\n",
    "\n",
    "from external_lib.evaluation_function import calc_haversine\n",
    "from external_lib.gnss_manager import calc_acce_direction\n",
    "from external_lib.merge_start_end_points import find_first_and_last_stopping_time,_merge_points\n",
    "\n",
    "\n",
    "import pandas as pd\n",
    "import numpy as np\n",
    "from tqdm.notebook import tqdm"
   ]
  },
  {
   "cell_type": "code",
   "execution_count": 2,
   "id": "df5feb1b",
   "metadata": {},
   "outputs": [],
   "source": [
    "train_path = \"/work/data/input/selfmade_dataset/baseline_with_derived_data_v4/train.pkl\"\n",
    "train_df = load_pickle_data(train_path)\n"
   ]
  },
  {
   "cell_type": "markdown",
   "id": "877d15fc",
   "metadata": {},
   "source": [
    "## 各関数"
   ]
  },
  {
   "cell_type": "code",
   "execution_count": 3,
   "id": "b5105f83",
   "metadata": {},
   "outputs": [],
   "source": [
    "\n",
    "\n",
    "@noglobal()\n",
    "def kalman_all(df):\n",
    "\n",
    "    if (df[\"phone\"].unique().shape[0] != 1):\n",
    "        raise Exception()\n",
    "    \n",
    "    tmp_df = df.copy()\n",
    "        \n",
    "    num = tmp_df[[\"latDeg\",\"lngDeg\"]].to_numpy()                        \n",
    "    kf = generate_kalmanfilter()  \n",
    "    result = apply_kalmanfilter(num,kf)           \n",
    "    tmp_df[[\"latDeg\",\"lngDeg\"]] = result         \n",
    "       \n",
    "    return tmp_df\n",
    "\n",
    "\n",
    "@noglobal(excepts=[\"calc_acce_direction\",\"find_first_and_last_stopping_time\",\"_merge_points\"])\n",
    "def kalman_patial(df):\n",
    "\n",
    "    if (df[\"phone\"].unique().shape[0] != 1):\n",
    "        raise Exception()\n",
    "    \n",
    "    tmp_df = df.copy()\n",
    "    \n",
    "    path,phone_name = tmp_df[\"phone\"].unique()[0].split(\"_\");\n",
    "    target_col = \"x_f\"\n",
    "\n",
    "    acce_df = calc_acce_direction(path,phone_name);            \n",
    "    startPoint_gps,endPoint_gsp = find_first_and_last_stopping_time(acce_df,target_col);                        \n",
    "    \n",
    "    tmp = tmp_df.loc[ (tmp_df[\"millisSinceGpsEpoch_\"] > endPoint_gsp) | (tmp_df[\"millisSinceGpsEpoch_\"] < startPoint_gps)]\n",
    "    \n",
    "    num = tmp_df.loc[ (tmp_df[\"millisSinceGpsEpoch_\"] <= endPoint_gsp) | (tmp_df[\"millisSinceGpsEpoch_\"] >= startPoint_gps) ,[\"latDeg\",\"lngDeg\"]].to_numpy()                        \n",
    "    kf = generate_kalmanfilter()  \n",
    "    result = apply_kalmanfilter(num,kf)           \n",
    "    tmp_df.loc[ (tmp_df[\"millisSinceGpsEpoch_\"] <= endPoint_gsp) | (tmp_df[\"millisSinceGpsEpoch_\"] >= startPoint_gps) ,[\"latDeg\",\"lngDeg\"]] = result                                                \n",
    "    \n",
    "    return tmp_df\n",
    "\n",
    "@noglobal(excepts=[\"calc_acce_direction\",\"find_first_and_last_stopping_time\",\"_merge_points\"])\n",
    "def kalman_all_with_merge(df):\n",
    "\n",
    "    if (df[\"phone\"].unique().shape[0] != 1):\n",
    "        raise Exception()\n",
    "        print(p)\n",
    "    \n",
    "    tmp_df = df.copy()\n",
    "    \n",
    "    path,phone_name = tmp_df[\"phone\"].unique()[0].split(\"_\");\n",
    "    target_col = \"x_f\"\n",
    "\n",
    "    acce_df = calc_acce_direction(path,phone_name);            \n",
    "    first_gps,last_gps = find_first_and_last_stopping_time(acce_df,target_col);                        \n",
    "    print(first_gps,last_gps)\n",
    "    \n",
    "    tmp_df = _merge_points(tmp_df,first_gps,last_gps);\n",
    "    \n",
    "    num = tmp_df[[\"latDeg\",\"lngDeg\"]].to_numpy()                        \n",
    "    kf = generate_kalmanfilter()  \n",
    "    result = apply_kalmanfilter(num,kf)           \n",
    "    tmp_df[[\"latDeg\",\"lngDeg\"]] = result         \n",
    "                        \n",
    "    return tmp_df\n",
    "\n",
    "@noglobal(excepts=[\"calc_acce_direction\",\"find_first_and_last_stopping_time\",\"_merge_points\"])\n",
    "def kalman_partial_with_merge(df):\n",
    "\n",
    "    if (df[\"phone\"].unique().shape[0] != 1):\n",
    "        raise Exception()\n",
    "        print(p)\n",
    "    \n",
    "    tmp_df = df.copy()\n",
    "    \n",
    "    path,phone_name = tmp_df[\"phone\"].unique()[0].split(\"_\");\n",
    "    target_col = \"x_f\"\n",
    "\n",
    "    acce_df = calc_acce_direction(path,phone_name);            \n",
    "    startPoint_gps,endPoint_gsp = find_first_and_last_stopping_time(acce_df,target_col);                        \n",
    "    \n",
    "    tmp_df = _merge_points(tmp_df,startPoint_gps,endPoint_gsp);\n",
    "    tmp = tmp_df.loc[ (tmp_df[\"millisSinceGpsEpoch_\"] > endPoint_gsp) | (tmp_df[\"millisSinceGpsEpoch_\"] < startPoint_gps)]\n",
    "        \n",
    "    num = tmp_df.loc[ (tmp_df[\"millisSinceGpsEpoch_\"] <= endPoint_gsp) | (tmp_df[\"millisSinceGpsEpoch_\"] >= startPoint_gps) ,[\"latDeg\",\"lngDeg\"]].to_numpy()                        \n",
    "    kf = generate_kalmanfilter()  \n",
    "    result = apply_kalmanfilter(num,kf)           \n",
    "    tmp_df.loc[ (tmp_df[\"millisSinceGpsEpoch_\"] <= endPoint_gsp) | (tmp_df[\"millisSinceGpsEpoch_\"] >= startPoint_gps) ,[\"latDeg\",\"lngDeg\"]] = result                                                \n",
    "                        \n",
    "    return tmp_df\n"
   ]
  },
  {
   "cell_type": "code",
   "execution_count": 4,
   "id": "4945ce8c",
   "metadata": {
    "scrolled": false
   },
   "outputs": [
    {
     "data": {
      "application/vnd.jupyter.widget-view+json": {
       "model_id": "35000e21e44247108bb3c68e6f15e392",
       "version_major": 2,
       "version_minor": 0
      },
      "text/plain": [
       "  0%|          | 0/73 [00:00<?, ?it/s]"
      ]
     },
     "metadata": {},
     "output_type": "display_data"
    },
    {
     "name": "stdout",
     "output_type": "stream",
     "text": [
      "1273529529 1273531168\n",
      "0.07679369115047785\n",
      "0.07679369115047785\n"
     ]
    }
   ],
   "source": [
    "list_original = []\n",
    "list_all = []\n",
    "list_patial = [];\n",
    "list_all_with_merge = []\n",
    "list_partial_with_merge = []\n",
    "\n",
    "\n",
    "for key,each_df in tqdm(train_df.groupby(\"phone\")):\n",
    "    \n",
    "    each_df[\"millisSinceGpsEpoch_\"] = each_df[\"millisSinceGpsEpoch\"] //1000\n",
    "    \n",
    "    kalman_all_df = kalman_all(each_df);\n",
    "    kalman_patial_df = kalman_patial(each_df);\n",
    "    kalman_all_with_merge_df = kalman_all_with_merge(each_df);\n",
    "    kalman_partial_with_merge_df = kalman_partial_with_merge(each_df);\n",
    "    \n",
    "    \n",
    "    tmp_df = each_df\n",
    "    dis = calc_haversine(tmp_df[\"latDeg\"],tmp_df[\"lngDeg\"],each_df[\"latDeg_gt\"],each_df[\"lngDeg_gt\"]).mean()\n",
    "    list_original.append(dis)\n",
    "    \n",
    "    tmp_df = kalman_all_df\n",
    "    dis = calc_haversine(tmp_df[\"latDeg\"],tmp_df[\"lngDeg\"],each_df[\"latDeg_gt\"],each_df[\"lngDeg_gt\"]).mean()\n",
    "    list_all.append(dis)\n",
    "    \n",
    "    tmp_df = kalman_patial_df\n",
    "    dis = calc_haversine(tmp_df[\"latDeg\"],tmp_df[\"lngDeg\"],each_df[\"latDeg_gt\"],each_df[\"lngDeg_gt\"]).mean()\n",
    "    list_patial.append(dis)\n",
    "    \n",
    "    tmp_df = kalman_all_with_merge_df\n",
    "    dis = calc_haversine(tmp_df[\"latDeg\"],tmp_df[\"lngDeg\"],each_df[\"latDeg_gt\"],each_df[\"lngDeg_gt\"]).mean()\n",
    "    list_all_with_merge.append(dis)\n",
    "    \n",
    "    tmp_df = kalman_partial_with_merge_df\n",
    "    dis = calc_haversine(tmp_df[\"latDeg\"],tmp_df[\"lngDeg\"],each_df[\"latDeg_gt\"],each_df[\"lngDeg_gt\"]).mean()\n",
    "    list_partial_with_merge.append(dis)\n",
    "    \n",
    "    break;"
   ]
  },
  {
   "cell_type": "code",
   "execution_count": 8,
   "id": "8df0b7a8",
   "metadata": {},
   "outputs": [
    {
     "name": "stdout",
     "output_type": "stream",
     "text": [
      "original 1.4564586662027643\n",
      "kalman_all 1.2599065916038505\n",
      "kalman_partial 1.2599065916038505\n",
      "kalman_all_with_merge 1.2359647647184848\n",
      "kalman_partial_with_merge 1.2359647647184848\n"
     ]
    }
   ],
   "source": [
    "import numpy as np \n",
    "\n",
    "#list_original\n",
    "#list_all\n",
    "#list_patial\n",
    "#list_all_with_merge \n",
    "#list_partial_with_merge \n",
    "\n",
    "print(\"original\",np.mean(list_original))\n",
    "print(\"kalman_all\",np.mean(list_all))\n",
    "print(\"kalman_partial\",np.mean(list_patial))\n",
    "print(\"kalman_all_with_merge\",np.mean(list_all_with_merge ))\n",
    "print(\"kalman_partial_with_merge\",np.mean(list_partial_with_merge ))\n",
    "\n"
   ]
  }
 ],
 "metadata": {
  "kernelspec": {
   "display_name": "Python 3",
   "language": "python",
   "name": "python3"
  },
  "language_info": {
   "codemirror_mode": {
    "name": "ipython",
    "version": 3
   },
   "file_extension": ".py",
   "mimetype": "text/x-python",
   "name": "python",
   "nbconvert_exporter": "python",
   "pygments_lexer": "ipython3",
   "version": "3.7.10"
  },
  "toc": {
   "base_numbering": 1,
   "nav_menu": {},
   "number_sections": true,
   "sideBar": true,
   "skip_h1_title": false,
   "title_cell": "Table of Contents",
   "title_sidebar": "Contents",
   "toc_cell": false,
   "toc_position": {},
   "toc_section_display": true,
   "toc_window_display": false
  }
 },
 "nbformat": 4,
 "nbformat_minor": 5
}
