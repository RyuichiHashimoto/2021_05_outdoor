{
 "cells": [
  {
   "cell_type": "code",
   "execution_count": 1,
   "id": "e0d21beb",
   "metadata": {},
   "outputs": [],
   "source": [
    "from lib.kalman_filter import generate_kalmanfilter,apply_kalmanfilter\n",
    "from lib.io import load_pickle_data\n",
    "from lib.noglobal import noglobal\n",
    "\n",
    "\n",
    "from external_lib.evaluation_function import calc_haversine\n",
    "\n",
    "\n",
    "import pandas as pd\n",
    "import numpy as np\n",
    "from tqdm.notebook import tqdm"
   ]
  },
  {
   "cell_type": "code",
   "execution_count": 2,
   "id": "4744866f",
   "metadata": {},
   "outputs": [],
   "source": [
    "train_path = \"/work/data/input/selfmade_dataset/baseline_with_derived_data_v4/train.pkl\"\n",
    "train_df = load_pickle_data(train_path)\n"
   ]
  },
  {
   "cell_type": "markdown",
   "id": "f9fee018",
   "metadata": {},
   "source": [
    "### カルマンフィルターを行う前"
   ]
  },
  {
   "cell_type": "code",
   "execution_count": 3,
   "id": "8d830d81",
   "metadata": {},
   "outputs": [
    {
     "data": {
      "text/plain": [
       "3.8468553394627825"
      ]
     },
     "execution_count": 3,
     "metadata": {},
     "output_type": "execute_result"
    }
   ],
   "source": [
    "calc_haversine(train_df[\"latDeg_gt\"],train_df[\"lngDeg_gt\"],train_df[\"latDeg\"],train_df[\"lngDeg\"]).mean()"
   ]
  },
  {
   "cell_type": "markdown",
   "id": "f6da00a1",
   "metadata": {},
   "source": [
    "### カルマンフィルター１回実施後"
   ]
  },
  {
   "cell_type": "code",
   "execution_count": null,
   "id": "d81aefad",
   "metadata": {},
   "outputs": [],
   "source": [
    "\n",
    "\n",
    "ret_list = [];\n",
    "\n",
    "\n",
    "for key,each_df in tqdm(train_df.groupby(\"phone\")):\n",
    "    kf = generate_kalmanfilter()    \n",
    "    result = apply_kalmanfilter(each_df[[\"latDeg\",\"lngDeg\"]].to_numpy(),kf)    \n",
    "    each_df[ [\"latDeg_kf\",\"lngDeg_kf\"]] = result\n",
    "    ret_list.append(each_df)\n",
    "    \n",
    "ret = pd.concat(ret_list);"
   ]
  },
  {
   "cell_type": "code",
   "execution_count": null,
   "id": "741e0067",
   "metadata": {},
   "outputs": [],
   "source": [
    "calc_haversine(ret[\"latDeg_gt\"],ret[\"lngDeg_gt\"],ret[\"latDeg_kf\"],ret[\"lngDeg_kf\"]).mean()"
   ]
  },
  {
   "cell_type": "markdown",
   "id": "7da6ddf5",
   "metadata": {},
   "source": [
    "## カルマンフィルター２回実施後"
   ]
  },
  {
   "cell_type": "code",
   "execution_count": null,
   "id": "c431a12c",
   "metadata": {},
   "outputs": [],
   "source": [
    "ret_list = [];\n",
    "\n",
    "ret_df = ret.copy()\n",
    "\n",
    "for key,each_df in tqdm(ret_df.groupby(\"phone\")):\n",
    "    kf = generate_kalmanfilter()    \n",
    "    result = apply_kalmanfilter(each_df[[\"latDeg_kf\",\"lngDeg_kf\"]].to_numpy(),kf)    \n",
    "    each_df[[\"latDeg_kf_2\",\"lngDeg_kf_2\"]] = result    \n",
    "    ret_list.append(each_df)\n",
    "    \n",
    "ret = pd.concat(ret_list);"
   ]
  },
  {
   "cell_type": "code",
   "execution_count": null,
   "id": "3f5a2913",
   "metadata": {},
   "outputs": [],
   "source": [
    "calc_haversine(ret[\"latDeg_gt\"],ret[\"lngDeg_gt\"],ret[\"latDeg_kf_2\"],ret[\"lngDeg_kf_2\"]).mean()"
   ]
  },
  {
   "cell_type": "code",
   "execution_count": null,
   "id": "853bf25b",
   "metadata": {},
   "outputs": [],
   "source": [
    "current_df = train_df.copy()\n",
    "cols = train_df.columns.values\n",
    "\n",
    "for _ in range(1,6):\n",
    "    ret_list = [];\n",
    "    \n",
    "    for key,each_df in tqdm(current_df.groupby(\"phone\")):    \n",
    "        kf = generate_kalmanfilter();        \n",
    "        result = apply_kalmanfilter(each_df[[\"latDeg\",\"lngDeg\"]].to_numpy(),kf);\n",
    "        each_df[[\"latDeg_kf\",\"lngDeg_kf\"]] = result\n",
    "        ret_list.append(each_df)\n",
    "        \n",
    "    ret = pd.concat(ret_list)\n",
    "            \n",
    "    #display(calc_haversine(ret[\"latDeg_gt\"],ret[\"lngDeg_gt\"],ret[\"latDeg_kf\"],ret[\"lngDeg_kf\"]).mean())\n",
    "\n",
    "    ret[[\"latDeg\",\"lngDeg\"]] = ret[[\"latDeg_kf\",\"lngDeg_kf\"]]\n",
    "    \n",
    "    current_df = ret[cols]"
   ]
  },
  {
   "cell_type": "markdown",
   "id": "27950147",
   "metadata": {},
   "source": [
    "## 道路の一部のみにカルマンフィルタ実行"
   ]
  },
  {
   "cell_type": "code",
   "execution_count": null,
   "id": "9cf2e60b",
   "metadata": {},
   "outputs": [],
   "source": [
    "GPS_TIME_DEFAULT_TIME = -1\n",
    "@noglobal(excepts=[\"GPS_TIME_DEFAULT_TIME\"])\n",
    "def _merge_points(df,startPoint_gps,endPoint_gsp,distance_threshold=0.0):\n",
    "\n",
    "        \n",
    "    tmp_df = df.copy();\n",
    "    tmp_df[\"millisSinceGpsEpoch_\"] = tmp_df[\"millisSinceGpsEpoch\"]//1000\n",
    "\n",
    "    if (df[\"phone\"].unique().shape[0] != 1):\n",
    "        path_lists = \"\\n\".join(df[\"phone\"].unique().tolist())\n",
    "        raise Exception(f\"multiple path was found, we found following paths:\\n{path_lists}\");\n",
    "        \n",
    "    if (startPoint_gps == GPS_TIME_DEFAULT_TIME and endPoint_gsp == GPS_TIME_DEFAULT_TIME):                \n",
    "        return tmp_df;                \n",
    "    elif (startPoint_gps >0 and endPoint_gsp > 0):\n",
    "        target_columns = [\"latDeg\",\"lngDeg\"]\n",
    "\n",
    "        ## スタートから途中まで\n",
    "        mean_latdeg,mean_lngdeg = tmp_df[tmp_df[\"millisSinceGpsEpoch_\"] < startPoint_gps][target_columns].mean()\n",
    "        tmp_df.loc[tmp_df[\"millisSinceGpsEpoch_\"] < startPoint_gps, target_columns] = [mean_latdeg,mean_lngdeg]\n",
    "\n",
    "        ## 途中からエンドポイントまで\n",
    "        mean_latdeg,mean_lngdeg= tmp_df[tmp_df[\"millisSinceGpsEpoch_\"] > endPoint_gsp][target_columns].mean()        \n",
    "        tmp_df.loc[tmp_df[\"millisSinceGpsEpoch_\"] > endPoint_gsp,target_columns] = [mean_latdeg,mean_lngdeg];\n",
    "\n",
    "        dis = calc_haversine(tmp_df[\"latDeg\"],tmp_df[\"lngDeg\"],df[\"latDeg\"],df[\"lngDeg\"]).mean()\n",
    "\n",
    "        if (dis > distance_threshold):\n",
    "            tmp_df = df.copy();    \n",
    "    else:\n",
    "        raise Exception(f\"miss parameter specification, \\nstartPoint_GPS_time: {startPoint_gps}\\nendPoint_GPS_time: {endPoint_gsp}\");\n",
    "\n",
    "    return tmp_df"
   ]
  },
  {
   "cell_type": "code",
   "execution_count": null,
   "id": "0fddeb32",
   "metadata": {},
   "outputs": [],
   "source": [
    "from external_lib.gnss_manager import calc_acce_direction\n",
    "from external_lib.merge_start_end_points import find_first_and_last_stopping_time\n",
    "\n",
    "\n",
    "@noglobal()\n",
    "def kalman_all(df):\n",
    "\n",
    "    if (df[\"phone\"].unique().shape[0] != 1):\n",
    "        raise Exception()\n",
    "    \n",
    "    tmp_df = df.copy()\n",
    "        \n",
    "    num = tmp_df[[\"latDeg\",\"lngDeg\"]].to_numpy()                        \n",
    "    kf = generate_kalmanfilter()  \n",
    "    result = apply_kalmanfilter(num,kf)           \n",
    "    tmp_df[[\"latDeg\",\"lngDeg\"]] = result         \n",
    "       \n",
    "    return tmp_df\n",
    "\n",
    "\n",
    "@noglobal(excepts=[\"calc_acce_direction\",\"find_first_and_last_stopping_time\"])\n",
    "def kalman_patial(df):\n",
    "\n",
    "    if (df[\"phone\"].unique().shape[0] != 1):\n",
    "        raise Exception()\n",
    "    \n",
    "    tmp_df = df.copy()\n",
    "    \n",
    "    path,phone_name = tmp_df[\"phone\"].unique()[0].split(\"_\");\n",
    "    target_col = \"x_f\"\n",
    "\n",
    "    acce_df = calc_acce_direction(path,phone_name);            \n",
    "    startPoint_gps,endPoint_gsp = find_first_and_last_stopping_time(acce_df,target_col);                        \n",
    "    \n",
    "    tmp = tmp_df.loc[ (tmp_df[\"millisSinceGpsEpoch_\"] > endPoint_gsp) | (tmp_df[\"millisSinceGpsEpoch_\"] < startPoint_gps)]\n",
    "    display(tmp)\n",
    "    \n",
    "    num = tmp_df.loc[ (tmp_df[\"millisSinceGpsEpoch_\"] <= endPoint_gsp) | (tmp_df[\"millisSinceGpsEpoch_\"] >= startPoint_gps) ,[\"latDeg\",\"lngDeg\"]].to_numpy()                        \n",
    "    kf = generate_kalmanfilter()  \n",
    "    result = apply_kalmanfilter(num,kf)           \n",
    "    tmp_df.loc[ (tmp_df[\"millisSinceGpsEpoch_\"] <= endPoint_gsp) | (tmp_df[\"millisSinceGpsEpoch_\"] >= startPoint_gps) ,[\"latDeg\",\"lngDeg\"]] = result                                                \n",
    "    \n",
    "    return tmp_df\n",
    "\n",
    "@noglobal(excepts=[\"calc_acce_direction\",\"find_first_and_last_stopping_time\"])\n",
    "def kalman_all_with_merge(df):\n",
    "\n",
    "    if (df[\"phone\"].unique().shape[0] != 1):\n",
    "        raise Exception()\n",
    "        print(p)\n",
    "    \n",
    "    tmp_df = df.copy()\n",
    "    \n",
    "    path,phone_name = tmp_df[\"phone\"].unique()[0].split(\"_\");\n",
    "    target_col = \"x_f\"\n",
    "\n",
    "    acce_df = calc_acce_direction(path,phone_name);            \n",
    "    first_gps,last_gps = find_first_and_last_stopping_time(acce_df,target_col);                        \n",
    "    \n",
    "    tmp_df = _merge_points(tmp_df,first_gps,last_gps);\n",
    "    \n",
    "    num = tmp_df[[\"latDeg\",\"lngDeg\"]].to_numpy()                        \n",
    "    kf = generate_kalmanfilter()  \n",
    "    result = apply_kalmanfilter(num,kf)           \n",
    "    tmp_df[[\"latDeg\",\"lngDeg\"]] = result         \n",
    "                        \n",
    "    return tmp_df\n",
    "\n",
    "@noglobal(excepts=[\"calc_acce_direction\",\"find_first_and_last_stopping_time\"])\n",
    "def kalman_partial_with_merge(df):\n",
    "\n",
    "    if (df[\"phone\"].unique().shape[0] != 1):\n",
    "        raise Exception()\n",
    "        print(p)\n",
    "    \n",
    "    tmp_df = df.copy()\n",
    "    \n",
    "    path,phone_name = tmp_df[\"phone\"].unique()[0].split(\"_\");\n",
    "    target_col = \"x_f\"\n",
    "\n",
    "    acce_df = calc_acce_direction(path,phone_name);            \n",
    "    startPoint_gps,endPoint_gsp = find_first_and_last_stopping_time(acce_df,target_col);                        \n",
    "    \n",
    "    tmp_df = _merge_points(tmp_df,startPoint_gps,endPoint_gsp);\n",
    "    tmp = tmp_df.loc[ (tmp_df[\"millisSinceGpsEpoch_\"] > endPoint_gsp) | (tmp_df[\"millisSinceGpsEpoch_\"] < startPoint_gps)]\n",
    "    display(tmp)\n",
    "    \n",
    "        \n",
    "    num = tmp_df.loc[ (tmp_df[\"millisSinceGpsEpoch_\"] <= endPoint_gsp) | (tmp_df[\"millisSinceGpsEpoch_\"] >= startPoint_gps) ,[\"latDeg\",\"lngDeg\"]].to_numpy()                        \n",
    "    kf = generate_kalmanfilter()  \n",
    "    result = apply_kalmanfilter(num,kf)           \n",
    "    tmp_df.loc[ (tmp_df[\"millisSinceGpsEpoch_\"] <= endPoint_gsp) | (tmp_df[\"millisSinceGpsEpoch_\"] >= startPoint_gps) ,[\"latDeg\",\"lngDeg\"]] = result                                                \n",
    "                        \n",
    "    return tmp_df\n"
   ]
  },
  {
   "cell_type": "code",
   "execution_count": null,
   "id": "5d902d01",
   "metadata": {
    "scrolled": false
   },
   "outputs": [],
   "source": [
    "list_original = []\n",
    "list_all = []\n",
    "list_patial = [];\n",
    "list_all_with_merge = []\n",
    "list_partial_with_merge = []\n",
    "\n",
    "\n",
    "for key,each_df in tqdm(train_df.groupby(\"phone\")):\n",
    "    \n",
    "    each_df[\"millisSinceGpsEpoch_\"] = each_df[\"millisSinceGpsEpoch\"] //1000\n",
    "    \n",
    "    #kalman_all_df = kalman_all(each_df.copy());\n",
    "    kalman_patial_df = kalman_patial(each_df);\n",
    "    #kalman_all_with_merge_df = kalman_all_with_merge(each_df);\n",
    "    kalman_partial_with_merge_df = kalman_partial_with_merge(each_df);\n",
    "    \n",
    "    \n",
    "    tmp_df = each_df\n",
    "    dis = calc_haversine(tmp_df[\"latDeg\"],tmp_df[\"lngDeg\"],each_df[\"latDeg_gt\"],each_df[\"lngDeg_gt\"]).mean()\n",
    "    list_original.append(dis)\n",
    "    \n",
    "    #tmp_df = kalman_all_df\n",
    "    dis = calc_haversine(tmp_df[\"latDeg\"],tmp_df[\"lngDeg\"],each_df[\"latDeg_gt\"],each_df[\"lngDeg_gt\"]).mean()\n",
    "    list_all.append(dis)\n",
    "    \n",
    "    #tmp_df = kalman_patial_df\n",
    "    dis = calc_haversine(tmp_df[\"latDeg\"],tmp_df[\"lngDeg\"],each_df[\"latDeg_gt\"],each_df[\"lngDeg_gt\"]).mean()\n",
    "    list_patial.append(dis)\n",
    "    \n",
    "    #tmp_df = kalman_all_with_merge_df\n",
    "    dis = calc_haversine(tmp_df[\"latDeg\"],tmp_df[\"lngDeg\"],each_df[\"latDeg_gt\"],each_df[\"lngDeg_gt\"]).mean()\n",
    "    list_all_with_merge.append(dis)\n",
    "    \n",
    "    #tmp_df = kalman_partial_with_merge_df\n",
    "    dis = calc_haversine(tmp_df[\"latDeg\"],tmp_df[\"lngDeg\"],each_df[\"latDeg_gt\"],each_df[\"lngDeg_gt\"]).mean()\n",
    "    list_partial_with_merge.append(dis)\n",
    "    \n",
    "    break;\n",
    "        "
   ]
  },
  {
   "cell_type": "code",
   "execution_count": null,
   "id": "6773cace",
   "metadata": {
    "scrolled": false
   },
   "outputs": [],
   "source": [
    "import numpy as np \n",
    "\n",
    "list_original\n",
    "#list_all\n",
    "#list_patial\n",
    "#list_all_with_merge \n",
    "#list_partial_with_merge \n",
    "\n",
    "#print(np.mean(list_all))\n",
    "print(np.mean(list_patial))\n",
    "#print(np.mean(list_all_with_merge ))\n",
    "print(np.mean(list_partial_with_merge ))\n",
    "\n",
    "#print(list_all)\n",
    "#print(list_patial)\n",
    "#print(list_all_with_merge )\n",
    "#print(list_partial_with_merge )\n",
    "\n",
    "#display(kalman_all_df.iloc[100]);\n",
    "#display(kalman_patial_df.iloc[100]);\n",
    "#display(kalman_all_with_merge_df.iloc[100]);\n",
    "#display(kalman_partial_with_merge_df.iloc[100]);\n"
   ]
  }
 ],
 "metadata": {
  "kernelspec": {
   "display_name": "Python 3",
   "language": "python",
   "name": "python3"
  },
  "language_info": {
   "codemirror_mode": {
    "name": "ipython",
    "version": 3
   },
   "file_extension": ".py",
   "mimetype": "text/x-python",
   "name": "python",
   "nbconvert_exporter": "python",
   "pygments_lexer": "ipython3",
   "version": "3.7.10"
  },
  "toc": {
   "base_numbering": 1,
   "nav_menu": {},
   "number_sections": true,
   "sideBar": true,
   "skip_h1_title": false,
   "title_cell": "Table of Contents",
   "title_sidebar": "Contents",
   "toc_cell": false,
   "toc_position": {},
   "toc_section_display": true,
   "toc_window_display": false
  }
 },
 "nbformat": 4,
 "nbformat_minor": 5
}
