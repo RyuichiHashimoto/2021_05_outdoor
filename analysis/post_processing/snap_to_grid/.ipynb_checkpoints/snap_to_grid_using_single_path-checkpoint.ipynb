{
 "cells": [
  {
   "cell_type": "code",
   "execution_count": 5,
   "id": "2fcc15e4",
   "metadata": {},
   "outputs": [],
   "source": [
    "from external_lib.visualize import visualize_trafic\n",
    "import pandas as pd\n",
    "from lib.kalman_filter import apply_kalmanfilter,generate_kalmanfilter\n",
    "\n",
    "from multiplyList import find_closest_using_single_point\n",
    "\n",
    "from lib.noglobal import noglobal\n",
    "\n",
    "import warnings\n",
    "warnings.simplefilter('ignore')\n",
    "from shapely.geometry import Point\n",
    "import osmnx as ox\n",
    "import momepy\n",
    "import geopandas as gpd\n",
    "\n",
    "from tqdm.notebook import tqdm\n",
    "\n",
    "import numpy as np\n"
   ]
  },
  {
   "cell_type": "code",
   "execution_count": 6,
   "id": "f4a93523",
   "metadata": {},
   "outputs": [],
   "source": [
    "@noglobal()\n",
    "def aasdf(x,grid,i):\n",
    "    return np.float64(grid[x][i]);\n",
    "\n",
    "\n",
    "\n",
    "@noglobal()\n",
    "def generate_grids(arg_df,target_collection):\n",
    "    df  = arg_df.copy();\n",
    "    df = arg_df[arg_df[\"collectionName\"]==target_collection]\n",
    "        \n",
    "    df[\"geometry\"] = [ Point(p) for p in df[[\"lngDeg\",\"latDeg\"]].to_numpy()]\n",
    "    ground_df = gpd.GeoDataFrame(df, geometry=df[\"geometry\"])\n",
    "    \n",
    "    offset = 0.1**4\n",
    "    bbox = ground_df.bounds + [-offset, -offset, offset, offset]\n",
    "    \n",
    "    east = bbox[\"minx\"].min()\n",
    "    west = bbox[\"maxx\"].max()\n",
    "    south = bbox[\"miny\"].min()\n",
    "    north = bbox[\"maxy\"].max()\n",
    "    G = ox.graph.graph_from_bbox(north, south, east, west, network_type='drive')\n",
    "    \n",
    "    original_nodes, original_edges = momepy.nx_to_gdf(G)\n",
    "    \n",
    "    edges = original_edges.dropna(subset=[\"geometry\"]).reset_index(drop=True)\n",
    "    \n",
    "    hits = bbox.apply(lambda row: list(edges.sindex.intersection(row)), axis=1)\n",
    "    \n",
    "    tmp = pd.DataFrame({\n",
    "    \"pt_idx\":np.repeat(hits.index,hits.apply(len)),\n",
    "    \"line_i\":np.concatenate(hits.values)        \n",
    "    })\n",
    "    \n",
    "    tmp = tmp.join(edges.reset_index(drop=True),on = \"line_i\")\n",
    "\n",
    "    tmp = tmp.join(ground_df.geometry.rename(\"point\"),on = \"pt_idx\")\n",
    "\n",
    "    tmp = gpd.GeoDataFrame(tmp, geometry=\"geometry\", crs=ground_df.crs)\n",
    "    \n",
    "    tmp[\"snap_dist\"] = tmp.geometry.distance(gpd.GeoSeries(tmp[\"point\"]))\n",
    "\n",
    "\n",
    "    tolerance = 0.0005\n",
    "    tmp = tmp.loc[tmp[\"snap_dist\"] <= tolerance]\n",
    "    tmp = tmp.sort_values(by = [\"snap_dist\"]);\n",
    "\n",
    "    closest = tmp.groupby(\"pt_idx\").first()\n",
    "\n",
    "    cloest = gpd.GeoDataFrame(closest, geometry = \"geometry\")\n",
    "\n",
    "\n",
    "    closest = gpd.GeoDataFrame(cloest, geometry = \"geometry\");\n",
    "    closest =closest.drop_duplicates(\"line_i\").reset_index(drop=True)\n",
    "    \n",
    "    \n",
    "    line_points_list = []\n",
    "    split = 50  # param: number of split in each LineString\n",
    "    for dist in range(0, split, 1):\n",
    "        dist = dist/split\n",
    "        line_points = closest[\"geometry\"].interpolate(dist, normalized=True)\n",
    "        line_points_list.append(line_points)\n",
    "        line_points = pd.concat(line_points_list).reset_index(drop=True)\n",
    "        line_points = line_points.reset_index().rename(columns={0:\"geometry\"})\n",
    "        line_points[\"lngDeg\"] = line_points[\"geometry\"].x\n",
    "        line_points[\"latDeg\"] = line_points[\"geometry\"].y\n",
    "        \n",
    "    return line_points"
   ]
  },
  {
   "cell_type": "code",
   "execution_count": 8,
   "id": "3728d59f",
   "metadata": {},
   "outputs": [
    {
     "data": {
      "application/vnd.jupyter.widget-view+json": {
       "model_id": "fb4b0e14f12743d399f0afa0961bcbe5",
       "version_major": 2,
       "version_minor": 0
      },
      "text/plain": [
       "  0%|          | 0/48 [00:00<?, ?it/s]"
      ]
     },
     "metadata": {},
     "output_type": "display_data"
    },
    {
     "ename": "KeyboardInterrupt",
     "evalue": "",
     "output_type": "error",
     "traceback": [
      "\u001b[0;31m---------------------------------------------------------------------------\u001b[0m",
      "\u001b[0;31mKeyboardInterrupt\u001b[0m                         Traceback (most recent call last)",
      "\u001b[0;32m<ipython-input-8-554ebf43d73f>\u001b[0m in \u001b[0;36m<module>\u001b[0;34m\u001b[0m\n\u001b[1;32m      7\u001b[0m     \u001b[0mnum\u001b[0m \u001b[0;34m=\u001b[0m  \u001b[0mtmp_df\u001b[0m\u001b[0;34m[\u001b[0m\u001b[0;34m[\u001b[0m\u001b[0;34m\"latDeg\"\u001b[0m\u001b[0;34m,\u001b[0m\u001b[0;34m\"lngDeg\"\u001b[0m\u001b[0;34m]\u001b[0m\u001b[0;34m]\u001b[0m\u001b[0;34m.\u001b[0m\u001b[0mto_numpy\u001b[0m\u001b[0;34m(\u001b[0m\u001b[0;34m)\u001b[0m\u001b[0;34m.\u001b[0m\u001b[0mtolist\u001b[0m\u001b[0;34m(\u001b[0m\u001b[0;34m)\u001b[0m\u001b[0;34m\u001b[0m\u001b[0;34m\u001b[0m\u001b[0m\n\u001b[1;32m      8\u001b[0m \u001b[0;34m\u001b[0m\u001b[0m\n\u001b[0;32m----> 9\u001b[0;31m     \u001b[0mgrids_list\u001b[0m \u001b[0;34m=\u001b[0m \u001b[0mgenerate_grids\u001b[0m\u001b[0;34m(\u001b[0m\u001b[0mdf_train\u001b[0m\u001b[0;34m,\u001b[0m\u001b[0mkey\u001b[0m\u001b[0;34m.\u001b[0m\u001b[0msplit\u001b[0m\u001b[0;34m(\u001b[0m\u001b[0;34m\"_\"\u001b[0m\u001b[0;34m)\u001b[0m\u001b[0;34m[\u001b[0m\u001b[0;36m0\u001b[0m\u001b[0;34m]\u001b[0m\u001b[0;34m)\u001b[0m\u001b[0;34m\u001b[0m\u001b[0;34m\u001b[0m\u001b[0m\n\u001b[0m\u001b[1;32m     10\u001b[0m \u001b[0;34m\u001b[0m\u001b[0m\n\u001b[1;32m     11\u001b[0m     \u001b[0mtmp_df\u001b[0m\u001b[0;34m[\u001b[0m\u001b[0;34m\"min_idx\"\u001b[0m\u001b[0;34m]\u001b[0m \u001b[0;34m=\u001b[0m \u001b[0mfind_closest_using_single_point\u001b[0m\u001b[0;34m(\u001b[0m\u001b[0mnum\u001b[0m\u001b[0;34m,\u001b[0m\u001b[0mgrids_list\u001b[0m\u001b[0;34m)\u001b[0m\u001b[0;34m;\u001b[0m\u001b[0;34m\u001b[0m\u001b[0;34m\u001b[0m\u001b[0m\n",
      "\u001b[0;32m<ipython-input-6-c57f6cde55ca>\u001b[0m in \u001b[0;36mgenerate_grids\u001b[0;34m(arg_df, target_collection)\u001b[0m\n\u001b[1;32m     20\u001b[0m     \u001b[0msouth\u001b[0m \u001b[0;34m=\u001b[0m \u001b[0mbbox\u001b[0m\u001b[0;34m[\u001b[0m\u001b[0;34m\"miny\"\u001b[0m\u001b[0;34m]\u001b[0m\u001b[0;34m.\u001b[0m\u001b[0mmin\u001b[0m\u001b[0;34m(\u001b[0m\u001b[0;34m)\u001b[0m\u001b[0;34m\u001b[0m\u001b[0;34m\u001b[0m\u001b[0m\n\u001b[1;32m     21\u001b[0m     \u001b[0mnorth\u001b[0m \u001b[0;34m=\u001b[0m \u001b[0mbbox\u001b[0m\u001b[0;34m[\u001b[0m\u001b[0;34m\"maxy\"\u001b[0m\u001b[0;34m]\u001b[0m\u001b[0;34m.\u001b[0m\u001b[0mmax\u001b[0m\u001b[0;34m(\u001b[0m\u001b[0;34m)\u001b[0m\u001b[0;34m\u001b[0m\u001b[0;34m\u001b[0m\u001b[0m\n\u001b[0;32m---> 22\u001b[0;31m     \u001b[0mG\u001b[0m \u001b[0;34m=\u001b[0m \u001b[0mox\u001b[0m\u001b[0;34m.\u001b[0m\u001b[0mgraph\u001b[0m\u001b[0;34m.\u001b[0m\u001b[0mgraph_from_bbox\u001b[0m\u001b[0;34m(\u001b[0m\u001b[0mnorth\u001b[0m\u001b[0;34m,\u001b[0m \u001b[0msouth\u001b[0m\u001b[0;34m,\u001b[0m \u001b[0meast\u001b[0m\u001b[0;34m,\u001b[0m \u001b[0mwest\u001b[0m\u001b[0;34m,\u001b[0m \u001b[0mnetwork_type\u001b[0m\u001b[0;34m=\u001b[0m\u001b[0;34m'drive'\u001b[0m\u001b[0;34m)\u001b[0m\u001b[0;34m\u001b[0m\u001b[0;34m\u001b[0m\u001b[0m\n\u001b[0m\u001b[1;32m     23\u001b[0m \u001b[0;34m\u001b[0m\u001b[0m\n\u001b[1;32m     24\u001b[0m     \u001b[0moriginal_nodes\u001b[0m\u001b[0;34m,\u001b[0m \u001b[0moriginal_edges\u001b[0m \u001b[0;34m=\u001b[0m \u001b[0mmomepy\u001b[0m\u001b[0;34m.\u001b[0m\u001b[0mnx_to_gdf\u001b[0m\u001b[0;34m(\u001b[0m\u001b[0mG\u001b[0m\u001b[0;34m)\u001b[0m\u001b[0;34m\u001b[0m\u001b[0;34m\u001b[0m\u001b[0m\n",
      "\u001b[0;32m/opt/conda/lib/python3.7/site-packages/osmnx/graph.py\u001b[0m in \u001b[0;36mgraph_from_bbox\u001b[0;34m(north, south, east, west, network_type, simplify, retain_all, truncate_by_edge, clean_periphery, custom_filter)\u001b[0m\n\u001b[1;32m     86\u001b[0m         \u001b[0mtruncate_by_edge\u001b[0m\u001b[0;34m=\u001b[0m\u001b[0mtruncate_by_edge\u001b[0m\u001b[0;34m,\u001b[0m\u001b[0;34m\u001b[0m\u001b[0;34m\u001b[0m\u001b[0m\n\u001b[1;32m     87\u001b[0m         \u001b[0mclean_periphery\u001b[0m\u001b[0;34m=\u001b[0m\u001b[0mclean_periphery\u001b[0m\u001b[0;34m,\u001b[0m\u001b[0;34m\u001b[0m\u001b[0;34m\u001b[0m\u001b[0m\n\u001b[0;32m---> 88\u001b[0;31m         \u001b[0mcustom_filter\u001b[0m\u001b[0;34m=\u001b[0m\u001b[0mcustom_filter\u001b[0m\u001b[0;34m,\u001b[0m\u001b[0;34m\u001b[0m\u001b[0;34m\u001b[0m\u001b[0m\n\u001b[0m\u001b[1;32m     89\u001b[0m     )\n\u001b[1;32m     90\u001b[0m \u001b[0;34m\u001b[0m\u001b[0m\n",
      "\u001b[0;32m/opt/conda/lib/python3.7/site-packages/osmnx/graph.py\u001b[0m in \u001b[0;36mgraph_from_polygon\u001b[0;34m(polygon, network_type, simplify, retain_all, truncate_by_edge, clean_periphery, custom_filter)\u001b[0m\n\u001b[1;32m    421\u001b[0m         \u001b[0;31m# create buffered graph from the downloaded data\u001b[0m\u001b[0;34m\u001b[0m\u001b[0;34m\u001b[0m\u001b[0;34m\u001b[0m\u001b[0m\n\u001b[1;32m    422\u001b[0m         \u001b[0mbidirectional\u001b[0m \u001b[0;34m=\u001b[0m \u001b[0mnetwork_type\u001b[0m \u001b[0;32min\u001b[0m \u001b[0msettings\u001b[0m\u001b[0;34m.\u001b[0m\u001b[0mbidirectional_network_types\u001b[0m\u001b[0;34m\u001b[0m\u001b[0;34m\u001b[0m\u001b[0m\n\u001b[0;32m--> 423\u001b[0;31m         \u001b[0mG_buff\u001b[0m \u001b[0;34m=\u001b[0m \u001b[0m_create_graph\u001b[0m\u001b[0;34m(\u001b[0m\u001b[0mresponse_jsons\u001b[0m\u001b[0;34m,\u001b[0m \u001b[0mretain_all\u001b[0m\u001b[0;34m=\u001b[0m\u001b[0;32mTrue\u001b[0m\u001b[0;34m,\u001b[0m \u001b[0mbidirectional\u001b[0m\u001b[0;34m=\u001b[0m\u001b[0mbidirectional\u001b[0m\u001b[0;34m)\u001b[0m\u001b[0;34m\u001b[0m\u001b[0;34m\u001b[0m\u001b[0m\n\u001b[0m\u001b[1;32m    424\u001b[0m \u001b[0;34m\u001b[0m\u001b[0m\n\u001b[1;32m    425\u001b[0m         \u001b[0;31m# truncate buffered graph to the buffered polygon and retain_all for\u001b[0m\u001b[0;34m\u001b[0m\u001b[0;34m\u001b[0m\u001b[0;34m\u001b[0m\u001b[0m\n",
      "\u001b[0;32m/opt/conda/lib/python3.7/site-packages/osmnx/graph.py\u001b[0m in \u001b[0;36m_create_graph\u001b[0;34m(response_jsons, retain_all, bidirectional)\u001b[0m\n\u001b[1;32m    561\u001b[0m     \u001b[0;31m# add length (great-circle distance between nodes) attribute to each edge\u001b[0m\u001b[0;34m\u001b[0m\u001b[0;34m\u001b[0m\u001b[0;34m\u001b[0m\u001b[0m\n\u001b[1;32m    562\u001b[0m     \u001b[0;32mif\u001b[0m \u001b[0mlen\u001b[0m\u001b[0;34m(\u001b[0m\u001b[0mG\u001b[0m\u001b[0;34m.\u001b[0m\u001b[0medges\u001b[0m\u001b[0;34m)\u001b[0m \u001b[0;34m>\u001b[0m \u001b[0;36m0\u001b[0m\u001b[0;34m:\u001b[0m\u001b[0;34m\u001b[0m\u001b[0;34m\u001b[0m\u001b[0m\n\u001b[0;32m--> 563\u001b[0;31m         \u001b[0mG\u001b[0m \u001b[0;34m=\u001b[0m \u001b[0mutils_graph\u001b[0m\u001b[0;34m.\u001b[0m\u001b[0madd_edge_lengths\u001b[0m\u001b[0;34m(\u001b[0m\u001b[0mG\u001b[0m\u001b[0;34m)\u001b[0m\u001b[0;34m\u001b[0m\u001b[0;34m\u001b[0m\u001b[0m\n\u001b[0m\u001b[1;32m    564\u001b[0m \u001b[0;34m\u001b[0m\u001b[0m\n\u001b[1;32m    565\u001b[0m     \u001b[0;32mreturn\u001b[0m \u001b[0mG\u001b[0m\u001b[0;34m\u001b[0m\u001b[0;34m\u001b[0m\u001b[0m\n",
      "\u001b[0;32m/opt/conda/lib/python3.7/site-packages/osmnx/utils_graph.py\u001b[0m in \u001b[0;36madd_edge_lengths\u001b[0;34m(G, precision)\u001b[0m\n\u001b[1;32m    188\u001b[0m     \u001b[0mdists\u001b[0m \u001b[0;34m=\u001b[0m \u001b[0mdistance\u001b[0m\u001b[0;34m.\u001b[0m\u001b[0mgreat_circle_vec\u001b[0m\u001b[0;34m(\u001b[0m\u001b[0mdf\u001b[0m\u001b[0;34m[\u001b[0m\u001b[0;34m\"u_y\"\u001b[0m\u001b[0;34m]\u001b[0m\u001b[0;34m,\u001b[0m \u001b[0mdf\u001b[0m\u001b[0;34m[\u001b[0m\u001b[0;34m\"u_x\"\u001b[0m\u001b[0;34m]\u001b[0m\u001b[0;34m,\u001b[0m \u001b[0mdf\u001b[0m\u001b[0;34m[\u001b[0m\u001b[0;34m\"v_y\"\u001b[0m\u001b[0;34m]\u001b[0m\u001b[0;34m,\u001b[0m \u001b[0mdf\u001b[0m\u001b[0;34m[\u001b[0m\u001b[0;34m\"v_x\"\u001b[0m\u001b[0;34m]\u001b[0m\u001b[0;34m)\u001b[0m\u001b[0;34m\u001b[0m\u001b[0;34m\u001b[0m\u001b[0m\n\u001b[1;32m    189\u001b[0m     \u001b[0mdists\u001b[0m \u001b[0;34m=\u001b[0m \u001b[0mdists\u001b[0m\u001b[0;34m.\u001b[0m\u001b[0mfillna\u001b[0m\u001b[0;34m(\u001b[0m\u001b[0mvalue\u001b[0m\u001b[0;34m=\u001b[0m\u001b[0;36m0\u001b[0m\u001b[0;34m)\u001b[0m\u001b[0;34m.\u001b[0m\u001b[0mround\u001b[0m\u001b[0;34m(\u001b[0m\u001b[0mprecision\u001b[0m\u001b[0;34m)\u001b[0m\u001b[0;34m\u001b[0m\u001b[0;34m\u001b[0m\u001b[0m\n\u001b[0;32m--> 190\u001b[0;31m     \u001b[0mnx\u001b[0m\u001b[0;34m.\u001b[0m\u001b[0mset_edge_attributes\u001b[0m\u001b[0;34m(\u001b[0m\u001b[0mG\u001b[0m\u001b[0;34m,\u001b[0m \u001b[0mname\u001b[0m\u001b[0;34m=\u001b[0m\u001b[0;34m\"length\"\u001b[0m\u001b[0;34m,\u001b[0m \u001b[0mvalues\u001b[0m\u001b[0;34m=\u001b[0m\u001b[0mdists\u001b[0m\u001b[0;34m)\u001b[0m\u001b[0;34m\u001b[0m\u001b[0;34m\u001b[0m\u001b[0m\n\u001b[0m\u001b[1;32m    191\u001b[0m \u001b[0;34m\u001b[0m\u001b[0m\n\u001b[1;32m    192\u001b[0m     \u001b[0mutils\u001b[0m\u001b[0;34m.\u001b[0m\u001b[0mlog\u001b[0m\u001b[0;34m(\u001b[0m\u001b[0;34m\"Added edge lengths to graph\"\u001b[0m\u001b[0;34m)\u001b[0m\u001b[0;34m\u001b[0m\u001b[0;34m\u001b[0m\u001b[0m\n",
      "\u001b[0;32m/opt/conda/lib/python3.7/site-packages/networkx/classes/function.py\u001b[0m in \u001b[0;36mset_edge_attributes\u001b[0;34m(G, values, name)\u001b[0m\n\u001b[1;32m    787\u001b[0m             \u001b[0;31m# if `values` is a dict using `.items()` => {edge: value}\u001b[0m\u001b[0;34m\u001b[0m\u001b[0;34m\u001b[0m\u001b[0;34m\u001b[0m\u001b[0m\n\u001b[1;32m    788\u001b[0m             \u001b[0;32mif\u001b[0m \u001b[0mG\u001b[0m\u001b[0;34m.\u001b[0m\u001b[0mis_multigraph\u001b[0m\u001b[0;34m(\u001b[0m\u001b[0;34m)\u001b[0m\u001b[0;34m:\u001b[0m\u001b[0;34m\u001b[0m\u001b[0;34m\u001b[0m\u001b[0m\n\u001b[0;32m--> 789\u001b[0;31m                 \u001b[0;32mfor\u001b[0m \u001b[0;34m(\u001b[0m\u001b[0mu\u001b[0m\u001b[0;34m,\u001b[0m \u001b[0mv\u001b[0m\u001b[0;34m,\u001b[0m \u001b[0mkey\u001b[0m\u001b[0;34m)\u001b[0m\u001b[0;34m,\u001b[0m \u001b[0mvalue\u001b[0m \u001b[0;32min\u001b[0m \u001b[0mvalues\u001b[0m\u001b[0;34m.\u001b[0m\u001b[0mitems\u001b[0m\u001b[0;34m(\u001b[0m\u001b[0;34m)\u001b[0m\u001b[0;34m:\u001b[0m\u001b[0;34m\u001b[0m\u001b[0;34m\u001b[0m\u001b[0m\n\u001b[0m\u001b[1;32m    790\u001b[0m                     \u001b[0;32mtry\u001b[0m\u001b[0;34m:\u001b[0m\u001b[0;34m\u001b[0m\u001b[0;34m\u001b[0m\u001b[0m\n\u001b[1;32m    791\u001b[0m                         \u001b[0mG\u001b[0m\u001b[0;34m[\u001b[0m\u001b[0mu\u001b[0m\u001b[0;34m]\u001b[0m\u001b[0;34m[\u001b[0m\u001b[0mv\u001b[0m\u001b[0;34m]\u001b[0m\u001b[0;34m[\u001b[0m\u001b[0mkey\u001b[0m\u001b[0;34m]\u001b[0m\u001b[0;34m[\u001b[0m\u001b[0mname\u001b[0m\u001b[0;34m]\u001b[0m \u001b[0;34m=\u001b[0m \u001b[0mvalue\u001b[0m\u001b[0;34m\u001b[0m\u001b[0;34m\u001b[0m\u001b[0m\n",
      "\u001b[0;32m/opt/conda/lib/python3.7/site-packages/pandas/core/series.py\u001b[0m in \u001b[0;36mitems\u001b[0;34m(self)\u001b[0m\n\u001b[1;32m   1505\u001b[0m         \u001b[0mIndex\u001b[0m \u001b[0;34m:\u001b[0m \u001b[0;36m2\u001b[0m\u001b[0;34m,\u001b[0m \u001b[0mValue\u001b[0m \u001b[0;34m:\u001b[0m \u001b[0mC\u001b[0m\u001b[0;34m\u001b[0m\u001b[0;34m\u001b[0m\u001b[0m\n\u001b[1;32m   1506\u001b[0m         \"\"\"\n\u001b[0;32m-> 1507\u001b[0;31m         \u001b[0;32mreturn\u001b[0m \u001b[0mzip\u001b[0m\u001b[0;34m(\u001b[0m\u001b[0miter\u001b[0m\u001b[0;34m(\u001b[0m\u001b[0mself\u001b[0m\u001b[0;34m.\u001b[0m\u001b[0mindex\u001b[0m\u001b[0;34m)\u001b[0m\u001b[0;34m,\u001b[0m \u001b[0miter\u001b[0m\u001b[0;34m(\u001b[0m\u001b[0mself\u001b[0m\u001b[0;34m)\u001b[0m\u001b[0;34m)\u001b[0m\u001b[0;34m\u001b[0m\u001b[0;34m\u001b[0m\u001b[0m\n\u001b[0m\u001b[1;32m   1508\u001b[0m \u001b[0;34m\u001b[0m\u001b[0m\n\u001b[1;32m   1509\u001b[0m     \u001b[0;34m@\u001b[0m\u001b[0mAppender\u001b[0m\u001b[0;34m(\u001b[0m\u001b[0mitems\u001b[0m\u001b[0;34m.\u001b[0m\u001b[0m__doc__\u001b[0m\u001b[0;34m)\u001b[0m\u001b[0;34m\u001b[0m\u001b[0;34m\u001b[0m\u001b[0m\n",
      "\u001b[0;32m/opt/conda/lib/python3.7/site-packages/pandas/core/base.py\u001b[0m in \u001b[0;36m__iter__\u001b[0;34m(self)\u001b[0m\n\u001b[1;32m    807\u001b[0m         \"\"\"\n\u001b[1;32m    808\u001b[0m         \u001b[0;31m# We are explicitly making element iterators.\u001b[0m\u001b[0;34m\u001b[0m\u001b[0;34m\u001b[0m\u001b[0;34m\u001b[0m\u001b[0m\n\u001b[0;32m--> 809\u001b[0;31m         \u001b[0;32mif\u001b[0m \u001b[0;32mnot\u001b[0m \u001b[0misinstance\u001b[0m\u001b[0;34m(\u001b[0m\u001b[0mself\u001b[0m\u001b[0;34m.\u001b[0m\u001b[0m_values\u001b[0m\u001b[0;34m,\u001b[0m \u001b[0mnp\u001b[0m\u001b[0;34m.\u001b[0m\u001b[0mndarray\u001b[0m\u001b[0;34m)\u001b[0m\u001b[0;34m:\u001b[0m\u001b[0;34m\u001b[0m\u001b[0;34m\u001b[0m\u001b[0m\n\u001b[0m\u001b[1;32m    810\u001b[0m             \u001b[0;31m# Check type instead of dtype to catch DTA/TDA\u001b[0m\u001b[0;34m\u001b[0m\u001b[0;34m\u001b[0m\u001b[0;34m\u001b[0m\u001b[0m\n\u001b[1;32m    811\u001b[0m             \u001b[0;32mreturn\u001b[0m \u001b[0miter\u001b[0m\u001b[0;34m(\u001b[0m\u001b[0mself\u001b[0m\u001b[0;34m.\u001b[0m\u001b[0m_values\u001b[0m\u001b[0;34m)\u001b[0m\u001b[0;34m\u001b[0m\u001b[0;34m\u001b[0m\u001b[0m\n",
      "\u001b[0;32mpandas/_libs/properties.pyx\u001b[0m in \u001b[0;36mpandas._libs.properties.CachedProperty.__get__\u001b[0;34m()\u001b[0m\n",
      "\u001b[0;32m/opt/conda/lib/python3.7/site-packages/pandas/core/indexes/multi.py\u001b[0m in \u001b[0;36m_values\u001b[0;34m(self)\u001b[0m\n\u001b[1;32m    680\u001b[0m             \u001b[0mvalues\u001b[0m\u001b[0;34m.\u001b[0m\u001b[0mappend\u001b[0m\u001b[0;34m(\u001b[0m\u001b[0mvals\u001b[0m\u001b[0;34m)\u001b[0m\u001b[0;34m\u001b[0m\u001b[0;34m\u001b[0m\u001b[0m\n\u001b[1;32m    681\u001b[0m \u001b[0;34m\u001b[0m\u001b[0m\n\u001b[0;32m--> 682\u001b[0;31m         \u001b[0marr\u001b[0m \u001b[0;34m=\u001b[0m \u001b[0mlib\u001b[0m\u001b[0;34m.\u001b[0m\u001b[0mfast_zip\u001b[0m\u001b[0;34m(\u001b[0m\u001b[0mvalues\u001b[0m\u001b[0;34m)\u001b[0m\u001b[0;34m\u001b[0m\u001b[0;34m\u001b[0m\u001b[0m\n\u001b[0m\u001b[1;32m    683\u001b[0m         \u001b[0;32mreturn\u001b[0m \u001b[0marr\u001b[0m\u001b[0;34m\u001b[0m\u001b[0;34m\u001b[0m\u001b[0m\n\u001b[1;32m    684\u001b[0m \u001b[0;34m\u001b[0m\u001b[0m\n",
      "\u001b[0;31mKeyboardInterrupt\u001b[0m: "
     ]
    }
   ],
   "source": [
    "path = \"/work/data/input/google-smartphone-decimeter-challenge/baseline_locations_test.csv\"\n",
    "df_train = pd.read_csv(path)\n",
    "\n",
    "pd_list = [];\n",
    "for key,each_df in tqdm(df_train.groupby([[\"collectionName\",\"phoneName\"]])):\n",
    "    tmp_df = each_df.copy();\n",
    "    num =  tmp_df[[\"latDeg\",\"lngDeg\"]].to_numpy().tolist()\n",
    "    \n",
    "    grids_list = generate_grids(df_train,key.split(\"_\")[0])\n",
    "    \n",
    "    tmp_df[\"min_idx\"] = find_closest_using_single_point(num,grids_list);\n",
    "    \n",
    "    tmp_df[\"latDeg\"] = tmp_df[\"min_idx\"].apply(lambda x: aasdf(x,grids_list,0))\n",
    "    tmp_df[\"lngDeg\"] = tmp_df[\"min_idx\"].apply(lambda x: aasdf(x,grids_list,1))\n",
    "    \n",
    "    pd_list.append(tmp_df)\n",
    "                \n",
    "    \n",
    "result_df = pd.concat(pd_list).sort_index();"
   ]
  }
 ],
 "metadata": {
  "kernelspec": {
   "display_name": "Python 3",
   "language": "python",
   "name": "python3"
  },
  "language_info": {
   "codemirror_mode": {
    "name": "ipython",
    "version": 3
   },
   "file_extension": ".py",
   "mimetype": "text/x-python",
   "name": "python",
   "nbconvert_exporter": "python",
   "pygments_lexer": "ipython3",
   "version": "3.7.10"
  }
 },
 "nbformat": 4,
 "nbformat_minor": 5
}
