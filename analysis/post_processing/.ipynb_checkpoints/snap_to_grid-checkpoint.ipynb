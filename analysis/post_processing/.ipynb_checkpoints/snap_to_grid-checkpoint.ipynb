{
 "cells": [
  {
   "cell_type": "code",
   "execution_count": 1,
   "id": "6e0924f5",
   "metadata": {},
   "outputs": [],
   "source": [
    "import numpy as np\n",
    "import pandas as pd\n",
    "import glob\n",
    "import os\n",
    "import matplotlib.pyplot as plt\n",
    "from tqdm.notebook import tqdm\n",
    "from pathlib import Path\n",
    "import plotly.express as px\n",
    "\n",
    "from multiplyList import find_closest\n",
    "from lib.io import load_pickle_data\n",
    "from lib.noglobal import noglobal\n",
    "from external_lib.visualize import visualize_trafic\n",
    "from external_lib.evaluation_function import calc_haversine\n",
    "from external_lib.outlier_correlation import outlier_correlation"
   ]
  },
  {
   "cell_type": "markdown",
   "id": "b3b5cd47",
   "metadata": {},
   "source": [
    "### load data"
   ]
  },
  {
   "cell_type": "code",
   "execution_count": 2,
   "id": "78aa8cc4",
   "metadata": {},
   "outputs": [
    {
     "data": {
      "text/plain": [
       "lngDeg    float64\n",
       "latDeg    float64\n",
       "dtype: object"
      ]
     },
     "execution_count": 2,
     "metadata": {},
     "output_type": "execute_result"
    }
   ],
   "source": [
    "train_df_path = \"/work/data/input/selfmade_dataset/baseline_with_derived_data_v5/train.pkl\"\n",
    "#best_sub = \"/work/data/submission_list/baseline_with_merge_poitns_with_kalman_with_phone_interplorate_by_removing_phone/result_test.csv\"\n",
    "\n",
    "\n",
    "train_df  = load_pickle_data(train_df_path);\n",
    "gt_df = train_df.copy();\n",
    "gt_df[\"lngDeg\"] = gt_df[\"lngDeg_gt\"]\n",
    "gt_df[\"latDeg\"] = gt_df[\"latDeg_gt\"]\n",
    "gt_df[\"collectionName\"] = gt_df[\"phone\"].apply(lambda x: x.split(\"_\")[0])\n",
    "\n",
    "gt_df[[\"lngDeg\",\"latDeg\"]].dtypes"
   ]
  },
  {
   "cell_type": "markdown",
   "id": "85408b04",
   "metadata": {},
   "source": [
    "#### generated grids"
   ]
  },
  {
   "cell_type": "code",
   "execution_count": 3,
   "id": "5972ed37",
   "metadata": {},
   "outputs": [],
   "source": [
    "from external_lib.outlier_correlation import outlier_correlation\n",
    "from lib.kalman_filter import generate_kalmanfilter,apply_kalmanfilter\n",
    "\n",
    "kf = generate_kalmanfilter()"
   ]
  },
  {
   "cell_type": "code",
   "execution_count": 4,
   "id": "5c6693cd",
   "metadata": {
    "scrolled": false
   },
   "outputs": [
    {
     "name": "stderr",
     "output_type": "stream",
     "text": [
      "/opt/conda/lib/python3.7/site-packages/geopandas/_compat.py:110: UserWarning: The Shapely GEOS version (3.8.1-CAPI-1.13.3) is incompatible with the GEOS version PyGEOS was compiled with (3.9.1-CAPI-1.14.2). Conversions between both will be slow.\n",
      "  shapely_geos_version, geos_capi_version_string\n"
     ]
    },
    {
     "name": "stdout",
     "output_type": "stream",
     "text": [
      "before 5.287859611805194\n"
     ]
    },
    {
     "ename": "NameError",
     "evalue": "name 'result_df' is not defined",
     "output_type": "error",
     "traceback": [
      "\u001b[0;31m---------------------------------------------------------------------------\u001b[0m",
      "\u001b[0;31mNameError\u001b[0m                                 Traceback (most recent call last)",
      "\u001b[0;32m<ipython-input-4-d009cb80027a>\u001b[0m in \u001b[0;36m<module>\u001b[0;34m\u001b[0m\n\u001b[1;32m     10\u001b[0m \u001b[0mtrain_df\u001b[0m\u001b[0;34m[\u001b[0m\u001b[0;34m\"dist_\"\u001b[0m\u001b[0;34m]\u001b[0m \u001b[0;34m=\u001b[0m \u001b[0mcalc_haversine\u001b[0m\u001b[0;34m(\u001b[0m\u001b[0mtrain_df\u001b[0m\u001b[0;34m[\u001b[0m\u001b[0;34m\"latDeg\"\u001b[0m\u001b[0;34m]\u001b[0m\u001b[0;34m,\u001b[0m\u001b[0mtrain_df\u001b[0m\u001b[0;34m[\u001b[0m\u001b[0;34m\"lngDeg\"\u001b[0m\u001b[0;34m]\u001b[0m\u001b[0;34m,\u001b[0m\u001b[0mtrain_df\u001b[0m\u001b[0;34m[\u001b[0m\u001b[0;34m\"latDeg_gt\"\u001b[0m\u001b[0;34m]\u001b[0m\u001b[0;34m,\u001b[0m\u001b[0mtrain_df\u001b[0m\u001b[0;34m[\u001b[0m\u001b[0;34m\"lngDeg_gt\"\u001b[0m\u001b[0;34m]\u001b[0m\u001b[0;34m)\u001b[0m\u001b[0;34m\u001b[0m\u001b[0;34m\u001b[0m\u001b[0m\n\u001b[1;32m     11\u001b[0m \u001b[0mprint\u001b[0m\u001b[0;34m(\u001b[0m\u001b[0;34m\"before\"\u001b[0m\u001b[0;34m,\u001b[0m\u001b[0mevaluate_function\u001b[0m\u001b[0;34m(\u001b[0m\u001b[0mtrain_df\u001b[0m\u001b[0;34m,\u001b[0m\u001b[0mdistance_col\u001b[0m\u001b[0;34m=\u001b[0m\u001b[0;34m\"dist_\"\u001b[0m\u001b[0;34m)\u001b[0m\u001b[0;34m)\u001b[0m\u001b[0;34m\u001b[0m\u001b[0;34m\u001b[0m\u001b[0m\n\u001b[0;32m---> 12\u001b[0;31m \u001b[0mresult_df\u001b[0m\u001b[0;34m[\u001b[0m\u001b[0;34m\"dist_\"\u001b[0m\u001b[0;34m]\u001b[0m \u001b[0;34m=\u001b[0m \u001b[0mcalc_haversine\u001b[0m\u001b[0;34m(\u001b[0m\u001b[0mresult_df\u001b[0m\u001b[0;34m[\u001b[0m\u001b[0;34m\"latDeg\"\u001b[0m\u001b[0;34m]\u001b[0m\u001b[0;34m,\u001b[0m\u001b[0mresult_df\u001b[0m\u001b[0;34m[\u001b[0m\u001b[0;34m\"lngDeg\"\u001b[0m\u001b[0;34m]\u001b[0m\u001b[0;34m,\u001b[0m\u001b[0mtrain_df\u001b[0m\u001b[0;34m[\u001b[0m\u001b[0;34m\"latDeg_gt\"\u001b[0m\u001b[0;34m]\u001b[0m\u001b[0;34m,\u001b[0m\u001b[0mtrain_df\u001b[0m\u001b[0;34m[\u001b[0m\u001b[0;34m\"lngDeg_gt\"\u001b[0m\u001b[0;34m]\u001b[0m\u001b[0;34m)\u001b[0m\u001b[0;34m\u001b[0m\u001b[0;34m\u001b[0m\u001b[0m\n\u001b[0m\u001b[1;32m     13\u001b[0m \u001b[0mprint\u001b[0m\u001b[0;34m(\u001b[0m\u001b[0;34m\"after\"\u001b[0m\u001b[0;34m,\u001b[0m\u001b[0mevaluate_function\u001b[0m\u001b[0;34m(\u001b[0m\u001b[0mresult_df\u001b[0m\u001b[0;34m,\u001b[0m\u001b[0mdistance_col\u001b[0m\u001b[0;34m=\u001b[0m\u001b[0;34m\"dist_\"\u001b[0m\u001b[0;34m)\u001b[0m\u001b[0;34m)\u001b[0m\u001b[0;34m\u001b[0m\u001b[0;34m\u001b[0m\u001b[0m\n\u001b[1;32m     14\u001b[0m \u001b[0;34m\u001b[0m\u001b[0m\n",
      "\u001b[0;31mNameError\u001b[0m: name 'result_df' is not defined"
     ]
    }
   ],
   "source": [
    "from external_lib.snap_to_grid_to_SJC import snap_to_grid_to_SJC\n",
    "from external_lib.evaluation_function import evaluate_function\n",
    "\n",
    "\n",
    "train_df_path = \"/work/data/input/selfmade_dataset/baseline_with_derived_data_v5/train.pkl\"\n",
    "train_df = load_pickle_data(train_df_path)\n",
    "\n",
    "result_df = snap_to_grid_to_SJC(train_df)\n",
    "\n",
    "train_df[\"dist_\"] = calc_haversine(train_df[\"latDeg\"],train_df[\"lngDeg\"],train_df[\"latDeg_gt\"],train_df[\"lngDeg_gt\"])\n",
    "print(\"before\",evaluate_function(train_df,distance_col=\"dist_\"))\n",
    "result_df[\"dist_\"] = calc_haversine(result_df[\"latDeg\"],result_df[\"lngDeg\"],train_df[\"latDeg_gt\"],train_df[\"lngDeg_gt\"])\n",
    "print(\"after\",evaluate_function(result_df,distance_col=\"dist_\"))\n",
    "\n",
    "\n",
    "for key, each_df in train_df.groupby([\"collectionName\",\"phoneName\"]):\n",
    "    #print(key)\n",
    "    \n",
    "    \n",
    "    collectionName = key[0]\n",
    "    phoneName = key[1]\n",
    "    if(not \"SJC\" in collectionName):\n",
    "        continue;\n",
    "    \n",
    "    tmp_df = result_df[ (train_df[\"collectionName\"] == collectionName ) & (train_df[\"phoneName\"] == phoneName )]\n",
    "    \n",
    "    print(f\"-------------{key}------------\")\n",
    "    print(each_df[\"dist_\"].mean(),tmp_df[\"dist_\"].mean())\n",
    "    "
   ]
  },
  {
   "cell_type": "code",
   "execution_count": null,
   "id": "f2b509f6",
   "metadata": {},
   "outputs": [],
   "source": [
    "gt = train_df[ (train_df[\"collectionName\"] == \"2020-08-03-US-MTV-1\" ) & (train_df[\"phoneName\"] == \"Pixel4\" )]\n",
    "result_df_per_path = result_df[ (train_df[\"collectionName\"] == \"2020-08-03-US-MTV-1\" ) & (train_df[\"phoneName\"] == \"Pixel4\" )]\n",
    "train_df_per_path = train_df[ (train_df[\"collectionName\"] == \"2020-08-03-US-MTV-1\" ) & (train_df[\"phoneName\"] == \"Pixel4\" )]\n",
    "result_df_per_path[\"label\"] = \"snaped\"\n",
    "train_df_per_path[\"label\"] = \"original\"\n",
    "gt[\"label\"] = \"ground truth\"\n",
    "#train_df_per_path[\"tmp\"] = train_df_per_path[\"latDeg\"]\n",
    "gt[\"latDeg\"] = train_df_per_path[\"latDeg_gt\"]\n",
    "gt[\"lngDeg\"] = train_df_per_path[\"lngDeg_gt\"]\n",
    "\n",
    "\n",
    "df = pd.concat([result_df_per_path,train_df_per_path,gt]);"
   ]
  },
  {
   "cell_type": "code",
   "execution_count": null,
   "id": "52c2aeac",
   "metadata": {},
   "outputs": [],
   "source": [
    "visualize_trafic(df,color_header= \"label\")"
   ]
  },
  {
   "cell_type": "code",
   "execution_count": null,
   "id": "93bde7da",
   "metadata": {},
   "outputs": [],
   "source": [
    "train_df_path = \"/work/data/input/selfmade_dataset/baseline_with_derived_data_v5/train.pkl\"\n",
    "train_df = load_pickle_data(train_df_path)\n",
    "\n",
    "(2020-08-03-US-MTV-1\" ) & (train_df[\"phoneName\"] == \"Pixel4\" "
   ]
  }
 ],
 "metadata": {
  "kernelspec": {
   "display_name": "Python 3",
   "language": "python",
   "name": "python3"
  },
  "language_info": {
   "codemirror_mode": {
    "name": "ipython",
    "version": 3
   },
   "file_extension": ".py",
   "mimetype": "text/x-python",
   "name": "python",
   "nbconvert_exporter": "python",
   "pygments_lexer": "ipython3",
   "version": "3.7.10"
  },
  "toc": {
   "base_numbering": 1,
   "nav_menu": {},
   "number_sections": true,
   "sideBar": true,
   "skip_h1_title": false,
   "title_cell": "Table of Contents",
   "title_sidebar": "Contents",
   "toc_cell": false,
   "toc_position": {},
   "toc_section_display": true,
   "toc_window_display": false
  }
 },
 "nbformat": 4,
 "nbformat_minor": 5
}
