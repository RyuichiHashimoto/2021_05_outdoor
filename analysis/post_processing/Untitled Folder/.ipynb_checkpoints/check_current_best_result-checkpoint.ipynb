{
 "cells": [
  {
   "cell_type": "code",
   "execution_count": 12,
   "id": "8c37cf10",
   "metadata": {},
   "outputs": [],
   "source": [
    "from external_lib.visualize import visualize_trafic\n",
    "\n",
    "from lib.io import load_pickle_data\n",
    "\n",
    "import pandas as pd\n",
    "import numpy as np"
   ]
  },
  {
   "cell_type": "code",
   "execution_count": 7,
   "id": "f2ba36a0",
   "metadata": {},
   "outputs": [],
   "source": [
    "best_path =  \"/work/data/submission_list/baseline_with_snap_to_grid_to_2_or_3_kalman_interplorate/result.csv\""
   ]
  },
  {
   "cell_type": "code",
   "execution_count": 14,
   "id": "a1604893",
   "metadata": {},
   "outputs": [],
   "source": [
    "sub = pd.read_csv(best_path);"
   ]
  },
  {
   "cell_type": "code",
   "execution_count": 80,
   "id": "7c103e4a",
   "metadata": {},
   "outputs": [
    {
     "name": "stdout",
     "output_type": "stream",
     "text": [
      "48\n"
     ]
    }
   ],
   "source": [
    "#SJC = [ i for i in sub[\"phone\"].unique().tolist() if \"SJC-2\" in i or \"SJC-3\" in i]\n",
    "SJC = [ i for i in sub[\"phone\"].unique().tolist() ]\n",
    "print(len(SJC))"
   ]
  },
  {
   "cell_type": "code",
   "execution_count": 24,
   "id": "abe22828",
   "metadata": {},
   "outputs": [
    {
     "data": {
      "text/html": [
       "<div>\n",
       "<style scoped>\n",
       "    .dataframe tbody tr th:only-of-type {\n",
       "        vertical-align: middle;\n",
       "    }\n",
       "\n",
       "    .dataframe tbody tr th {\n",
       "        vertical-align: top;\n",
       "    }\n",
       "\n",
       "    .dataframe thead th {\n",
       "        text-align: right;\n",
       "    }\n",
       "</style>\n",
       "<table border=\"1\" class=\"dataframe\">\n",
       "  <thead>\n",
       "    <tr style=\"text-align: right;\">\n",
       "      <th></th>\n",
       "      <th>phone</th>\n",
       "      <th>millisSinceGpsEpoch</th>\n",
       "      <th>latDeg</th>\n",
       "      <th>lngDeg</th>\n",
       "    </tr>\n",
       "  </thead>\n",
       "  <tbody>\n",
       "    <tr>\n",
       "      <th>74067</th>\n",
       "      <td>2021-04-22-US-SJC-2_SamsungS20Ultra</td>\n",
       "      <td>1303164074000</td>\n",
       "      <td>37.334604</td>\n",
       "      <td>-121.899406</td>\n",
       "    </tr>\n",
       "    <tr>\n",
       "      <th>74068</th>\n",
       "      <td>2021-04-22-US-SJC-2_SamsungS20Ultra</td>\n",
       "      <td>1303164075000</td>\n",
       "      <td>37.334604</td>\n",
       "      <td>-121.899406</td>\n",
       "    </tr>\n",
       "    <tr>\n",
       "      <th>74069</th>\n",
       "      <td>2021-04-22-US-SJC-2_SamsungS20Ultra</td>\n",
       "      <td>1303164076000</td>\n",
       "      <td>37.334604</td>\n",
       "      <td>-121.899406</td>\n",
       "    </tr>\n",
       "  </tbody>\n",
       "</table>\n",
       "</div>"
      ],
      "text/plain": [
       "                                     phone  millisSinceGpsEpoch     latDeg  \\\n",
       "74067  2021-04-22-US-SJC-2_SamsungS20Ultra        1303164074000  37.334604   \n",
       "74068  2021-04-22-US-SJC-2_SamsungS20Ultra        1303164075000  37.334604   \n",
       "74069  2021-04-22-US-SJC-2_SamsungS20Ultra        1303164076000  37.334604   \n",
       "\n",
       "           lngDeg  \n",
       "74067 -121.899406  \n",
       "74068 -121.899406  \n",
       "74069 -121.899406  "
      ]
     },
     "execution_count": 24,
     "metadata": {},
     "output_type": "execute_result"
    }
   ],
   "source": [
    "df = sub[sub[\"phone\"].str.contains(\"|\".join(SJC))]\n"
   ]
  },
  {
   "cell_type": "code",
   "execution_count": null,
   "id": "a95dc441",
   "metadata": {},
   "outputs": [],
   "source": [
    "## kininaruten \n",
    "## 2020-05-28-US-MTV-1_Pixel4\n",
    "## 2020-05-28-US-MTV-2_Pixel4\n",
    "## 2021-03-16-US-MTV-2_SamsungS20Ultra\n",
    "## 2021-03-16-US-RWC-2_Pixel4XL\n",
    "## 2021-03-25-US-PAO-1_Mi8\n",
    "### スマホごとにばらつきがあるイメージなので\n",
    "### グリッドを基準点にして、グリットからの距離が長い端末は他のやつに合わせるような処理が必要？"
   ]
  },
  {
   "cell_type": "code",
   "execution_count": 99,
   "id": "7404e66e",
   "metadata": {},
   "outputs": [
    {
     "ename": "IndexError",
     "evalue": "list index out of range",
     "output_type": "error",
     "traceback": [
      "\u001b[0;31m---------------------------------------------------------------------------\u001b[0m",
      "\u001b[0;31mIndexError\u001b[0m                                Traceback (most recent call last)",
      "\u001b[0;32m<ipython-input-99-a4c88ef9e365>\u001b[0m in \u001b[0;36m<module>\u001b[0;34m\u001b[0m\n\u001b[0;32m----> 1\u001b[0;31m \u001b[0mpath\u001b[0m \u001b[0;34m=\u001b[0m \u001b[0mSJC\u001b[0m\u001b[0;34m[\u001b[0m\u001b[0;36m48\u001b[0m\u001b[0;34m]\u001b[0m\u001b[0;34m\u001b[0m\u001b[0;34m\u001b[0m\u001b[0m\n\u001b[0m\u001b[1;32m      2\u001b[0m \u001b[0mprint\u001b[0m\u001b[0;34m(\u001b[0m\u001b[0mpath\u001b[0m\u001b[0;34m)\u001b[0m\u001b[0;34m\u001b[0m\u001b[0;34m\u001b[0m\u001b[0m\n\u001b[1;32m      3\u001b[0m \u001b[0mvisualize_trafic\u001b[0m\u001b[0;34m(\u001b[0m\u001b[0msub\u001b[0m\u001b[0;34m[\u001b[0m\u001b[0msub\u001b[0m\u001b[0;34m[\u001b[0m\u001b[0;34m\"phone\"\u001b[0m\u001b[0;34m]\u001b[0m \u001b[0;34m==\u001b[0m \u001b[0mpath\u001b[0m\u001b[0;34m]\u001b[0m\u001b[0;34m)\u001b[0m\u001b[0;34m\u001b[0m\u001b[0;34m\u001b[0m\u001b[0m\n",
      "\u001b[0;31mIndexError\u001b[0m: list index out of range"
     ]
    }
   ],
   "source": [
    "path = SJC[48]\n",
    "print(path)\n",
    "visualize_trafic(sub[sub[\"phone\"] == path])"
   ]
  }
 ],
 "metadata": {
  "kernelspec": {
   "display_name": "Python 3",
   "language": "python",
   "name": "python3"
  },
  "language_info": {
   "codemirror_mode": {
    "name": "ipython",
    "version": 3
   },
   "file_extension": ".py",
   "mimetype": "text/x-python",
   "name": "python",
   "nbconvert_exporter": "python",
   "pygments_lexer": "ipython3",
   "version": "3.7.10"
  }
 },
 "nbformat": 4,
 "nbformat_minor": 5
}
