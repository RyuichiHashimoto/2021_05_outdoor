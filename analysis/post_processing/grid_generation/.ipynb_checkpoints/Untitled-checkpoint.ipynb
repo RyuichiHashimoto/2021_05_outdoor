{
 "cells": [
  {
   "cell_type": "code",
   "execution_count": 8,
   "id": "f26407bc",
   "metadata": {},
   "outputs": [
    {
     "data": {
      "text/plain": [
       "['__doc__',\n",
       " '__file__',\n",
       " '__loader__',\n",
       " '__name__',\n",
       " '__package__',\n",
       " '__spec__',\n",
       " 'find_closest_using_multiple_point',\n",
       " 'find_closest_using_single_point',\n",
       " 'merge_points_on_the_road']"
      ]
     },
     "execution_count": 8,
     "metadata": {},
     "output_type": "execute_result"
    }
   ],
   "source": [
    "import pandas as pd\n",
    "from external_lib.visualize import visualize_trafic\n",
    "\n",
    "import  c_library.find_closest_using_multiple_point as find_closest\n",
    "\n",
    "#from external_lib.snap_to_grid_to_SJC import generate_grids\n",
    "dir(c_library)"
   ]
  },
  {
   "cell_type": "code",
   "execution_count": null,
   "id": "bb46c825",
   "metadata": {},
   "outputs": [],
   "source": [
    "train_df_path = \"/work/data/submission_list/baseline_with_snap_to_grid_to_2_or_3_kalman_interplorate_patial_twice/train_result.csv\"\n",
    "train_df = pd.read_csv(train_df_path)\n",
    "\n",
    "test_df_path = \"/work/data/submission_list/baseline_with_snap_to_grid_to_2_or_3_kalman_interplorate_patial_twice/train_result.csv\"\n",
    "test_df = pd.read_csv(test_df_path)"
   ]
  },
  {
   "cell_type": "code",
   "execution_count": null,
   "id": "48201f0d",
   "metadata": {},
   "outputs": [],
   "source": [
    "SJC_list = [i  for i in train_df[\"phone\"].unique().tolist() if \"SJC\" in i]\n",
    "\n"
   ]
  },
  {
   "cell_type": "code",
   "execution_count": null,
   "id": "e10f1f6a",
   "metadata": {},
   "outputs": [],
   "source": [
    "phone = \"2021-04-28-US-SJC-1_Pixel4\"\n",
    "\n",
    "each_df = train_df[train_df[\"phone\"] == phone];"
   ]
  },
  {
   "cell_type": "code",
   "execution_count": null,
   "id": "24664edb",
   "metadata": {},
   "outputs": [],
   "source": [
    "visualize_trafic(each_df)"
   ]
  }
 ],
 "metadata": {
  "kernelspec": {
   "display_name": "Python 3",
   "language": "python",
   "name": "python3"
  },
  "language_info": {
   "codemirror_mode": {
    "name": "ipython",
    "version": 3
   },
   "file_extension": ".py",
   "mimetype": "text/x-python",
   "name": "python",
   "nbconvert_exporter": "python",
   "pygments_lexer": "ipython3",
   "version": "3.7.10"
  },
  "toc": {
   "base_numbering": 1,
   "nav_menu": {},
   "number_sections": true,
   "sideBar": true,
   "skip_h1_title": false,
   "title_cell": "Table of Contents",
   "title_sidebar": "Contents",
   "toc_cell": false,
   "toc_position": {},
   "toc_section_display": true,
   "toc_window_display": false
  }
 },
 "nbformat": 4,
 "nbformat_minor": 5
}
