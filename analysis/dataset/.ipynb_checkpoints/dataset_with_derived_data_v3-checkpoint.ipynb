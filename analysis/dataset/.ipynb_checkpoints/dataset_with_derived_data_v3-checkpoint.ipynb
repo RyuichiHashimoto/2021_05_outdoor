{
 "cells": [
  {
   "cell_type": "code",
   "execution_count": 1,
   "id": "8a6de2d6",
   "metadata": {},
   "outputs": [],
   "source": [
    "import pandas as pd\n",
    "import numpy as np\n",
    "import os\n",
    "\n",
    "from lib.io import load_pickle_data\n",
    "from external_lib.gnss_transformer import get_gnss_data_path_from_phone,gnss_log_to_dataframes,load_gnss_raw_data_from_file\n",
    "from tqdm import tqdm as default_tqdm\n",
    "from tqdm.notebook import tqdm as notebook_tqdm"
   ]
  },
  {
   "cell_type": "code",
   "execution_count": 2,
   "id": "40382646",
   "metadata": {},
   "outputs": [
    {
     "name": "stdout",
     "output_type": "stream",
     "text": [
      "Pixel4_GnssLog.txt  Pixel4_derived.csv\tground_truth.csv  supplemental\r\n"
     ]
    }
   ],
   "source": [
    "!ls /work/data/input/google-smartphone-decimeter-challenge/train/2020-05-14-US-MTV-1/Pixel4/"
   ]
  },
  {
   "cell_type": "code",
   "execution_count": 3,
   "id": "b04d756b",
   "metadata": {},
   "outputs": [],
   "source": [
    "train_df_path =  \"/work/data/input/selfmade_dataset/baseline_with_derived_data_v2/train.pkl\"\n",
    "train_df = load_pickle_data(train_df_path)\n",
    "train_df = train_df.rename(columns={\"millisSinceGpsEpoch\":\"MillisSinceGpsEpoch\"})\n",
    "\n",
    "test_df_path =  \"/work/data/input/selfmade_dataset/baseline_with_derived_data_v2/test.pkl\"\n",
    "test_df = load_pickle_data(train_df_path)\n",
    "test_df = test_df.rename(columns={\"millisSinceGpsEpoch\":\"MillisSinceGpsEpoch\"})"
   ]
  },
  {
   "cell_type": "code",
   "execution_count": null,
   "id": "a5188b0a",
   "metadata": {},
   "outputs": [
    {
     "data": {
      "application/vnd.jupyter.widget-view+json": {
       "model_id": "bc2c895ba9264b9d9e14764b949fd531",
       "version_major": 2,
       "version_minor": 0
      },
      "text/plain": [
       "  0%|          | 0/73 [00:00<?, ?it/s]"
      ]
     },
     "metadata": {},
     "output_type": "display_data"
    }
   ],
   "source": [
    "s = [];\n",
    "\n",
    "for key, eac in notebook_tqdm(train_df.groupby(\"phone\")):\n",
    "    \n",
    "    data_path = get_gnss_data_path_from_phone(key,istrain=True);            \n",
    "    gnss_data_raw = load_gnss_raw_data_from_file(data_path,verbose = \"none\")\n",
    "                            \n",
    "    gnss_data_raw['MillisSinceGpsEpoch'] = np.floor( (gnss_data_raw['TimeNanos'] - gnss_data_raw['FullBiasNanos']) / 1000000.0).astype(int)\n",
    "    \n",
    "    raw_timestamps = gnss_data_raw['MillisSinceGpsEpoch'].unique()    \n",
    "    derived_timestamps = eac['MillisSinceGpsEpoch'].unique()\n",
    "    \n",
    "    indexes = np.searchsorted(raw_timestamps, derived_timestamps)    \n",
    "    \n",
    "    from_t_to_fix_derived = dict(zip(derived_timestamps, raw_timestamps[indexes-1]))\n",
    "        \n",
    "    eac['MillisSinceGpsEpoch'] = np.array(list(map(lambda v: from_t_to_fix_derived[v], eac['MillisSinceGpsEpoch'])))\n",
    "    \n",
    "    s.append(eac);\n",
    "    \n",
    "    \n",
    "    \n",
    "    \n",
    "\n",
    "        "
   ]
  },
  {
   "cell_type": "code",
   "execution_count": null,
   "id": "59f37bd0",
   "metadata": {},
   "outputs": [],
   "source": [
    "from lib.io import save_data_as_csv_and_pkl\n",
    "\n",
    "output = pd.concat(s).sort_index();\n",
    "save_data_as_csv_and_pkl(output,\"/work/data/input/selfmade_dataset/baseline_with_derived_data_v3/train.\");"
   ]
  }
 ],
 "metadata": {
  "kernelspec": {
   "display_name": "Python 3",
   "language": "python",
   "name": "python3"
  },
  "language_info": {
   "codemirror_mode": {
    "name": "ipython",
    "version": 3
   },
   "file_extension": ".py",
   "mimetype": "text/x-python",
   "name": "python",
   "nbconvert_exporter": "python",
   "pygments_lexer": "ipython3",
   "version": "3.7.10"
  },
  "toc": {
   "base_numbering": 1,
   "nav_menu": {},
   "number_sections": true,
   "sideBar": true,
   "skip_h1_title": false,
   "title_cell": "Table of Contents",
   "title_sidebar": "Contents",
   "toc_cell": false,
   "toc_position": {},
   "toc_section_display": true,
   "toc_window_display": false
  }
 },
 "nbformat": 4,
 "nbformat_minor": 5
}
