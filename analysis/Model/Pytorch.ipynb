{
 "cells": [
  {
   "cell_type": "code",
   "execution_count": 1,
   "id": "54701416",
   "metadata": {
    "hide_input": true
   },
   "outputs": [
    {
     "data": {
      "text/html": [
       "<style>\n",
       "    div#notebook-container    { width: 95%; }\n",
       "    div#menubar-container     { width: 65%; }\n",
       "    div#maintoolbar-container { width: 99%; }\n",
       "</style>\n"
      ],
      "text/plain": [
       "<IPython.core.display.HTML object>"
      ]
     },
     "metadata": {},
     "output_type": "display_data"
    }
   ],
   "source": [
    "%%HTML\n",
    "<style>\n",
    "    div#notebook-container    { width: 95%; }\n",
    "    div#menubar-container     { width: 65%; }\n",
    "    div#maintoolbar-container { width: 99%; }\n",
    "</style>"
   ]
  },
  {
   "cell_type": "code",
   "execution_count": 2,
   "id": "a676b454",
   "metadata": {},
   "outputs": [],
   "source": [
    "import torch\n",
    "from lib.io import load_pickle_data\n",
    "from lib.noglobal import noglobal\n",
    "from sklearn.preprocessing import StandardScaler, LabelEncoder,MinMaxScaler\n",
    "import torch.optim as optim"
   ]
  },
  {
   "cell_type": "markdown",
   "id": "49ab3529",
   "metadata": {},
   "source": [
    "## data loader"
   ]
  },
  {
   "cell_type": "markdown",
   "id": "ff2e2edd",
   "metadata": {},
   "source": [
    "### load data"
   ]
  },
  {
   "cell_type": "code",
   "execution_count": 3,
   "id": "b0654ba1",
   "metadata": {},
   "outputs": [],
   "source": [
    "train_path = \"/work/data/input/selfmade_dataset/baseline_with_derived_data_v1/train.pkl\"\n",
    "test_path = \"/work/data/input/selfmade_dataset/baseline_with_derived_data_v1/test.pkl\"\n",
    "df = load_pickle_data(train_path)\n",
    "test_df = load_pickle_data(test_path)\n",
    "\n",
    "train_df_path = ['2020-05-14-US-MTV-2', '2020-06-04-US-MTV-1', '2020-06-11-US-MTV-1', '2020-09-04-US-SF-2', '2021-01-04-US-RWC-2', '2021-03-10-US-SVL-1', '2021-04-28-US-MTV-1', '2021-04-29-US-SJC-2']\n",
    "valid_df_path = ['2020-05-14-US-MTV-1', '2020-05-21-US-MTV-1', '2020-05-21-US-MTV-2', '2020-05-29-US-MTV-1', '2020-05-29-US-MTV-2', '2020-06-05-US-MTV-1', '2020-06-05-US-MTV-2', '2020-07-08-US-MTV-1', '2020-07-17-US-MTV-1', '2020-07-17-US-MTV-2', '2020-08-03-US-MTV-1', '2020-08-06-US-MTV-2', '2020-09-04-US-SF-1', '2021-01-04-US-RWC-1', '2021-01-05-US-SVL-1', '2021-01-05-US-SVL-2', '2021-04-15-US-MTV-1', '2021-04-22-US-SJC-1', '2021-04-26-US-SVL-1', '2021-04-28-US-SJC-1', '2021-04-29-US-MTV-1']\n"
   ]
  },
  {
   "cell_type": "markdown",
   "id": "6e2e2900",
   "metadata": {},
   "source": [
    "### 欠損値処理 (0埋め)"
   ]
  },
  {
   "cell_type": "code",
   "execution_count": 4,
   "id": "f5dac221",
   "metadata": {},
   "outputs": [],
   "source": [
    "df = df.fillna(0)\n",
    "test_df = test_df.fillna(0)\n"
   ]
  },
  {
   "cell_type": "markdown",
   "id": "85f0af79",
   "metadata": {},
   "source": [
    "### ラベル"
   ]
  },
  {
   "cell_type": "code",
   "execution_count": 5,
   "id": "8189dd77",
   "metadata": {},
   "outputs": [],
   "source": [
    "derrived = [[\"svid_correctedPrM_\"+str(i),\"svid_xSatPosM_\"+str(i),\"svid_ySatPosM_\"+str(i),\"svid_zSatPosM_\"+str(i)] for i  in range(1,38) ]\n",
    "baseline_pred = [\"latDeg\",\"lngDeg\",\"heightAboveWgs84EllipsoidM\"]\n",
    "#baseline_pred = [\"latDeg\",\"lngDeg\",\"heightAboveWgs84EllipsoidM\",\"prev_lat\",\"prev_lng\",\"prev_heightAboveWgs84EllipsoidM\"]\n",
    "\n",
    "\n",
    "x_col =  baseline_pred +  sum( derrived, [])\n",
    "y_col = [\"LatDeg_gt\",\"LngDeg_gt\"]"
   ]
  },
  {
   "cell_type": "code",
   "execution_count": 6,
   "id": "ddf28f5d",
   "metadata": {},
   "outputs": [
    {
     "data": {
      "text/plain": [
       "151"
      ]
     },
     "execution_count": 6,
     "metadata": {},
     "output_type": "execute_result"
    }
   ],
   "source": [
    "len(x_col)"
   ]
  },
  {
   "cell_type": "markdown",
   "id": "58ad47a0",
   "metadata": {},
   "source": [
    "## Pytorch"
   ]
  },
  {
   "cell_type": "markdown",
   "id": "b125b432",
   "metadata": {},
   "source": [
    "https://www.kaggle.com/ebinan92/time-series-rnn-xy-prediction"
   ]
  },
  {
   "cell_type": "markdown",
   "id": "8723966e",
   "metadata": {},
   "source": [
    "### Import"
   ]
  },
  {
   "cell_type": "code",
   "execution_count": 7,
   "id": "66c11627",
   "metadata": {},
   "outputs": [],
   "source": [
    "from torch.utils.data import DataLoader\n",
    "from torch.utils.data import Dataset\n",
    "import torch\n",
    "import torch.nn as nn\n",
    "import numpy as np"
   ]
  },
  {
   "cell_type": "markdown",
   "id": "9c44cb16",
   "metadata": {},
   "source": [
    "### Dataset"
   ]
  },
  {
   "cell_type": "code",
   "execution_count": 8,
   "id": "aa8d83a6",
   "metadata": {},
   "outputs": [],
   "source": [
    "class CustomDataset(Dataset):\n",
    "    \n",
    "    def __init__(self,df_x,df_y,transform=None,MEMORY_LENGTH=5):\n",
    "        \n",
    "        self.transform = transform;\n",
    "        \n",
    "        self.train_x = df_x.reset_index()\n",
    "        self.train_y = df_y.reset_index()\n",
    "        self.memory_length = MEMORY_LENGTH\n",
    "        \n",
    "        \n",
    "        \n",
    "        \n",
    "    \n",
    "    def __getitem__(self,idx):\n",
    "        \n",
    "        x = self.train_x.iloc[idx]\n",
    "        y = self.train_x.iloc[idx]        \n",
    "        \n",
    "        x_out = torch.tensor(x.to_numpy()).float();\n",
    "        y_out = torch.tensor(y.to_numpy()).float();\n",
    "                        \n",
    "        return x_out,y_out\n",
    "        \n",
    "    def __len__(self):\n",
    "        return len(self.train_x);\n",
    "        \n",
    "    "
   ]
  },
  {
   "cell_type": "code",
   "execution_count": 9,
   "id": "b0699b56",
   "metadata": {},
   "outputs": [],
   "source": [
    "class simple_MLP(nn.Module):\n",
    "    \n",
    "    def __init__(self,input_layer_size=152):\n",
    "        super(simple_MLP,self).__init__();\n",
    "        \n",
    "    \n",
    "        self.fc1 = nn.Linear(input_layer_size,512);\n",
    "        self.fc2 = nn.Linear(512,1024);\n",
    "        self.fc3 = nn.Linear(1024,512);\n",
    "        self.fc4 = nn.Linear(512,128);\n",
    "        self.fc5 = nn.Linear(128,2);\n",
    "        \n",
    "        self.dropout1 = nn.Dropout(0.2)\n",
    "        self.dropout2 = nn.Dropout(0.2)\n",
    "        self.dropout3 = nn.Dropout(0.2)\n",
    "        self.dropout4 = nn.Dropout(0.2)\n",
    "        \n",
    "        self.normalization1 = nn.BatchNorm1d(512)\n",
    "        self.normalization2 = nn.BatchNorm1d(1024)\n",
    "        self.normalization3 = nn.BatchNorm1d(512)\n",
    "        self.normalization4 = nn.BatchNorm1d(128)\n",
    "        \n",
    "        \n",
    "        \n",
    "        self.relu = nn.ReLU(False);\n",
    "        \n",
    "        \n",
    "    def forward(self, x):\n",
    "        \n",
    "        x = self.fc1(x)\n",
    "        x = self.dropout1(x)\n",
    "        x = self.normalization1(x)\n",
    "        x = self.relu(x)\n",
    "        \n",
    "        x = self.fc2(x)\n",
    "        x = self.dropout2(x)\n",
    "        x = self.normalization2(x)\n",
    "        x = self.relu(x)\n",
    "        \n",
    "        x = self.fc3(x)\n",
    "        x = self.dropout3(x)\n",
    "        x = self.normalization3(x)\n",
    "        \n",
    "        x = self.fc4(x)\n",
    "        x = self.dropout4(x)\n",
    "        x = self.normalization4(x)\n",
    "                \n",
    "        x = self.fc5(x)\n",
    "        \n",
    "        return x;\n",
    "        "
   ]
  },
  {
   "cell_type": "code",
   "execution_count": 10,
   "id": "4c46cc4b",
   "metadata": {},
   "outputs": [],
   "source": [
    "svid_correctedPrm = [ \"svid_correctedPrM_\"+str(i) for i in range(1,38)];\n",
    "svid_xSatPosM = [ \"svid_xSatPosM_\"+str(i) for i in range(1,38)];\n",
    "svid_ySatPosM = [ \"svid_xSatPosM_\"+str(i) for i in range(1,38)];\n",
    "svid_zSatPosM = [ \"svid_xSatPosM_\"+str(i) for i in range(1,38)];\n",
    "baseline_pred_lat = [\"latDeg\"]\n",
    "baseline_pred_lng = [\"lngDeg\"]\n",
    "baseline_pred_height = [\"heightAboveWgs84EllipsoidM\"]"
   ]
  },
  {
   "cell_type": "markdown",
   "id": "e1b67897",
   "metadata": {},
   "source": [
    "## preprocessing"
   ]
  },
  {
   "cell_type": "markdown",
   "id": "0b7479b1",
   "metadata": {},
   "source": [
    "### svid_correctedPrm"
   ]
  },
  {
   "cell_type": "code",
   "execution_count": 11,
   "id": "fe574c2f",
   "metadata": {},
   "outputs": [],
   "source": [
    "svid_correctedPrm_encoder = StandardScaler()\n",
    "svid_correctedPrm_encoder.fit(df.loc[:,svid_correctedPrm])\n",
    "\n",
    "df.loc[:,svid_correctedPrm] = svid_correctedPrm_encoder.transform(df.loc[:,svid_correctedPrm]);\n",
    "df.loc[:,svid_correctedPrm] = svid_correctedPrm_encoder.transform(df.loc[:,svid_correctedPrm]);\n"
   ]
  },
  {
   "cell_type": "markdown",
   "id": "cd0e2496",
   "metadata": {},
   "source": [
    "### svid_xSatPosM"
   ]
  },
  {
   "cell_type": "code",
   "execution_count": 12,
   "id": "297e2648",
   "metadata": {},
   "outputs": [],
   "source": [
    "svid_xSatPosM_encoder = StandardScaler()\n",
    "svid_xSatPosM_encoder.fit(df.loc[:,svid_xSatPosM])\n",
    "\n",
    "df.loc[:,svid_xSatPosM] = svid_xSatPosM_encoder.transform(df.loc[:,svid_xSatPosM]);\n",
    "test_df.loc[:,svid_xSatPosM] = svid_xSatPosM_encoder.transform(test_df.loc[:,svid_xSatPosM]);"
   ]
  },
  {
   "cell_type": "markdown",
   "id": "d8394c42",
   "metadata": {},
   "source": [
    "### svid_ySatPosM"
   ]
  },
  {
   "cell_type": "code",
   "execution_count": 13,
   "id": "8a4704bd",
   "metadata": {},
   "outputs": [],
   "source": [
    "svid_ySatPosM_encoder = StandardScaler()\n",
    "svid_ySatPosM_encoder.fit(df.loc[:,svid_ySatPosM])\n",
    "\n",
    "df.loc[:,svid_ySatPosM] = svid_ySatPosM_encoder.transform(df.loc[:,svid_ySatPosM]);\n",
    "test_df.loc[:,svid_ySatPosM] = svid_ySatPosM_encoder.transform(test_df.loc[:,svid_ySatPosM]);"
   ]
  },
  {
   "cell_type": "markdown",
   "id": "6bf8a35f",
   "metadata": {},
   "source": [
    "### svid_zSatPosM"
   ]
  },
  {
   "cell_type": "code",
   "execution_count": 14,
   "id": "c6590878",
   "metadata": {},
   "outputs": [],
   "source": [
    "svid_zSatPosM_encoder = StandardScaler()\n",
    "svid_zSatPosM_encoder.fit(df.loc[:,svid_zSatPosM])\n",
    "\n",
    "df.loc[:,svid_zSatPosM] = svid_zSatPosM_encoder.transform(df.loc[:,svid_zSatPosM]);\n",
    "test_df.loc[:,svid_zSatPosM] = svid_zSatPosM_encoder.transform(test_df.loc[:,svid_zSatPosM]);"
   ]
  },
  {
   "cell_type": "markdown",
   "id": "83338bc6",
   "metadata": {},
   "source": [
    "### heightAboveWgs84EllipsoidM"
   ]
  },
  {
   "cell_type": "code",
   "execution_count": 15,
   "id": "1f4d12df",
   "metadata": {},
   "outputs": [],
   "source": [
    "baseline_pred_height_encoder = StandardScaler()\n",
    "baseline_pred_height_encoder.fit(df.loc[:,baseline_pred_height])\n",
    "\n",
    "df.loc[:,baseline_pred_height] = baseline_pred_height_encoder.transform(df.loc[:,baseline_pred_height]);\n",
    "test_df.loc[:,baseline_pred_height] = baseline_pred_height_encoder.transform(test_df.loc[:,baseline_pred_height]);"
   ]
  },
  {
   "cell_type": "markdown",
   "id": "de9309ca",
   "metadata": {},
   "source": [
    "### baseline_pred_lat"
   ]
  },
  {
   "cell_type": "code",
   "execution_count": 16,
   "id": "92380993",
   "metadata": {},
   "outputs": [],
   "source": [
    "baseline_pred_lat_encoder = MinMaxScaler()\n",
    "baseline_pred_lat_encoder.fit(df.loc[:,baseline_pred_lat])\n",
    "\n",
    "df.loc[:,baseline_pred_lat] = baseline_pred_lat_encoder.transform(df.loc[:,baseline_pred_lat]);\n",
    "test_df.loc[:,baseline_pred_lat] = baseline_pred_lat_encoder.transform(test_df.loc[:,baseline_pred_lat]);"
   ]
  },
  {
   "cell_type": "markdown",
   "id": "169597d8",
   "metadata": {},
   "source": [
    "### baseline_pred_lat"
   ]
  },
  {
   "cell_type": "code",
   "execution_count": 17,
   "id": "80232103",
   "metadata": {},
   "outputs": [],
   "source": [
    "baseline_pred_lng_encoder = MinMaxScaler()\n",
    "baseline_pred_lng_encoder.fit(df.loc[:,baseline_pred_lng])\n",
    "\n",
    "df.loc[:,baseline_pred_lng] = baseline_pred_lng_encoder.transform(df.loc[:,baseline_pred_lng]);\n",
    "test_df.loc[:,baseline_pred_lng] = baseline_pred_lng_encoder.transform(test_df.loc[:,baseline_pred_lng]);"
   ]
  },
  {
   "cell_type": "markdown",
   "id": "6530ec64",
   "metadata": {},
   "source": [
    "## Evaluation function"
   ]
  },
  {
   "cell_type": "code",
   "execution_count": 18,
   "id": "3ec721b9",
   "metadata": {},
   "outputs": [],
   "source": [
    "\n",
    "def calc_haversine(predict, output):\n",
    "    \n",
    "    \n",
    "    lat1 = predict[:,0] + 36.0\n",
    "    lon1 = predict[:,1] - 123.0\n",
    "    \n",
    "    \n",
    "    lat2 = output[:,0] + 36.0\n",
    "    lon2 = output[:,1] - 123.0\n",
    "                \n",
    "    RADIUS = 6_367_000\n",
    "    lat1, lon1, lat2, lon2 = map(torch.rad2deg, [lat1, lon1, lat2, lon2])\n",
    "    dlat = lat2 - lat1\n",
    "    dlon = lon2 - lon1\n",
    "    a = torch.sin(dlat/2)**2 + torch.cos(lat1) * torch.cos(lat2) * torch.sin(dlon/2)**2\n",
    "    \n",
    "    a[a > 1] = 1\n",
    "    a[a < 0] = 0\n",
    "    \n",
    "    \n",
    "    dist = 2 * RADIUS * torch.arcsin(a**0.5)\n",
    "    \n",
    "    \n",
    "    return dist.sum()\n",
    "\n",
    "\n",
    "def compute_dist(oof, gt_df=None):\n",
    "        \n",
    "    if (gt_df is None):\n",
    "        FILES = glob.glob(f\"/work/data/input/google-smartphone-decimeter-challenge/train/*/*/ground_truth.csv\")\n",
    "        gt_list = [ pd.read_csv(f) for f in FILES ];\n",
    "        gt_df = pd.concat(gt_list,axis=0);\n",
    "            \n",
    "    \n",
    "    gt_df[\"phone\"] = gt_df[\"collectionName\"] + \"_\" + gt_df[\"phoneName\"]\n",
    "        \n",
    "    df = oof.merge(gt_df, on = ['phone','millisSinceGpsEpoch'])\n",
    "         \n",
    "    dst_oof = calc_haversine(df.latDeg_x,df.lngDeg_x, df.latDeg_y, df.lngDeg_y)\n",
    "    \n",
    "    scores = pd.DataFrame({'phone': df.phone,'dst': dst_oof})\n",
    "    scores_grp = scores.groupby('phone')\n",
    "    \n",
    "    d50 = scores_grp.quantile(.50).reset_index()\n",
    "    d50.columns = ['phone','q50']\n",
    "    d95 = scores_grp.quantile(.95).reset_index()\n",
    "    d95.columns = ['phone','q95']\n",
    "    \n",
    "    return (scores_grp.quantile(.50).mean() + scores_grp.quantile(.95).mean())/2, d50.merge(d95)\n"
   ]
  },
  {
   "cell_type": "code",
   "execution_count": 19,
   "id": "be03e711",
   "metadata": {},
   "outputs": [],
   "source": [
    "def comp_metric_xy_(output, y):\n",
    "    return torch.sqrt(((norms*(output - y[:,:2]))**2).sum())\n",
    "\n",
    "\n",
    "\n",
    "def comp_metric_xy(output, y, norms):\n",
    "    return torch.sqrt(((norms*(output - y[:,:2]))**2).sum())\n",
    "def weighted_mse_loss(output, y):\n",
    "    return (y[:, 2].reshape(-1,1)*(output - y[:,:2])**2).sum()\n",
    "def comp_metric_weighted_xy(output, y, norms):\n",
    "    return torch.sqrt(((y[:, 2].reshape(-1,1)*(norms * (output - y[:,:2]))**2)).sum())"
   ]
  },
  {
   "cell_type": "markdown",
   "id": "1ccd55de",
   "metadata": {},
   "source": [
    "## Traning"
   ]
  },
  {
   "cell_type": "code",
   "execution_count": 20,
   "id": "d2dafbf9",
   "metadata": {},
   "outputs": [],
   "source": [
    "x_col =  baseline_pred +  sum( derrived, [])\n",
    "y_col = [\"latDeg_gt\",\"lngDeg_gt\"]\n",
    "\n",
    "\n",
    "\n",
    "\n",
    "train_df = df[df.phone.str.contains(\"|\".join(train_df_path))].reset_index()\n",
    "valid_df = df[df.phone.str.contains(\"|\".join(valid_df_path))].reset_index()\n",
    "\n",
    "\n",
    "train_df_x = train_df[x_col]\n",
    "train_df_y = valid_df[y_col]\n",
    "\n",
    "valid_df_x = valid_df[x_col]\n",
    "valid_df_y = valid_df[y_col]\n",
    "\n",
    "\n",
    "training_loader = DataLoader(CustomDataset(train_df_x,train_df_y),batch_size=256,shuffle=False);\n",
    "validation_loader = DataLoader(CustomDataset(valid_df_x,valid_df_y),batch_size=256,shuffle=False);\n",
    "\n",
    "model = simple_MLP()\n",
    "\n",
    "optimizer = optim.Adam(model.parameters(), lr=0.005)\n",
    "\n",
    "criterion = comp_metric_xy_\n",
    "\n",
    "norm_x = np.max(df.loc[:, 'latDeg_gt'].values) - np.min(df.loc[:, 'latDeg_gt'].values)\n",
    "norm_y = np.max(df.loc[:, 'lngDeg_gt'].values) - np.min(df.loc[:, 'lngDeg_gt'].values)\n",
    "norms = torch.tensor([[norm_x, norm_y]])\n",
    "\n",
    "\n",
    "BATCH_SIZE = 256\n",
    "\n",
    "\n"
   ]
  },
  {
   "cell_type": "code",
   "execution_count": 21,
   "id": "080c03ab",
   "metadata": {},
   "outputs": [],
   "source": [
    "@noglobal()\n",
    "def train_manytomany(t_loader, v_loader, optimizer, criterion, model,norms):\n",
    "    \n",
    "    scheduler = optim.lr_scheduler.StepLR(optimizer, step_size=10, gamma=0.6)\n",
    "    model.train()\n",
    "    \n",
    "    early_stopping = 0    \n",
    "    \n",
    "    \n",
    "    \n",
    "    loss_pred = 10000000000000\n",
    "    EPOCH = 1000\n",
    "    DEVICE = \"cpu\"\n",
    "    \n",
    "    \n",
    "    for e in range(EPOCH):        \n",
    "        for x,y in t_loader:\n",
    "            optimizer.zero_grad();\n",
    "            x, y = x.to(DEVICE).float(), y.to(DEVICE).float()\n",
    "            \n",
    "            output = model(x)\n",
    "            \n",
    "            loss = criterion(output, y)\n",
    "            loss.backward()\n",
    "            optimizer.step();\n",
    "        \n",
    "        scheduler.step();\n",
    "        \n",
    "        if (e+1) % 1 == 0:\n",
    "            train_loss = [];\n",
    "            train_size = [];\n",
    "            \n",
    "            valid_loss = [];\n",
    "            valid_sizees = [];\n",
    "            \n",
    "            total_point = 0\n",
    "            \n",
    "            with torch.no_grad():\n",
    "                ## train data\n",
    "                \n",
    "                for (x,y) in t_loader:\n",
    "                    x, y = x.to(DEVICE).float(), y.to(DEVICE).float()\n",
    "                    output = model(x);                                                 \n",
    "                    loss = criterion(output, y);\n",
    "                    \n",
    "                    train_loss.append(loss.item());                                                \n",
    "                    train_size.append(output.numel());\n",
    "                \n",
    "                \n",
    "                for (x, y) in v_loader:\n",
    "                    x, y = x.to(DEVICE).float(), y.to(DEVICE).float()\n",
    "                    output = model(x)\n",
    "                    \n",
    "                    \n",
    "                    loss = criterion(output, y)\n",
    "                    #loss2 = comp_metric_weighted_xy(output, y, norms)\n",
    "                    \n",
    "                    valid_loss.append(loss.item())\n",
    "                    #losses2.append(loss2.item())\n",
    "                    valid_sizees.append(output.numel())\n",
    "                    \n",
    "                    \n",
    "                    \n",
    "                \n",
    "                training_score = np.sum(train_loss)/np.sum(train_size)\n",
    "                validation_score = np.sum(valid_loss)/np.sum(valid_sizees)\n",
    "                \n",
    "                #tmp2 = np.sum(losses2)/np.sum(sizees)\n",
    "                                \n",
    "                print(f\"epoch: {e+1}, t_loss: {training_score:.5f}, validation loss: {validation_score:.5f}, lr:{scheduler.get_last_lr()[0]:.5f}\")\n",
    "                    \n",
    "                if loss_pred < validation_score:\n",
    "                    early_stopping += 1\n",
    "                else:\n",
    "                    early_stopping = 0\n",
    "                    loss_pred = validation_score\n",
    "                    model_pred = model\n",
    "                if early_stopping > 5:                        \n",
    "                    return model_pred, loss_pred    \n",
    "    return model_pred, loss_pred\n",
    "                    \n",
    "                    "
   ]
  },
  {
   "cell_type": "code",
   "execution_count": 22,
   "id": "c6d64a63",
   "metadata": {},
   "outputs": [
    {
     "name": "stdout",
     "output_type": "stream",
     "text": [
      "epoch: 0, t_loss: 221.37942, validation loss: 530.97418, lr:0.00500\n",
      "epoch: 1, t_loss: 215.06283, validation loss: 524.58076, lr:0.00500\n",
      "epoch: 2, t_loss: 205.21708, validation loss: 514.38051, lr:0.00500\n",
      "epoch: 3, t_loss: 193.27569, validation loss: 501.56067, lr:0.00500\n",
      "epoch: 4, t_loss: 180.68662, validation loss: 487.39643, lr:0.00500\n",
      "epoch: 5, t_loss: 168.51148, validation loss: 472.88756, lr:0.00500\n",
      "epoch: 6, t_loss: 157.43551, validation loss: 458.76395, lr:0.00500\n",
      "epoch: 7, t_loss: 147.86898, validation loss: 445.59022, lr:0.00500\n",
      "epoch: 8, t_loss: 139.85800, validation loss: 433.57229, lr:0.00500\n",
      "epoch: 9, t_loss: 133.30712, validation loss: 422.77380, lr:0.00300\n",
      "epoch: 10, t_loss: 130.18164, validation loss: 417.19168, lr:0.00300\n",
      "epoch: 11, t_loss: 127.52192, validation loss: 412.14769, lr:0.00300\n",
      "epoch: 12, t_loss: 125.23185, validation loss: 407.53324, lr:0.00300\n",
      "epoch: 13, t_loss: 123.26107, validation loss: 403.30740, lr:0.00300\n",
      "epoch: 14, t_loss: 121.56699, validation loss: 399.43371, lr:0.00300\n",
      "epoch: 15, t_loss: 120.11747, validation loss: 395.89894, lr:0.00300\n",
      "epoch: 16, t_loss: 118.86350, validation loss: 392.63039, lr:0.00300\n",
      "epoch: 17, t_loss: 117.78172, validation loss: 389.61669, lr:0.00300\n",
      "epoch: 18, t_loss: 116.85254, validation loss: 386.84208, lr:0.00300\n",
      "epoch: 19, t_loss: 116.05796, validation loss: 384.29817, lr:0.00180\n",
      "epoch: 20, t_loss: 115.65823, validation loss: 382.94191, lr:0.00180\n",
      "epoch: 21, t_loss: 115.28963, validation loss: 381.63554, lr:0.00180\n",
      "epoch: 22, t_loss: 114.95699, validation loss: 380.41183, lr:0.00180\n",
      "epoch: 23, t_loss: 114.65822, validation loss: 379.25724, lr:0.00180\n",
      "epoch: 24, t_loss: 114.37939, validation loss: 378.14078, lr:0.00180\n",
      "epoch: 25, t_loss: 114.12898, validation loss: 377.09582, lr:0.00180\n",
      "epoch: 26, t_loss: 113.89765, validation loss: 376.08053, lr:0.00180\n",
      "epoch: 27, t_loss: 113.68906, validation loss: 375.13231, lr:0.00180\n",
      "epoch: 28, t_loss: 113.49596, validation loss: 374.21052, lr:0.00180\n",
      "epoch: 29, t_loss: 113.32233, validation loss: 373.34867, lr:0.00108\n",
      "epoch: 30, t_loss: 113.22997, validation loss: 372.87715, lr:0.00108\n",
      "epoch: 31, t_loss: 113.14326, validation loss: 372.41176, lr:0.00108\n",
      "epoch: 32, t_loss: 113.06015, validation loss: 371.95405, lr:0.00108\n",
      "epoch: 33, t_loss: 112.98029, validation loss: 371.50706, lr:0.00108\n",
      "epoch: 34, t_loss: 112.90409, validation loss: 371.08544, lr:0.00108\n",
      "epoch: 35, t_loss: 112.83441, validation loss: 370.67319, lr:0.00108\n",
      "epoch: 36, t_loss: 112.76891, validation loss: 370.26574, lr:0.00108\n",
      "epoch: 37, t_loss: 112.70418, validation loss: 369.86283, lr:0.00108\n",
      "epoch: 38, t_loss: 112.64430, validation loss: 369.48459, lr:0.00108\n",
      "epoch: 39, t_loss: 112.58640, validation loss: 369.11872, lr:0.00065\n",
      "epoch: 40, t_loss: 112.55368, validation loss: 368.90793, lr:0.00065\n",
      "epoch: 41, t_loss: 112.52309, validation loss: 368.69771, lr:0.00065\n",
      "epoch: 42, t_loss: 112.49316, validation loss: 368.49262, lr:0.00065\n",
      "epoch: 43, t_loss: 112.46450, validation loss: 368.29357, lr:0.00065\n",
      "epoch: 44, t_loss: 112.43680, validation loss: 368.10126, lr:0.00065\n",
      "epoch: 45, t_loss: 112.40955, validation loss: 367.91016, lr:0.00065\n",
      "epoch: 46, t_loss: 112.38287, validation loss: 367.72231, lr:0.00065\n",
      "epoch: 47, t_loss: 112.35788, validation loss: 367.53316, lr:0.00065\n",
      "epoch: 48, t_loss: 112.33312, validation loss: 367.34833, lr:0.00065\n",
      "epoch: 49, t_loss: 112.30916, validation loss: 367.16042, lr:0.00039\n",
      "epoch: 50, t_loss: 112.29552, validation loss: 367.05577, lr:0.00039\n",
      "epoch: 51, t_loss: 112.28248, validation loss: 366.94958, lr:0.00039\n",
      "epoch: 52, t_loss: 112.26933, validation loss: 366.84983, lr:0.00039\n",
      "epoch: 53, t_loss: 112.25718, validation loss: 366.75046, lr:0.00039\n",
      "epoch: 54, t_loss: 112.24526, validation loss: 366.65348, lr:0.00039\n",
      "epoch: 55, t_loss: 112.23311, validation loss: 366.55641, lr:0.00039\n",
      "epoch: 56, t_loss: 112.22135, validation loss: 366.46029, lr:0.00039\n",
      "epoch: 57, t_loss: 112.20959, validation loss: 366.36463, lr:0.00039\n",
      "epoch: 58, t_loss: 112.19795, validation loss: 366.26909, lr:0.00039\n",
      "epoch: 59, t_loss: 112.18603, validation loss: 366.17358, lr:0.00023\n",
      "epoch: 60, t_loss: 112.17918, validation loss: 366.11643, lr:0.00023\n",
      "epoch: 61, t_loss: 112.17201, validation loss: 366.05995, lr:0.00023\n",
      "epoch: 62, t_loss: 112.16506, validation loss: 366.00301, lr:0.00023\n",
      "epoch: 63, t_loss: 112.15831, validation loss: 365.94658, lr:0.00023\n",
      "epoch: 64, t_loss: 112.15170, validation loss: 365.88971, lr:0.00023\n",
      "epoch: 65, t_loss: 112.14484, validation loss: 365.83373, lr:0.00023\n",
      "epoch: 66, t_loss: 112.13793, validation loss: 365.77698, lr:0.00023\n",
      "epoch: 67, t_loss: 112.13166, validation loss: 365.72135, lr:0.00023\n",
      "epoch: 68, t_loss: 112.12514, validation loss: 365.66466, lr:0.00023\n",
      "epoch: 69, t_loss: 112.11920, validation loss: 365.60978, lr:0.00014\n",
      "epoch: 70, t_loss: 112.11533, validation loss: 365.57741, lr:0.00014\n",
      "epoch: 71, t_loss: 112.11191, validation loss: 365.54550, lr:0.00014\n",
      "epoch: 72, t_loss: 112.10836, validation loss: 365.51362, lr:0.00014\n",
      "epoch: 73, t_loss: 112.10496, validation loss: 365.48238, lr:0.00014\n",
      "epoch: 74, t_loss: 112.10174, validation loss: 365.45159, lr:0.00014\n",
      "epoch: 75, t_loss: 112.09859, validation loss: 365.42101, lr:0.00014\n",
      "epoch: 76, t_loss: 112.09536, validation loss: 365.39077, lr:0.00014\n",
      "epoch: 77, t_loss: 112.09228, validation loss: 365.36078, lr:0.00014\n",
      "epoch: 78, t_loss: 112.08904, validation loss: 365.33136, lr:0.00014\n",
      "epoch: 79, t_loss: 112.08596, validation loss: 365.30204, lr:0.00008\n",
      "epoch: 80, t_loss: 112.08440, validation loss: 365.28475, lr:0.00008\n",
      "epoch: 81, t_loss: 112.08244, validation loss: 365.26732, lr:0.00008\n",
      "epoch: 82, t_loss: 112.08048, validation loss: 365.25028, lr:0.00008\n",
      "epoch: 83, t_loss: 112.07874, validation loss: 365.23300, lr:0.00008\n",
      "epoch: 84, t_loss: 112.07707, validation loss: 365.21600, lr:0.00008\n",
      "epoch: 85, t_loss: 112.07517, validation loss: 365.19904, lr:0.00008\n",
      "epoch: 86, t_loss: 112.07346, validation loss: 365.18201, lr:0.00008\n",
      "epoch: 87, t_loss: 112.07157, validation loss: 365.16502, lr:0.00008\n",
      "epoch: 88, t_loss: 112.06991, validation loss: 365.14811, lr:0.00008\n",
      "epoch: 89, t_loss: 112.06833, validation loss: 365.13112, lr:0.00005\n",
      "epoch: 90, t_loss: 112.06704, validation loss: 365.12095, lr:0.00005\n",
      "epoch: 91, t_loss: 112.06597, validation loss: 365.11091, lr:0.00005\n",
      "epoch: 92, t_loss: 112.06497, validation loss: 365.10070, lr:0.00005\n",
      "epoch: 93, t_loss: 112.06395, validation loss: 365.09062, lr:0.00005\n",
      "epoch: 94, t_loss: 112.06292, validation loss: 365.08053, lr:0.00005\n",
      "epoch: 95, t_loss: 112.06196, validation loss: 365.07052, lr:0.00005\n",
      "epoch: 96, t_loss: 112.06069, validation loss: 365.06028, lr:0.00005\n",
      "epoch: 97, t_loss: 112.05981, validation loss: 365.05026, lr:0.00005\n",
      "epoch: 98, t_loss: 112.05890, validation loss: 365.04021, lr:0.00005\n",
      "epoch: 99, t_loss: 112.05773, validation loss: 365.03002, lr:0.00003\n",
      "epoch: 100, t_loss: 112.05703, validation loss: 365.02387, lr:0.00003\n",
      "epoch: 101, t_loss: 112.05645, validation loss: 365.01771, lr:0.00003\n",
      "epoch: 102, t_loss: 112.05582, validation loss: 365.01152, lr:0.00003\n",
      "epoch: 103, t_loss: 112.05515, validation loss: 365.00527, lr:0.00003\n",
      "epoch: 104, t_loss: 112.05451, validation loss: 364.99928, lr:0.00003\n",
      "epoch: 105, t_loss: 112.05399, validation loss: 364.99314, lr:0.00003\n",
      "epoch: 106, t_loss: 112.05321, validation loss: 364.98691, lr:0.00003\n",
      "epoch: 107, t_loss: 112.05254, validation loss: 364.98063, lr:0.00003\n",
      "epoch: 108, t_loss: 112.05198, validation loss: 364.97459, lr:0.00003\n",
      "epoch: 109, t_loss: 112.05133, validation loss: 364.96837, lr:0.00002\n",
      "epoch: 110, t_loss: 112.05097, validation loss: 364.96481, lr:0.00002\n",
      "epoch: 111, t_loss: 112.05062, validation loss: 364.96119, lr:0.00002\n",
      "epoch: 112, t_loss: 112.05011, validation loss: 364.95765, lr:0.00002\n",
      "epoch: 113, t_loss: 112.04987, validation loss: 364.95388, lr:0.00002\n",
      "epoch: 114, t_loss: 112.04953, validation loss: 364.95036, lr:0.00002\n",
      "epoch: 115, t_loss: 112.04916, validation loss: 364.94675, lr:0.00002\n",
      "epoch: 116, t_loss: 112.04863, validation loss: 364.94307, lr:0.00002\n",
      "epoch: 117, t_loss: 112.04835, validation loss: 364.93952, lr:0.00002\n",
      "epoch: 118, t_loss: 112.04803, validation loss: 364.93599, lr:0.00002\n"
     ]
    },
    {
     "name": "stdout",
     "output_type": "stream",
     "text": [
      "epoch: 119, t_loss: 112.04751, validation loss: 364.93227, lr:0.00001\n",
      "epoch: 120, t_loss: 112.04732, validation loss: 364.93008, lr:0.00001\n",
      "epoch: 121, t_loss: 112.04711, validation loss: 364.92801, lr:0.00001\n",
      "epoch: 122, t_loss: 112.04686, validation loss: 364.92576, lr:0.00001\n",
      "epoch: 123, t_loss: 112.04667, validation loss: 364.92371, lr:0.00001\n",
      "epoch: 124, t_loss: 112.04641, validation loss: 364.92149, lr:0.00001\n",
      "epoch: 125, t_loss: 112.04624, validation loss: 364.91944, lr:0.00001\n",
      "epoch: 126, t_loss: 112.04602, validation loss: 364.91724, lr:0.00001\n",
      "epoch: 127, t_loss: 112.04585, validation loss: 364.91507, lr:0.00001\n",
      "epoch: 128, t_loss: 112.04559, validation loss: 364.91285, lr:0.00001\n",
      "epoch: 129, t_loss: 112.04544, validation loss: 364.91063, lr:0.00001\n",
      "epoch: 130, t_loss: 112.04516, validation loss: 364.90943, lr:0.00001\n",
      "epoch: 131, t_loss: 112.04511, validation loss: 364.90798, lr:0.00001\n",
      "epoch: 132, t_loss: 112.04504, validation loss: 364.90656, lr:0.00001\n",
      "epoch: 133, t_loss: 112.04482, validation loss: 364.90528, lr:0.00001\n",
      "epoch: 134, t_loss: 112.04460, validation loss: 364.90380, lr:0.00001\n",
      "epoch: 135, t_loss: 112.04450, validation loss: 364.90248, lr:0.00001\n",
      "epoch: 136, t_loss: 112.04440, validation loss: 364.90109, lr:0.00001\n",
      "epoch: 137, t_loss: 112.04420, validation loss: 364.89951, lr:0.00001\n",
      "epoch: 138, t_loss: 112.04395, validation loss: 364.89831, lr:0.00001\n",
      "epoch: 139, t_loss: 112.04390, validation loss: 364.89693, lr:0.00000\n",
      "epoch: 140, t_loss: 112.04385, validation loss: 364.89612, lr:0.00000\n",
      "epoch: 141, t_loss: 112.04367, validation loss: 364.89535, lr:0.00000\n",
      "epoch: 142, t_loss: 112.04361, validation loss: 364.89461, lr:0.00000\n",
      "epoch: 143, t_loss: 112.04373, validation loss: 364.89379, lr:0.00000\n",
      "epoch: 144, t_loss: 112.04348, validation loss: 364.89288, lr:0.00000\n",
      "epoch: 145, t_loss: 112.04354, validation loss: 364.89209, lr:0.00000\n",
      "epoch: 146, t_loss: 112.04338, validation loss: 364.89148, lr:0.00000\n",
      "epoch: 147, t_loss: 112.04319, validation loss: 364.89058, lr:0.00000\n",
      "epoch: 148, t_loss: 112.04317, validation loss: 364.88976, lr:0.00000\n",
      "epoch: 149, t_loss: 112.04313, validation loss: 364.88897, lr:0.00000\n",
      "epoch: 150, t_loss: 112.04314, validation loss: 364.88854, lr:0.00000\n",
      "epoch: 151, t_loss: 112.04295, validation loss: 364.88813, lr:0.00000\n",
      "epoch: 152, t_loss: 112.04303, validation loss: 364.88781, lr:0.00000\n",
      "epoch: 153, t_loss: 112.04299, validation loss: 364.88747, lr:0.00000\n",
      "epoch: 154, t_loss: 112.04297, validation loss: 364.88711, lr:0.00000\n",
      "epoch: 155, t_loss: 112.04308, validation loss: 364.88675, lr:0.00000\n",
      "epoch: 156, t_loss: 112.04288, validation loss: 364.88641, lr:0.00000\n",
      "epoch: 157, t_loss: 112.04280, validation loss: 364.88593, lr:0.00000\n",
      "epoch: 158, t_loss: 112.04275, validation loss: 364.88538, lr:0.00000\n",
      "epoch: 159, t_loss: 112.04263, validation loss: 364.88524, lr:0.00000\n",
      "epoch: 160, t_loss: 112.04287, validation loss: 364.88492, lr:0.00000\n",
      "epoch: 161, t_loss: 112.04265, validation loss: 364.88477, lr:0.00000\n",
      "epoch: 162, t_loss: 112.04268, validation loss: 364.88452, lr:0.00000\n",
      "epoch: 163, t_loss: 112.04271, validation loss: 364.88436, lr:0.00000\n",
      "epoch: 164, t_loss: 112.04251, validation loss: 364.88413, lr:0.00000\n",
      "epoch: 165, t_loss: 112.04271, validation loss: 364.88385, lr:0.00000\n",
      "epoch: 166, t_loss: 112.04253, validation loss: 364.88369, lr:0.00000\n",
      "epoch: 167, t_loss: 112.04271, validation loss: 364.88355, lr:0.00000\n",
      "epoch: 168, t_loss: 112.04246, validation loss: 364.88333, lr:0.00000\n",
      "epoch: 169, t_loss: 112.04243, validation loss: 364.88303, lr:0.00000\n",
      "epoch: 170, t_loss: 112.04239, validation loss: 364.88290, lr:0.00000\n",
      "epoch: 171, t_loss: 112.04257, validation loss: 364.88273, lr:0.00000\n",
      "epoch: 172, t_loss: 112.04245, validation loss: 364.88255, lr:0.00000\n",
      "epoch: 173, t_loss: 112.04242, validation loss: 364.88235, lr:0.00000\n",
      "epoch: 174, t_loss: 112.04236, validation loss: 364.88205, lr:0.00000\n",
      "epoch: 175, t_loss: 112.04240, validation loss: 364.88181, lr:0.00000\n",
      "epoch: 176, t_loss: 112.04242, validation loss: 364.88168, lr:0.00000\n",
      "epoch: 177, t_loss: 112.04238, validation loss: 364.88159, lr:0.00000\n",
      "epoch: 178, t_loss: 112.04224, validation loss: 364.88129, lr:0.00000\n",
      "epoch: 179, t_loss: 112.04226, validation loss: 364.88100, lr:0.00000\n",
      "epoch: 180, t_loss: 112.04223, validation loss: 364.88084, lr:0.00000\n",
      "epoch: 181, t_loss: 112.04231, validation loss: 364.88074, lr:0.00000\n",
      "epoch: 182, t_loss: 112.04222, validation loss: 364.88048, lr:0.00000\n",
      "epoch: 183, t_loss: 112.04223, validation loss: 364.88029, lr:0.00000\n",
      "epoch: 184, t_loss: 112.04219, validation loss: 364.88009, lr:0.00000\n",
      "epoch: 185, t_loss: 112.04220, validation loss: 364.87988, lr:0.00000\n",
      "epoch: 186, t_loss: 112.04215, validation loss: 364.87965, lr:0.00000\n",
      "epoch: 187, t_loss: 112.04205, validation loss: 364.87951, lr:0.00000\n",
      "epoch: 188, t_loss: 112.04211, validation loss: 364.87929, lr:0.00000\n",
      "epoch: 189, t_loss: 112.04219, validation loss: 364.87909, lr:0.00000\n",
      "epoch: 190, t_loss: 112.04203, validation loss: 364.87902, lr:0.00000\n",
      "epoch: 191, t_loss: 112.04217, validation loss: 364.87896, lr:0.00000\n",
      "epoch: 192, t_loss: 112.04208, validation loss: 364.87907, lr:0.00000\n",
      "epoch: 193, t_loss: 112.04213, validation loss: 364.87907, lr:0.00000\n",
      "epoch: 194, t_loss: 112.04199, validation loss: 364.87899, lr:0.00000\n",
      "epoch: 195, t_loss: 112.04213, validation loss: 364.87908, lr:0.00000\n",
      "epoch: 196, t_loss: 112.04208, validation loss: 364.87900, lr:0.00000\n",
      "epoch: 197, t_loss: 112.04208, validation loss: 364.87899, lr:0.00000\n"
     ]
    }
   ],
   "source": [
    "model, loss = train_manytomany(\n",
    "        training_loader, validation_loader, optimizer, criterion, model, norms)"
   ]
  },
  {
   "cell_type": "code",
   "execution_count": 23,
   "id": "4fc29d27",
   "metadata": {},
   "outputs": [
    {
     "name": "stdout",
     "output_type": "stream",
     "text": [
      "364.8789619745306\n"
     ]
    }
   ],
   "source": [
    "print(loss)"
   ]
  }
 ],
 "metadata": {
  "kernelspec": {
   "display_name": "Python 3",
   "language": "python",
   "name": "python3"
  },
  "language_info": {
   "codemirror_mode": {
    "name": "ipython",
    "version": 3
   },
   "file_extension": ".py",
   "mimetype": "text/x-python",
   "name": "python",
   "nbconvert_exporter": "python",
   "pygments_lexer": "ipython3",
   "version": "3.7.10"
  },
  "toc": {
   "base_numbering": 1,
   "nav_menu": {},
   "number_sections": true,
   "sideBar": true,
   "skip_h1_title": false,
   "title_cell": "Table of Contents",
   "title_sidebar": "Contents",
   "toc_cell": false,
   "toc_position": {},
   "toc_section_display": true,
   "toc_window_display": false
  }
 },
 "nbformat": 4,
 "nbformat_minor": 5
}
