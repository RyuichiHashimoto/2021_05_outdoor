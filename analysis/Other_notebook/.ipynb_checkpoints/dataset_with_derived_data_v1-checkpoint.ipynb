{
 "cells": [
  {
   "cell_type": "code",
   "execution_count": 1,
   "id": "reduced-bumper",
   "metadata": {
    "hide_input": true
   },
   "outputs": [
    {
     "data": {
      "text/html": [
       "<style>\n",
       "    div#notebook-container    { width: 95%; }\n",
       "    div#menubar-container     { width: 65%; }\n",
       "    div#maintoolbar-container { width: 99%; }\n",
       "</style>\n"
      ],
      "text/plain": [
       "<IPython.core.display.HTML object>"
      ]
     },
     "metadata": {},
     "output_type": "display_data"
    }
   ],
   "source": [
    "%%HTML\n",
    "<style>\n",
    "    div#notebook-container    { width: 95%; }\n",
    "    div#menubar-container     { width: 65%; }\n",
    "    div#maintoolbar-container { width: 99%; }\n",
    "</style>"
   ]
  },
  {
   "cell_type": "markdown",
   "id": "comfortable-mongolia",
   "metadata": {},
   "source": [
    "## import "
   ]
  },
  {
   "cell_type": "code",
   "execution_count": 2,
   "id": "agricultural-drunk",
   "metadata": {
    "hide_input": false
   },
   "outputs": [],
   "source": [
    "import pandas as pd\n",
    "import numpy as np\n",
    "import os\n",
    "from lib.noglobal import noglobal\n",
    "import simdkalman\n",
    "import glob\n",
    "from tqdm.notebook import tqdm\n",
    "import pickle"
   ]
  },
  {
   "cell_type": "markdown",
   "id": "saved-biography",
   "metadata": {},
   "source": [
    "## データファイルパス"
   ]
  },
  {
   "cell_type": "code",
   "execution_count": 3,
   "id": "cognitive-madonna",
   "metadata": {},
   "outputs": [],
   "source": [
    "\n",
    "data_dir = \"/work/data/input/google-smartphone-decimeter-challenge/\"\n",
    "train_file = f\"{data_dir}/baseline_locations_train.csv\"\n",
    "test_file = f\"{data_dir}/baseline_locations_test.csv\"\n",
    "sample_file = f\"{data_dir}/sample_submission.csv\"\n",
    " "
   ]
  },
  {
   "cell_type": "markdown",
   "id": "resident-climate",
   "metadata": {},
   "source": [
    "## 関数定義"
   ]
  },
  {
   "cell_type": "markdown",
   "id": "sharing-deposit",
   "metadata": {},
   "source": [
    "### GNSS data loader function"
   ]
  },
  {
   "cell_type": "code",
   "execution_count": 4,
   "id": "naked-syria",
   "metadata": {
    "hide_input": true
   },
   "outputs": [],
   "source": [
    "# from https://www.kaggle.com/sohier/loading-gnss-logs\n",
    "\n",
    "@noglobal\n",
    "def gnss_log_to_dataframes(path):\n",
    "    print('Loading ' + path, flush=True)\n",
    "    gnss_section_names = {'Raw','UncalAccel', 'UncalGyro', 'UncalMag', 'Fix', 'Status', 'OrientationDeg'}\n",
    "    with open(path) as f_open:\n",
    "        datalines = f_open.readlines()\n",
    "\n",
    "    datas = {k: [] for k in gnss_section_names}\n",
    "    gnss_map = {k: [] for k in gnss_section_names}\n",
    "    for dataline in datalines:\n",
    "        is_header = dataline.startswith('#')\n",
    "        dataline = dataline.strip('#').strip().split(',')\n",
    "        # skip over notes, version numbers, etc\n",
    "        if is_header and dataline[0] in gnss_section_names:\n",
    "            gnss_map[dataline[0]] = dataline[1:]\n",
    "        elif not is_header:\n",
    "            datas[dataline[0]].append(dataline[1:])\n",
    "\n",
    "    results = dict()\n",
    "    for k, v in datas.items():\n",
    "        results[k] = pd.DataFrame(v, columns=gnss_map[k])\n",
    "    # pandas doesn't properly infer types from these lists by default\n",
    "    for k, df in results.items():\n",
    "        for col in df.columns:\n",
    "            if col == 'CodeType':\n",
    "                continue\n",
    "            results[k][col] = pd.to_numeric(results[k][col])\n",
    "\n",
    "    return results"
   ]
  },
  {
   "cell_type": "markdown",
   "id": "massive-legislation",
   "metadata": {},
   "source": [
    "### 距離計算"
   ]
  },
  {
   "cell_type": "code",
   "execution_count": 5,
   "id": "beautiful-apartment",
   "metadata": {
    "hide_input": true
   },
   "outputs": [],
   "source": [
    "# from https://www.kaggle.com/jpmiller/baseline-from-host-data\n",
    "# simplified haversine distance\n",
    "@noglobal\n",
    "def calc_haversine(lat1, lon1, lat2, lon2):\n",
    "    \"\"\"Calculates the great circle distance between two points\n",
    "    on the earth. Inputs are array-like and specified in decimal degrees.\n",
    "    \"\"\"\n",
    "    lat1, lon1, lat2, lon2 = map(np.radians, [lat1, lon1, lat2, lon2])\n",
    "    dlat = lat2 - lat1\n",
    "    dlon = lon2 - lon1\n",
    "    a = np.sin(dlat/2.0)**2 + np.cos(lat1) * np.cos(lat2) * np.sin(dlon/2.0)**2\n",
    "\n",
    "    c = 2 * np.arcsin(a**0.5)\n",
    "    dist = 6_367_000 * c\n",
    "    return dist"
   ]
  },
  {
   "cell_type": "markdown",
   "id": "classified-registration",
   "metadata": {},
   "source": [
    "### カルマンフィルター"
   ]
  },
  {
   "cell_type": "code",
   "execution_count": 6,
   "id": "fiscal-singapore",
   "metadata": {
    "hide_input": true
   },
   "outputs": [],
   "source": [
    "# from https://www.kaggle.com/emaerthin/demonstration-of-the-kalman-filter\n",
    "T = 1.0\n",
    "state_transition = np.array([[1, 0, T, 0, 0.5 * T ** 2, 0], [0, 1, 0, T, 0, 0.5 * T ** 2], [0, 0, 1, 0, T, 0],\n",
    "                             [0, 0, 0, 1, 0, T], [0, 0, 0, 0, 1, 0], [0, 0, 0, 0, 0, 1]])\n",
    "process_noise = np.diag([1e-5, 1e-5, 5e-6, 5e-6, 1e-6, 1e-6]) + np.ones((6, 6)) * 1e-9\n",
    "observation_model = np.array([[1, 0, 0, 0, 0, 0], [0, 1, 0, 0, 0, 0]])\n",
    "observation_noise = np.diag([5e-5, 5e-5]) + np.ones((2, 2)) * 1e-9\n",
    "\n",
    "kf = simdkalman.KalmanFilter(\n",
    "        state_transition = state_transition,\n",
    "        process_noise = process_noise,\n",
    "        observation_model = observation_model,\n",
    "        observation_noise = observation_noise)\n",
    "\n",
    "@noglobal\n",
    "def apply_kf_smoothing(df, kf_=kf):\n",
    "    unique_paths = df[phone_col].unique()\n",
    "    for phone in tqdm(unique_paths):\n",
    "        data = df.loc[df[phone_col] == phone][[lat_col, lon_col]].values\n",
    "        data = data.reshape(1, len(data), 2)\n",
    "        smoothed = kf_.smooth(data)\n",
    "        df.loc[df[phone_col] == phone, lat_col] = smoothed.states.mean[0, :, 0]\n",
    "        df.loc[df[phone_col] == phone, lon_col] = smoothed.states.mean[0, :, 1]\n",
    "    return df"
   ]
  },
  {
   "cell_type": "markdown",
   "id": "hindu-merit",
   "metadata": {},
   "source": [
    "## ファイル読み込み"
   ]
  },
  {
   "cell_type": "code",
   "execution_count": 7,
   "id": "electoral-state",
   "metadata": {},
   "outputs": [],
   "source": [
    "trn = pd.read_csv(train_file)\n",
    "tst = pd.read_csv(test_file)\n",
    "sub = pd.read_csv(sample_file)"
   ]
  },
  {
   "cell_type": "markdown",
   "id": "bronze-morocco",
   "metadata": {},
   "source": [
    "## データセット準備"
   ]
  },
  {
   "cell_type": "code",
   "execution_count": 8,
   "id": "superior-detail",
   "metadata": {},
   "outputs": [],
   "source": [
    "cname_col = 'collectionName'\n",
    "pname_col = 'phoneName'\n",
    "phone_col = 'phone'\n",
    "ts_col = 'millisSinceGpsEpoch'\n",
    "dt_col = 'datetime'\n",
    "lat_col = 'latDeg'\n",
    "lon_col = 'lngDeg'\n",
    "\n",
    "prev_lat_col = 'prev_lat'\n",
    "prev_lon_col = 'prev_lng'\n",
    "\n",
    "\n",
    "added_data = [\"correctedPrM\",\"xSatPosM\",\"ySatPosM\",\"zSatPosM\"]\n",
    "\n",
    "#df_tst = sub[[phone_col, ts_col]].merge(tst[[phone_col, ts_col, lat_col, lon_col, 'prev_lat', 'prev_lon']], how='left', on=[phone_col, ts_col], suffixes=('', '_basepred'))"
   ]
  },
  {
   "cell_type": "markdown",
   "id": "representative-jewel",
   "metadata": {},
   "source": [
    "### add shift lat and lng information per path"
   ]
  },
  {
   "cell_type": "markdown",
   "id": "circular-responsibility",
   "metadata": {},
   "source": [
    "#### add function"
   ]
  },
  {
   "cell_type": "code",
   "execution_count": 9,
   "id": "durable-might",
   "metadata": {},
   "outputs": [],
   "source": [
    "@noglobal()\n",
    "def add_shift_lat_lng_info(df):            \n",
    "    phone_col = 'phone'\n",
    "    ts_col = 'millisSinceGpsEpoch'\n",
    "    lat_col = 'latDeg'\n",
    "    lon_col = 'lngDeg'\n",
    "    prev_lat_col = 'prev_lat'\n",
    "    prev_lon_col = 'prev_lng'\n",
    "    prev_lon_col = 'prev_lng'\n",
    "    \n",
    "    \n",
    "    df.sort_values([phone_col, ts_col], inplace=True)\n",
    "        \n",
    "    df[[prev_lat_col]] = df[[lat_col]].shift().where(df[phone_col].eq(df[phone_col].shift())).fillna(0)\n",
    "    df[[prev_lon_col]] = df[[lon_col]].shift().where(df[phone_col].eq(df[phone_col].shift())).fillna(0)\n",
    "    #df[[prev_height_Wgs84_col]] = df[[height_Wgs84_col]].shift().where(df[phone_col].eq(df[phone_col].shift())).fillna(0)"
   ]
  },
  {
   "cell_type": "markdown",
   "id": "appointed-partition",
   "metadata": {},
   "source": [
    "#### execute function"
   ]
  },
  {
   "cell_type": "code",
   "execution_count": 10,
   "id": "forbidden-angola",
   "metadata": {},
   "outputs": [],
   "source": [
    "add_shift_lat_lng_info(trn);\n",
    "add_shift_lat_lng_info(tst);"
   ]
  },
  {
   "cell_type": "code",
   "execution_count": 11,
   "id": "bridal-motion",
   "metadata": {},
   "outputs": [
    {
     "data": {
      "text/html": [
       "<div>\n",
       "<style scoped>\n",
       "    .dataframe tbody tr th:only-of-type {\n",
       "        vertical-align: middle;\n",
       "    }\n",
       "\n",
       "    .dataframe tbody tr th {\n",
       "        vertical-align: top;\n",
       "    }\n",
       "\n",
       "    .dataframe thead th {\n",
       "        text-align: right;\n",
       "    }\n",
       "</style>\n",
       "<table border=\"1\" class=\"dataframe\">\n",
       "  <thead>\n",
       "    <tr style=\"text-align: right;\">\n",
       "      <th></th>\n",
       "      <th>collectionName</th>\n",
       "      <th>phoneName</th>\n",
       "      <th>millisSinceGpsEpoch</th>\n",
       "      <th>latDeg</th>\n",
       "      <th>lngDeg</th>\n",
       "      <th>heightAboveWgs84EllipsoidM</th>\n",
       "      <th>phone</th>\n",
       "      <th>prev_lat</th>\n",
       "      <th>prev_lng</th>\n",
       "    </tr>\n",
       "  </thead>\n",
       "  <tbody>\n",
       "    <tr>\n",
       "      <th>0</th>\n",
       "      <td>2020-05-14-US-MTV-1</td>\n",
       "      <td>Pixel4</td>\n",
       "      <td>1273529463442</td>\n",
       "      <td>37.423575</td>\n",
       "      <td>-122.094091</td>\n",
       "      <td>-34.06</td>\n",
       "      <td>2020-05-14-US-MTV-1_Pixel4</td>\n",
       "      <td>0.000000</td>\n",
       "      <td>0.000000</td>\n",
       "    </tr>\n",
       "    <tr>\n",
       "      <th>1</th>\n",
       "      <td>2020-05-14-US-MTV-1</td>\n",
       "      <td>Pixel4</td>\n",
       "      <td>1273529464442</td>\n",
       "      <td>37.423578</td>\n",
       "      <td>-122.094101</td>\n",
       "      <td>-33.29</td>\n",
       "      <td>2020-05-14-US-MTV-1_Pixel4</td>\n",
       "      <td>37.423575</td>\n",
       "      <td>-122.094091</td>\n",
       "    </tr>\n",
       "    <tr>\n",
       "      <th>2</th>\n",
       "      <td>2020-05-14-US-MTV-1</td>\n",
       "      <td>Pixel4</td>\n",
       "      <td>1273529465442</td>\n",
       "      <td>37.423573</td>\n",
       "      <td>-122.094111</td>\n",
       "      <td>-30.99</td>\n",
       "      <td>2020-05-14-US-MTV-1_Pixel4</td>\n",
       "      <td>37.423578</td>\n",
       "      <td>-122.094101</td>\n",
       "    </tr>\n",
       "  </tbody>\n",
       "</table>\n",
       "</div>"
      ],
      "text/plain": [
       "        collectionName phoneName  millisSinceGpsEpoch     latDeg      lngDeg  \\\n",
       "0  2020-05-14-US-MTV-1    Pixel4        1273529463442  37.423575 -122.094091   \n",
       "1  2020-05-14-US-MTV-1    Pixel4        1273529464442  37.423578 -122.094101   \n",
       "2  2020-05-14-US-MTV-1    Pixel4        1273529465442  37.423573 -122.094111   \n",
       "\n",
       "   heightAboveWgs84EllipsoidM                       phone   prev_lat  \\\n",
       "0                      -34.06  2020-05-14-US-MTV-1_Pixel4   0.000000   \n",
       "1                      -33.29  2020-05-14-US-MTV-1_Pixel4  37.423575   \n",
       "2                      -30.99  2020-05-14-US-MTV-1_Pixel4  37.423578   \n",
       "\n",
       "     prev_lng  \n",
       "0    0.000000  \n",
       "1 -122.094091  \n",
       "2 -122.094101  "
      ]
     },
     "metadata": {},
     "output_type": "display_data"
    },
    {
     "data": {
      "text/html": [
       "<div>\n",
       "<style scoped>\n",
       "    .dataframe tbody tr th:only-of-type {\n",
       "        vertical-align: middle;\n",
       "    }\n",
       "\n",
       "    .dataframe tbody tr th {\n",
       "        vertical-align: top;\n",
       "    }\n",
       "\n",
       "    .dataframe thead th {\n",
       "        text-align: right;\n",
       "    }\n",
       "</style>\n",
       "<table border=\"1\" class=\"dataframe\">\n",
       "  <thead>\n",
       "    <tr style=\"text-align: right;\">\n",
       "      <th></th>\n",
       "      <th>collectionName</th>\n",
       "      <th>phoneName</th>\n",
       "      <th>millisSinceGpsEpoch</th>\n",
       "      <th>latDeg</th>\n",
       "      <th>lngDeg</th>\n",
       "      <th>heightAboveWgs84EllipsoidM</th>\n",
       "      <th>phone</th>\n",
       "      <th>prev_lat</th>\n",
       "      <th>prev_lng</th>\n",
       "    </tr>\n",
       "  </thead>\n",
       "  <tbody>\n",
       "    <tr>\n",
       "      <th>0</th>\n",
       "      <td>2020-05-15-US-MTV-1</td>\n",
       "      <td>Pixel4</td>\n",
       "      <td>1273608785432</td>\n",
       "      <td>37.416628</td>\n",
       "      <td>-122.082053</td>\n",
       "      <td>-30.69</td>\n",
       "      <td>2020-05-15-US-MTV-1_Pixel4</td>\n",
       "      <td>0.000000</td>\n",
       "      <td>0.000000</td>\n",
       "    </tr>\n",
       "    <tr>\n",
       "      <th>1</th>\n",
       "      <td>2020-05-15-US-MTV-1</td>\n",
       "      <td>Pixel4</td>\n",
       "      <td>1273608786432</td>\n",
       "      <td>37.416646</td>\n",
       "      <td>-122.082040</td>\n",
       "      <td>-31.76</td>\n",
       "      <td>2020-05-15-US-MTV-1_Pixel4</td>\n",
       "      <td>37.416628</td>\n",
       "      <td>-122.082053</td>\n",
       "    </tr>\n",
       "    <tr>\n",
       "      <th>2</th>\n",
       "      <td>2020-05-15-US-MTV-1</td>\n",
       "      <td>Pixel4</td>\n",
       "      <td>1273608787432</td>\n",
       "      <td>37.416652</td>\n",
       "      <td>-122.082039</td>\n",
       "      <td>-31.65</td>\n",
       "      <td>2020-05-15-US-MTV-1_Pixel4</td>\n",
       "      <td>37.416646</td>\n",
       "      <td>-122.082040</td>\n",
       "    </tr>\n",
       "  </tbody>\n",
       "</table>\n",
       "</div>"
      ],
      "text/plain": [
       "        collectionName phoneName  millisSinceGpsEpoch     latDeg      lngDeg  \\\n",
       "0  2020-05-15-US-MTV-1    Pixel4        1273608785432  37.416628 -122.082053   \n",
       "1  2020-05-15-US-MTV-1    Pixel4        1273608786432  37.416646 -122.082040   \n",
       "2  2020-05-15-US-MTV-1    Pixel4        1273608787432  37.416652 -122.082039   \n",
       "\n",
       "   heightAboveWgs84EllipsoidM                       phone   prev_lat  \\\n",
       "0                      -30.69  2020-05-15-US-MTV-1_Pixel4   0.000000   \n",
       "1                      -31.76  2020-05-15-US-MTV-1_Pixel4  37.416628   \n",
       "2                      -31.65  2020-05-15-US-MTV-1_Pixel4  37.416646   \n",
       "\n",
       "     prev_lng  \n",
       "0    0.000000  \n",
       "1 -122.082053  \n",
       "2 -122.082040  "
      ]
     },
     "metadata": {},
     "output_type": "display_data"
    }
   ],
   "source": [
    "display(trn.head(3))\n",
    "display(tst.head(3))"
   ]
  },
  {
   "cell_type": "markdown",
   "id": "animal-sculpture",
   "metadata": {},
   "source": [
    "### add ground truth file"
   ]
  },
  {
   "cell_type": "code",
   "execution_count": 12,
   "id": "maritime-going",
   "metadata": {},
   "outputs": [
    {
     "data": {
      "application/vnd.jupyter.widget-view+json": {
       "model_id": "4caa45a848cd4a9ca8d46fd17f904812",
       "version_major": 2,
       "version_minor": 0
      },
      "text/plain": [
       "  0%|          | 0/73 [00:00<?, ?it/s]"
      ]
     },
     "metadata": {},
     "output_type": "display_data"
    }
   ],
   "source": [
    "cols = [phone_col, ts_col, lat_col, lon_col]\n",
    "\n",
    "ground_truth_files = glob.glob(f\"/work/data/input/google-smartphone-decimeter-challenge/train/*/*/ground_truth.csv\")\n",
    "\n",
    "df_list = [ pd.read_csv(t,usecols=[cname_col,pname_col,ts_col,lat_col])  for t in tqdm(ground_truth_files,total=73)];\n",
    "\n",
    "df_label = pd.concat(df_list,ignore_index=True);\n",
    "df_label[phone_col] = df_label[cname_col] + \"_\" + df_label[pname_col]\n",
    "df_trn = df_label.merge(trn[cols + [prev_lat_col,prev_lon_col]],how=\"inner\",on = [phone_col,ts_col],suffixes=('_gt', '')).drop([cname_col, pname_col], axis=1)"
   ]
  },
  {
   "cell_type": "code",
   "execution_count": 13,
   "id": "capable-ozone",
   "metadata": {},
   "outputs": [
    {
     "data": {
      "text/html": [
       "<div>\n",
       "<style scoped>\n",
       "    .dataframe tbody tr th:only-of-type {\n",
       "        vertical-align: middle;\n",
       "    }\n",
       "\n",
       "    .dataframe tbody tr th {\n",
       "        vertical-align: top;\n",
       "    }\n",
       "\n",
       "    .dataframe thead th {\n",
       "        text-align: right;\n",
       "    }\n",
       "</style>\n",
       "<table border=\"1\" class=\"dataframe\">\n",
       "  <thead>\n",
       "    <tr style=\"text-align: right;\">\n",
       "      <th></th>\n",
       "      <th>millisSinceGpsEpoch</th>\n",
       "      <th>latDeg_gt</th>\n",
       "      <th>phone</th>\n",
       "      <th>latDeg</th>\n",
       "      <th>lngDeg</th>\n",
       "      <th>prev_lat</th>\n",
       "      <th>prev_lng</th>\n",
       "    </tr>\n",
       "  </thead>\n",
       "  <tbody>\n",
       "    <tr>\n",
       "      <th>0</th>\n",
       "      <td>1275339493441</td>\n",
       "      <td>37.416314</td>\n",
       "      <td>2020-06-04-US-MTV-1_Pixel4</td>\n",
       "      <td>37.416345</td>\n",
       "      <td>-122.080528</td>\n",
       "      <td>0.000000</td>\n",
       "      <td>0.000000</td>\n",
       "    </tr>\n",
       "    <tr>\n",
       "      <th>1</th>\n",
       "      <td>1275339494441</td>\n",
       "      <td>37.416314</td>\n",
       "      <td>2020-06-04-US-MTV-1_Pixel4</td>\n",
       "      <td>37.416355</td>\n",
       "      <td>-122.080497</td>\n",
       "      <td>37.416345</td>\n",
       "      <td>-122.080528</td>\n",
       "    </tr>\n",
       "    <tr>\n",
       "      <th>2</th>\n",
       "      <td>1275339495441</td>\n",
       "      <td>37.416314</td>\n",
       "      <td>2020-06-04-US-MTV-1_Pixel4</td>\n",
       "      <td>37.416346</td>\n",
       "      <td>-122.080499</td>\n",
       "      <td>37.416355</td>\n",
       "      <td>-122.080497</td>\n",
       "    </tr>\n",
       "    <tr>\n",
       "      <th>3</th>\n",
       "      <td>1275339496441</td>\n",
       "      <td>37.416314</td>\n",
       "      <td>2020-06-04-US-MTV-1_Pixel4</td>\n",
       "      <td>37.416353</td>\n",
       "      <td>-122.080508</td>\n",
       "      <td>37.416346</td>\n",
       "      <td>-122.080499</td>\n",
       "    </tr>\n",
       "    <tr>\n",
       "      <th>4</th>\n",
       "      <td>1275339497441</td>\n",
       "      <td>37.416314</td>\n",
       "      <td>2020-06-04-US-MTV-1_Pixel4</td>\n",
       "      <td>37.416349</td>\n",
       "      <td>-122.080509</td>\n",
       "      <td>37.416353</td>\n",
       "      <td>-122.080508</td>\n",
       "    </tr>\n",
       "    <tr>\n",
       "      <th>5</th>\n",
       "      <td>1275339498441</td>\n",
       "      <td>37.416314</td>\n",
       "      <td>2020-06-04-US-MTV-1_Pixel4</td>\n",
       "      <td>37.416364</td>\n",
       "      <td>-122.080510</td>\n",
       "      <td>37.416349</td>\n",
       "      <td>-122.080509</td>\n",
       "    </tr>\n",
       "    <tr>\n",
       "      <th>6</th>\n",
       "      <td>1275339499441</td>\n",
       "      <td>37.416314</td>\n",
       "      <td>2020-06-04-US-MTV-1_Pixel4</td>\n",
       "      <td>37.416351</td>\n",
       "      <td>-122.080509</td>\n",
       "      <td>37.416364</td>\n",
       "      <td>-122.080510</td>\n",
       "    </tr>\n",
       "    <tr>\n",
       "      <th>7</th>\n",
       "      <td>1275339500441</td>\n",
       "      <td>37.416314</td>\n",
       "      <td>2020-06-04-US-MTV-1_Pixel4</td>\n",
       "      <td>37.416376</td>\n",
       "      <td>-122.080524</td>\n",
       "      <td>37.416351</td>\n",
       "      <td>-122.080509</td>\n",
       "    </tr>\n",
       "    <tr>\n",
       "      <th>8</th>\n",
       "      <td>1275339501441</td>\n",
       "      <td>37.416314</td>\n",
       "      <td>2020-06-04-US-MTV-1_Pixel4</td>\n",
       "      <td>37.416356</td>\n",
       "      <td>-122.080504</td>\n",
       "      <td>37.416376</td>\n",
       "      <td>-122.080524</td>\n",
       "    </tr>\n",
       "    <tr>\n",
       "      <th>9</th>\n",
       "      <td>1275339502441</td>\n",
       "      <td>37.416314</td>\n",
       "      <td>2020-06-04-US-MTV-1_Pixel4</td>\n",
       "      <td>37.416364</td>\n",
       "      <td>-122.080492</td>\n",
       "      <td>37.416356</td>\n",
       "      <td>-122.080504</td>\n",
       "    </tr>\n",
       "  </tbody>\n",
       "</table>\n",
       "</div>"
      ],
      "text/plain": [
       "   millisSinceGpsEpoch  latDeg_gt                       phone     latDeg  \\\n",
       "0        1275339493441  37.416314  2020-06-04-US-MTV-1_Pixel4  37.416345   \n",
       "1        1275339494441  37.416314  2020-06-04-US-MTV-1_Pixel4  37.416355   \n",
       "2        1275339495441  37.416314  2020-06-04-US-MTV-1_Pixel4  37.416346   \n",
       "3        1275339496441  37.416314  2020-06-04-US-MTV-1_Pixel4  37.416353   \n",
       "4        1275339497441  37.416314  2020-06-04-US-MTV-1_Pixel4  37.416349   \n",
       "5        1275339498441  37.416314  2020-06-04-US-MTV-1_Pixel4  37.416364   \n",
       "6        1275339499441  37.416314  2020-06-04-US-MTV-1_Pixel4  37.416351   \n",
       "7        1275339500441  37.416314  2020-06-04-US-MTV-1_Pixel4  37.416376   \n",
       "8        1275339501441  37.416314  2020-06-04-US-MTV-1_Pixel4  37.416356   \n",
       "9        1275339502441  37.416314  2020-06-04-US-MTV-1_Pixel4  37.416364   \n",
       "\n",
       "       lngDeg   prev_lat    prev_lng  \n",
       "0 -122.080528   0.000000    0.000000  \n",
       "1 -122.080497  37.416345 -122.080528  \n",
       "2 -122.080499  37.416355 -122.080497  \n",
       "3 -122.080508  37.416346 -122.080499  \n",
       "4 -122.080509  37.416353 -122.080508  \n",
       "5 -122.080510  37.416349 -122.080509  \n",
       "6 -122.080509  37.416364 -122.080510  \n",
       "7 -122.080524  37.416351 -122.080509  \n",
       "8 -122.080504  37.416376 -122.080524  \n",
       "9 -122.080492  37.416356 -122.080504  "
      ]
     },
     "execution_count": 13,
     "metadata": {},
     "output_type": "execute_result"
    }
   ],
   "source": [
    "df_trn.head(10)"
   ]
  },
  {
   "cell_type": "markdown",
   "id": "foreign-wisdom",
   "metadata": {},
   "source": [
    "### add test infomation"
   ]
  },
  {
   "cell_type": "code",
   "execution_count": 14,
   "id": "concrete-baghdad",
   "metadata": {},
   "outputs": [
    {
     "data": {
      "text/html": [
       "<div>\n",
       "<style scoped>\n",
       "    .dataframe tbody tr th:only-of-type {\n",
       "        vertical-align: middle;\n",
       "    }\n",
       "\n",
       "    .dataframe tbody tr th {\n",
       "        vertical-align: top;\n",
       "    }\n",
       "\n",
       "    .dataframe thead th {\n",
       "        text-align: right;\n",
       "    }\n",
       "</style>\n",
       "<table border=\"1\" class=\"dataframe\">\n",
       "  <thead>\n",
       "    <tr style=\"text-align: right;\">\n",
       "      <th></th>\n",
       "      <th>phone</th>\n",
       "      <th>millisSinceGpsEpoch</th>\n",
       "      <th>latDeg</th>\n",
       "      <th>lngDeg</th>\n",
       "      <th>prev_lat</th>\n",
       "      <th>prev_lng</th>\n",
       "    </tr>\n",
       "  </thead>\n",
       "  <tbody>\n",
       "    <tr>\n",
       "      <th>0</th>\n",
       "      <td>2020-05-15-US-MTV-1_Pixel4</td>\n",
       "      <td>1273608785432</td>\n",
       "      <td>37.416628</td>\n",
       "      <td>-122.082053</td>\n",
       "      <td>0.000000</td>\n",
       "      <td>0.000000</td>\n",
       "    </tr>\n",
       "    <tr>\n",
       "      <th>1</th>\n",
       "      <td>2020-05-15-US-MTV-1_Pixel4</td>\n",
       "      <td>1273608786432</td>\n",
       "      <td>37.416646</td>\n",
       "      <td>-122.082040</td>\n",
       "      <td>37.416628</td>\n",
       "      <td>-122.082053</td>\n",
       "    </tr>\n",
       "    <tr>\n",
       "      <th>2</th>\n",
       "      <td>2020-05-15-US-MTV-1_Pixel4</td>\n",
       "      <td>1273608787432</td>\n",
       "      <td>37.416652</td>\n",
       "      <td>-122.082039</td>\n",
       "      <td>37.416646</td>\n",
       "      <td>-122.082040</td>\n",
       "    </tr>\n",
       "  </tbody>\n",
       "</table>\n",
       "</div>"
      ],
      "text/plain": [
       "                        phone  millisSinceGpsEpoch     latDeg      lngDeg  \\\n",
       "0  2020-05-15-US-MTV-1_Pixel4        1273608785432  37.416628 -122.082053   \n",
       "1  2020-05-15-US-MTV-1_Pixel4        1273608786432  37.416646 -122.082040   \n",
       "2  2020-05-15-US-MTV-1_Pixel4        1273608787432  37.416652 -122.082039   \n",
       "\n",
       "    prev_lat    prev_lng  \n",
       "0   0.000000    0.000000  \n",
       "1  37.416628 -122.082053  \n",
       "2  37.416646 -122.082040  "
      ]
     },
     "execution_count": 14,
     "metadata": {},
     "output_type": "execute_result"
    }
   ],
   "source": [
    "df_tst = sub[[phone_col, ts_col]].merge(tst[[phone_col, ts_col, lat_col, lon_col, prev_lat_col,prev_lon_col]], \n",
    "                                        how='left', on=[phone_col, ts_col], suffixes=('', '_basepred'))\n",
    "\n",
    "df_tst.head(3)"
   ]
  },
  {
   "cell_type": "markdown",
   "id": "electrical-clothing",
   "metadata": {},
   "source": [
    "### add second since GPS time"
   ]
  },
  {
   "cell_type": "markdown",
   "id": "hollow-cruise",
   "metadata": {},
   "source": [
    "#### 関数定義"
   ]
  },
  {
   "cell_type": "code",
   "execution_count": 15,
   "id": "spanish-welcome",
   "metadata": {},
   "outputs": [],
   "source": [
    "@noglobal()\n",
    "def add_second_since_GPSepoch(df):\n",
    "    ts_col = 'millisSinceGpsEpoch'\n",
    "    df[\"secondsSinceGpsEpoch\"] = df[ts_col]//1000\n",
    "    return df"
   ]
  },
  {
   "cell_type": "markdown",
   "id": "phantom-habitat",
   "metadata": {},
   "source": [
    "#### 関数実行"
   ]
  },
  {
   "cell_type": "code",
   "execution_count": 16,
   "id": "victorian-health",
   "metadata": {},
   "outputs": [
    {
     "data": {
      "text/html": [
       "<div>\n",
       "<style scoped>\n",
       "    .dataframe tbody tr th:only-of-type {\n",
       "        vertical-align: middle;\n",
       "    }\n",
       "\n",
       "    .dataframe tbody tr th {\n",
       "        vertical-align: top;\n",
       "    }\n",
       "\n",
       "    .dataframe thead th {\n",
       "        text-align: right;\n",
       "    }\n",
       "</style>\n",
       "<table border=\"1\" class=\"dataframe\">\n",
       "  <thead>\n",
       "    <tr style=\"text-align: right;\">\n",
       "      <th></th>\n",
       "      <th>millisSinceGpsEpoch</th>\n",
       "      <th>latDeg_gt</th>\n",
       "      <th>phone</th>\n",
       "      <th>latDeg</th>\n",
       "      <th>lngDeg</th>\n",
       "      <th>prev_lat</th>\n",
       "      <th>prev_lng</th>\n",
       "      <th>secondsSinceGpsEpoch</th>\n",
       "    </tr>\n",
       "  </thead>\n",
       "  <tbody>\n",
       "    <tr>\n",
       "      <th>0</th>\n",
       "      <td>1275339493441</td>\n",
       "      <td>37.416314</td>\n",
       "      <td>2020-06-04-US-MTV-1_Pixel4</td>\n",
       "      <td>37.416345</td>\n",
       "      <td>-122.080528</td>\n",
       "      <td>0.000000</td>\n",
       "      <td>0.000000</td>\n",
       "      <td>1275339493</td>\n",
       "    </tr>\n",
       "    <tr>\n",
       "      <th>1</th>\n",
       "      <td>1275339494441</td>\n",
       "      <td>37.416314</td>\n",
       "      <td>2020-06-04-US-MTV-1_Pixel4</td>\n",
       "      <td>37.416355</td>\n",
       "      <td>-122.080497</td>\n",
       "      <td>37.416345</td>\n",
       "      <td>-122.080528</td>\n",
       "      <td>1275339494</td>\n",
       "    </tr>\n",
       "    <tr>\n",
       "      <th>2</th>\n",
       "      <td>1275339495441</td>\n",
       "      <td>37.416314</td>\n",
       "      <td>2020-06-04-US-MTV-1_Pixel4</td>\n",
       "      <td>37.416346</td>\n",
       "      <td>-122.080499</td>\n",
       "      <td>37.416355</td>\n",
       "      <td>-122.080497</td>\n",
       "      <td>1275339495</td>\n",
       "    </tr>\n",
       "  </tbody>\n",
       "</table>\n",
       "</div>"
      ],
      "text/plain": [
       "   millisSinceGpsEpoch  latDeg_gt                       phone     latDeg  \\\n",
       "0        1275339493441  37.416314  2020-06-04-US-MTV-1_Pixel4  37.416345   \n",
       "1        1275339494441  37.416314  2020-06-04-US-MTV-1_Pixel4  37.416355   \n",
       "2        1275339495441  37.416314  2020-06-04-US-MTV-1_Pixel4  37.416346   \n",
       "\n",
       "       lngDeg   prev_lat    prev_lng  secondsSinceGpsEpoch  \n",
       "0 -122.080528   0.000000    0.000000            1275339493  \n",
       "1 -122.080497  37.416345 -122.080528            1275339494  \n",
       "2 -122.080499  37.416355 -122.080497            1275339495  "
      ]
     },
     "metadata": {},
     "output_type": "display_data"
    },
    {
     "data": {
      "text/html": [
       "<div>\n",
       "<style scoped>\n",
       "    .dataframe tbody tr th:only-of-type {\n",
       "        vertical-align: middle;\n",
       "    }\n",
       "\n",
       "    .dataframe tbody tr th {\n",
       "        vertical-align: top;\n",
       "    }\n",
       "\n",
       "    .dataframe thead th {\n",
       "        text-align: right;\n",
       "    }\n",
       "</style>\n",
       "<table border=\"1\" class=\"dataframe\">\n",
       "  <thead>\n",
       "    <tr style=\"text-align: right;\">\n",
       "      <th></th>\n",
       "      <th>phone</th>\n",
       "      <th>millisSinceGpsEpoch</th>\n",
       "      <th>latDeg</th>\n",
       "      <th>lngDeg</th>\n",
       "      <th>prev_lat</th>\n",
       "      <th>prev_lng</th>\n",
       "      <th>secondsSinceGpsEpoch</th>\n",
       "    </tr>\n",
       "  </thead>\n",
       "  <tbody>\n",
       "    <tr>\n",
       "      <th>0</th>\n",
       "      <td>2020-05-15-US-MTV-1_Pixel4</td>\n",
       "      <td>1273608785432</td>\n",
       "      <td>37.416628</td>\n",
       "      <td>-122.082053</td>\n",
       "      <td>0.000000</td>\n",
       "      <td>0.000000</td>\n",
       "      <td>1273608785</td>\n",
       "    </tr>\n",
       "    <tr>\n",
       "      <th>1</th>\n",
       "      <td>2020-05-15-US-MTV-1_Pixel4</td>\n",
       "      <td>1273608786432</td>\n",
       "      <td>37.416646</td>\n",
       "      <td>-122.082040</td>\n",
       "      <td>37.416628</td>\n",
       "      <td>-122.082053</td>\n",
       "      <td>1273608786</td>\n",
       "    </tr>\n",
       "    <tr>\n",
       "      <th>2</th>\n",
       "      <td>2020-05-15-US-MTV-1_Pixel4</td>\n",
       "      <td>1273608787432</td>\n",
       "      <td>37.416652</td>\n",
       "      <td>-122.082039</td>\n",
       "      <td>37.416646</td>\n",
       "      <td>-122.082040</td>\n",
       "      <td>1273608787</td>\n",
       "    </tr>\n",
       "  </tbody>\n",
       "</table>\n",
       "</div>"
      ],
      "text/plain": [
       "                        phone  millisSinceGpsEpoch     latDeg      lngDeg  \\\n",
       "0  2020-05-15-US-MTV-1_Pixel4        1273608785432  37.416628 -122.082053   \n",
       "1  2020-05-15-US-MTV-1_Pixel4        1273608786432  37.416646 -122.082040   \n",
       "2  2020-05-15-US-MTV-1_Pixel4        1273608787432  37.416652 -122.082039   \n",
       "\n",
       "    prev_lat    prev_lng  secondsSinceGpsEpoch  \n",
       "0   0.000000    0.000000            1273608785  \n",
       "1  37.416628 -122.082053            1273608786  \n",
       "2  37.416646 -122.082040            1273608787  "
      ]
     },
     "metadata": {},
     "output_type": "display_data"
    }
   ],
   "source": [
    "add_second_since_GPSepoch(df_trn)\n",
    "add_second_since_GPSepoch(df_tst)\n",
    "\n",
    "display(df_trn.head(3))\n",
    "display(df_tst.head(3))"
   ]
  },
  {
   "cell_type": "markdown",
   "id": "impressed-socket",
   "metadata": {},
   "source": [
    "### add Derived Data information"
   ]
  },
  {
   "cell_type": "markdown",
   "id": "collaborative-memorial",
   "metadata": {},
   "source": [
    "#### 関数定義"
   ]
  },
  {
   "cell_type": "code",
   "execution_count": 17,
   "id": "north-tower",
   "metadata": {},
   "outputs": [],
   "source": [
    "@noglobal()\n",
    "def add_correctedPrm(df):\n",
    "    df['correctedPrM'] = (df['rawPrM'] + df['satClkBiasM'] - df['isrbM'] - df['ionoDelayM'] - df['tropoDelayM'])\n",
    "    return df;    \n",
    "\n",
    "@noglobal()\n",
    "def load_derived_files(datatype:str,cols):\n",
    "    data_dir = \"/work/data/input/google-smartphone-decimeter-challenge/\"\n",
    "    phone_col = 'phone'\n",
    "    ts_col = 'millisSinceGpsEpoch'    \n",
    "    pname_col = 'phoneName'\n",
    "    cname_col = 'collectionName'\n",
    "\n",
    "    \n",
    "    if (datatype==\"train\"):\n",
    "        derived_files = glob.glob(f\"{data_dir}/train/**/*_derived.csv\",recursive=True)\n",
    "    elif (datatype==\"test\"):\n",
    "        derived_files = glob.glob(f\"{data_dir}/test/**/*_derived.csv\",recursive=True)\n",
    "    else:\n",
    "        raise Exception(\"miss arg (datatype) value: Only specify train or test, not\"+datatype);\n",
    "            \n",
    "    ### load load derived files;\n",
    "    df_list = [ add_correctedPrm(pd.read_csv(t))[[cname_col,pname_col] + cols]   for t in tqdm(derived_files)];    \n",
    "    df_train_derived = pd.concat(df_list,ignore_index=True);    \n",
    "    \n",
    "    df_train_derived[phone_col] = df_train_derived[cname_col] + \"_\" + df_train_derived[pname_col];\n",
    "    df_train_derived.drop([cname_col,pname_col],axis=1,inplace=True)\n",
    "    return df_train_derived;\n",
    "        \n",
    "\n",
    "@noglobal()\n",
    "def create_derived_pivot_dataframe_per_svid(df,column,aggrication_func=np.mean):\n",
    "    data_dir = \"/work/data/input/google-smartphone-decimeter-challenge/\"\n",
    "    phone_col = 'phone'\n",
    "    ts_col = 'millisSinceGpsEpoch'    \n",
    "    pname_col = 'phoneName'\n",
    "    cname_col = 'collectionName'\n",
    "        \n",
    "    df_train_derived_pivot = pd.pivot_table(df,values=column, index=[phone_col,ts_col],columns=[\"svid\"],aggfunc=aggrication_func)\n",
    "    df_train__derived_pivot = pd.pivot_table(df,values=column, index=[phone_col,ts_col],columns=[\"svid\"],aggfunc=aggrication_func)\n",
    "    df_train_derived_pivot.columns = [f'svid_{column}_{x}' for x in df_train_derived_pivot.columns]\n",
    "    \n",
    "    \n",
    "    df_train_derived_pivot.reset_index(inplace=True)\n",
    "    return df_train_derived_pivot;        \n",
    "\n",
    "\n",
    "@noglobal(excepts=[\"create_derived_pivot_dataframe_per_svid\"])\n",
    "def create_derived_pivot_dataframe(df,column_list,aggrication_func=np.mean):\n",
    "        \n",
    "    if (len(column_list) == 0):\n",
    "        raise Exception(\"size of column_list muse be one or more.\");\n",
    "    elif (len(column_list) == 1):\n",
    "        return create_derived_pivot_dataframe_per_svid(column_list[0]);\n",
    "    else:\n",
    "        ret_df = create_derived_pivot_dataframe_per_svid(df,column_list[0],aggrication_func)\n",
    "        \n",
    "        for column in tqdm(column_list[1:]):            \n",
    "            added_df = create_derived_pivot_dataframe_per_svid(df,column,aggrication_func)\n",
    "            ret_df = ret_df.merge(added_df,how=\"left\",on = [\"phone\",\"millisSinceGpsEpoch\"],suffixes=[\"\",\"_\"+column])\n",
    "        \n",
    "    \n",
    "    return ret_df;      "
   ]
  },
  {
   "cell_type": "markdown",
   "id": "spatial-institution",
   "metadata": {},
   "source": [
    "#### load Derived file"
   ]
  },
  {
   "cell_type": "code",
   "execution_count": 18,
   "id": "damaged-publisher",
   "metadata": {},
   "outputs": [
    {
     "data": {
      "application/vnd.jupyter.widget-view+json": {
       "model_id": "4278c8e0db674553873f9e524ac58a8a",
       "version_major": 2,
       "version_minor": 0
      },
      "text/plain": [
       "  0%|          | 0/73 [00:00<?, ?it/s]"
      ]
     },
     "metadata": {},
     "output_type": "display_data"
    },
    {
     "data": {
      "application/vnd.jupyter.widget-view+json": {
       "model_id": "8cdae09eb07944afb4dcb4704d2240ae",
       "version_major": 2,
       "version_minor": 0
      },
      "text/plain": [
       "  0%|          | 0/48 [00:00<?, ?it/s]"
      ]
     },
     "metadata": {},
     "output_type": "display_data"
    }
   ],
   "source": [
    "\n",
    "cols = [ts_col, 'svid'] + added_data\n",
    "\n",
    "\n",
    "df_train_derived = load_derived_files(\"train\",cols);\n",
    "df_test_derived = load_derived_files(\"test\",cols);"
   ]
  },
  {
   "cell_type": "code",
   "execution_count": 19,
   "id": "silver-saudi",
   "metadata": {},
   "outputs": [
    {
     "data": {
      "text/html": [
       "<div>\n",
       "<style scoped>\n",
       "    .dataframe tbody tr th:only-of-type {\n",
       "        vertical-align: middle;\n",
       "    }\n",
       "\n",
       "    .dataframe tbody tr th {\n",
       "        vertical-align: top;\n",
       "    }\n",
       "\n",
       "    .dataframe thead th {\n",
       "        text-align: right;\n",
       "    }\n",
       "</style>\n",
       "<table border=\"1\" class=\"dataframe\">\n",
       "  <thead>\n",
       "    <tr style=\"text-align: right;\">\n",
       "      <th></th>\n",
       "      <th>millisSinceGpsEpoch</th>\n",
       "      <th>svid</th>\n",
       "      <th>correctedPrM</th>\n",
       "      <th>xSatPosM</th>\n",
       "      <th>ySatPosM</th>\n",
       "      <th>zSatPosM</th>\n",
       "      <th>phone</th>\n",
       "    </tr>\n",
       "  </thead>\n",
       "  <tbody>\n",
       "    <tr>\n",
       "      <th>0</th>\n",
       "      <td>1275339494441</td>\n",
       "      <td>5</td>\n",
       "      <td>2.259722e+07</td>\n",
       "      <td>-1.899382e+06</td>\n",
       "      <td>-2.637141e+07</td>\n",
       "      <td>-9.153694e+05</td>\n",
       "      <td>2020-06-04-US-MTV-1_Pixel4</td>\n",
       "    </tr>\n",
       "    <tr>\n",
       "      <th>1</th>\n",
       "      <td>1275339494441</td>\n",
       "      <td>29</td>\n",
       "      <td>2.467865e+07</td>\n",
       "      <td>-2.658206e+07</td>\n",
       "      <td>-1.717453e+05</td>\n",
       "      <td>8.476383e+06</td>\n",
       "      <td>2020-06-04-US-MTV-1_Pixel4</td>\n",
       "    </tr>\n",
       "    <tr>\n",
       "      <th>2</th>\n",
       "      <td>1275339494441</td>\n",
       "      <td>15</td>\n",
       "      <td>2.532104e+07</td>\n",
       "      <td>-2.730250e+07</td>\n",
       "      <td>-1.004552e+07</td>\n",
       "      <td>5.444145e+06</td>\n",
       "      <td>2020-06-04-US-MTV-1_Pixel4</td>\n",
       "    </tr>\n",
       "    <tr>\n",
       "      <th>3</th>\n",
       "      <td>1275339494441</td>\n",
       "      <td>16</td>\n",
       "      <td>2.351705e+07</td>\n",
       "      <td>-7.305856e+06</td>\n",
       "      <td>-2.185012e+07</td>\n",
       "      <td>-1.110190e+07</td>\n",
       "      <td>2020-06-04-US-MTV-1_Pixel4</td>\n",
       "    </tr>\n",
       "    <tr>\n",
       "      <th>4</th>\n",
       "      <td>1275339494441</td>\n",
       "      <td>20</td>\n",
       "      <td>1.992254e+07</td>\n",
       "      <td>-1.693731e+07</td>\n",
       "      <td>-8.049983e+06</td>\n",
       "      <td>1.726869e+07</td>\n",
       "      <td>2020-06-04-US-MTV-1_Pixel4</td>\n",
       "    </tr>\n",
       "  </tbody>\n",
       "</table>\n",
       "</div>"
      ],
      "text/plain": [
       "   millisSinceGpsEpoch  svid  correctedPrM      xSatPosM      ySatPosM  \\\n",
       "0        1275339494441     5  2.259722e+07 -1.899382e+06 -2.637141e+07   \n",
       "1        1275339494441    29  2.467865e+07 -2.658206e+07 -1.717453e+05   \n",
       "2        1275339494441    15  2.532104e+07 -2.730250e+07 -1.004552e+07   \n",
       "3        1275339494441    16  2.351705e+07 -7.305856e+06 -2.185012e+07   \n",
       "4        1275339494441    20  1.992254e+07 -1.693731e+07 -8.049983e+06   \n",
       "\n",
       "       zSatPosM                       phone  \n",
       "0 -9.153694e+05  2020-06-04-US-MTV-1_Pixel4  \n",
       "1  8.476383e+06  2020-06-04-US-MTV-1_Pixel4  \n",
       "2  5.444145e+06  2020-06-04-US-MTV-1_Pixel4  \n",
       "3 -1.110190e+07  2020-06-04-US-MTV-1_Pixel4  \n",
       "4  1.726869e+07  2020-06-04-US-MTV-1_Pixel4  "
      ]
     },
     "execution_count": 19,
     "metadata": {},
     "output_type": "execute_result"
    }
   ],
   "source": [
    "df_train_derived.head(5)"
   ]
  },
  {
   "cell_type": "markdown",
   "id": "communist-reduction",
   "metadata": {},
   "source": [
    "#### derived pivot dataframe"
   ]
  },
  {
   "cell_type": "code",
   "execution_count": 20,
   "id": "humanitarian-ottawa",
   "metadata": {},
   "outputs": [
    {
     "data": {
      "application/vnd.jupyter.widget-view+json": {
       "model_id": "53b43904881c4b638524bf9d9f984010",
       "version_major": 2,
       "version_minor": 0
      },
      "text/plain": [
       "  0%|          | 0/3 [00:00<?, ?it/s]"
      ]
     },
     "metadata": {},
     "output_type": "display_data"
    },
    {
     "data": {
      "application/vnd.jupyter.widget-view+json": {
       "model_id": "dd767341607d474f8f8f24b0a39d3199",
       "version_major": 2,
       "version_minor": 0
      },
      "text/plain": [
       "  0%|          | 0/3 [00:00<?, ?it/s]"
      ]
     },
     "metadata": {},
     "output_type": "display_data"
    }
   ],
   "source": [
    "df_train_derived_pivot = create_derived_pivot_dataframe(df_train_derived,added_data)\n",
    "df_test_derived_pivot = create_derived_pivot_dataframe(df_test_derived,added_data)"
   ]
  },
  {
   "cell_type": "code",
   "execution_count": 21,
   "id": "departmental-subscriber",
   "metadata": {},
   "outputs": [],
   "source": [
    "column = [\"phone\",\"millisSinceGpsEpoch\"] + sum([[\"svid_correctedPrM_\"+str(idx),\"svid_xSatPosM_\"+str(idx),\"svid_ySatPosM_\"+str(idx),\"svid_zSatPosM_\"+str(idx)]  for idx in range(1,38)],[])\n",
    "df_train_derived_pivot = df_train_derived_pivot[column]\n",
    "df_test_derived_pivot = df_train_derived_pivot[column]"
   ]
  },
  {
   "cell_type": "markdown",
   "id": "antique-coach",
   "metadata": {},
   "source": [
    "#### add second since GPS time"
   ]
  },
  {
   "cell_type": "code",
   "execution_count": 22,
   "id": "coated-excuse",
   "metadata": {},
   "outputs": [],
   "source": [
    "df_train_derived_pivot = add_second_since_GPSepoch(df_train_derived_pivot);\n",
    "df_test_derived_pivot = add_second_since_GPSepoch(df_test_derived_pivot);"
   ]
  },
  {
   "cell_type": "code",
   "execution_count": 23,
   "id": "radical-commerce",
   "metadata": {},
   "outputs": [
    {
     "data": {
      "text/html": [
       "<div>\n",
       "<style scoped>\n",
       "    .dataframe tbody tr th:only-of-type {\n",
       "        vertical-align: middle;\n",
       "    }\n",
       "\n",
       "    .dataframe tbody tr th {\n",
       "        vertical-align: top;\n",
       "    }\n",
       "\n",
       "    .dataframe thead th {\n",
       "        text-align: right;\n",
       "    }\n",
       "</style>\n",
       "<table border=\"1\" class=\"dataframe\">\n",
       "  <thead>\n",
       "    <tr style=\"text-align: right;\">\n",
       "      <th></th>\n",
       "      <th>phone</th>\n",
       "      <th>millisSinceGpsEpoch</th>\n",
       "      <th>svid_correctedPrM_1</th>\n",
       "      <th>svid_xSatPosM_1</th>\n",
       "      <th>svid_ySatPosM_1</th>\n",
       "      <th>svid_zSatPosM_1</th>\n",
       "      <th>svid_correctedPrM_2</th>\n",
       "      <th>svid_xSatPosM_2</th>\n",
       "      <th>svid_ySatPosM_2</th>\n",
       "      <th>svid_zSatPosM_2</th>\n",
       "      <th>...</th>\n",
       "      <th>svid_zSatPosM_35</th>\n",
       "      <th>svid_correctedPrM_36</th>\n",
       "      <th>svid_xSatPosM_36</th>\n",
       "      <th>svid_ySatPosM_36</th>\n",
       "      <th>svid_zSatPosM_36</th>\n",
       "      <th>svid_correctedPrM_37</th>\n",
       "      <th>svid_xSatPosM_37</th>\n",
       "      <th>svid_ySatPosM_37</th>\n",
       "      <th>svid_zSatPosM_37</th>\n",
       "      <th>secondsSinceGpsEpoch</th>\n",
       "    </tr>\n",
       "  </thead>\n",
       "  <tbody>\n",
       "    <tr>\n",
       "      <th>0</th>\n",
       "      <td>2020-05-14-US-MTV-1_Pixel4</td>\n",
       "      <td>1273529464442</td>\n",
       "      <td>2.507294e+07</td>\n",
       "      <td>-1.687091e+07</td>\n",
       "      <td>-1.134636e+06</td>\n",
       "      <td>2.429217e+07</td>\n",
       "      <td>2.089991e+07</td>\n",
       "      <td>-5503339.320</td>\n",
       "      <td>-1.825420e+07</td>\n",
       "      <td>1.915512e+07</td>\n",
       "      <td>...</td>\n",
       "      <td>NaN</td>\n",
       "      <td>NaN</td>\n",
       "      <td>NaN</td>\n",
       "      <td>NaN</td>\n",
       "      <td>NaN</td>\n",
       "      <td>NaN</td>\n",
       "      <td>NaN</td>\n",
       "      <td>NaN</td>\n",
       "      <td>NaN</td>\n",
       "      <td>1273529464</td>\n",
       "    </tr>\n",
       "    <tr>\n",
       "      <th>1</th>\n",
       "      <td>2020-05-14-US-MTV-1_Pixel4</td>\n",
       "      <td>1273529465442</td>\n",
       "      <td>2.507256e+07</td>\n",
       "      <td>-1.687148e+07</td>\n",
       "      <td>-1.137008e+06</td>\n",
       "      <td>2.429166e+07</td>\n",
       "      <td>2.090013e+07</td>\n",
       "      <td>-5501259.007</td>\n",
       "      <td>-1.825321e+07</td>\n",
       "      <td>1.915671e+07</td>\n",
       "      <td>...</td>\n",
       "      <td>NaN</td>\n",
       "      <td>NaN</td>\n",
       "      <td>NaN</td>\n",
       "      <td>NaN</td>\n",
       "      <td>NaN</td>\n",
       "      <td>NaN</td>\n",
       "      <td>NaN</td>\n",
       "      <td>NaN</td>\n",
       "      <td>NaN</td>\n",
       "      <td>1273529465</td>\n",
       "    </tr>\n",
       "    <tr>\n",
       "      <th>2</th>\n",
       "      <td>2020-05-14-US-MTV-1_Pixel4</td>\n",
       "      <td>1273529466442</td>\n",
       "      <td>2.507216e+07</td>\n",
       "      <td>-1.687205e+07</td>\n",
       "      <td>-1.139381e+06</td>\n",
       "      <td>2.429116e+07</td>\n",
       "      <td>2.090035e+07</td>\n",
       "      <td>-5499178.468</td>\n",
       "      <td>-1.825223e+07</td>\n",
       "      <td>1.915829e+07</td>\n",
       "      <td>...</td>\n",
       "      <td>NaN</td>\n",
       "      <td>NaN</td>\n",
       "      <td>NaN</td>\n",
       "      <td>NaN</td>\n",
       "      <td>NaN</td>\n",
       "      <td>NaN</td>\n",
       "      <td>NaN</td>\n",
       "      <td>NaN</td>\n",
       "      <td>NaN</td>\n",
       "      <td>1273529466</td>\n",
       "    </tr>\n",
       "  </tbody>\n",
       "</table>\n",
       "<p>3 rows × 151 columns</p>\n",
       "</div>"
      ],
      "text/plain": [
       "                        phone  millisSinceGpsEpoch  svid_correctedPrM_1  \\\n",
       "0  2020-05-14-US-MTV-1_Pixel4        1273529464442         2.507294e+07   \n",
       "1  2020-05-14-US-MTV-1_Pixel4        1273529465442         2.507256e+07   \n",
       "2  2020-05-14-US-MTV-1_Pixel4        1273529466442         2.507216e+07   \n",
       "\n",
       "   svid_xSatPosM_1  svid_ySatPosM_1  svid_zSatPosM_1  svid_correctedPrM_2  \\\n",
       "0    -1.687091e+07    -1.134636e+06     2.429217e+07         2.089991e+07   \n",
       "1    -1.687148e+07    -1.137008e+06     2.429166e+07         2.090013e+07   \n",
       "2    -1.687205e+07    -1.139381e+06     2.429116e+07         2.090035e+07   \n",
       "\n",
       "   svid_xSatPosM_2  svid_ySatPosM_2  svid_zSatPosM_2  ...  svid_zSatPosM_35  \\\n",
       "0     -5503339.320    -1.825420e+07     1.915512e+07  ...               NaN   \n",
       "1     -5501259.007    -1.825321e+07     1.915671e+07  ...               NaN   \n",
       "2     -5499178.468    -1.825223e+07     1.915829e+07  ...               NaN   \n",
       "\n",
       "   svid_correctedPrM_36  svid_xSatPosM_36  svid_ySatPosM_36  svid_zSatPosM_36  \\\n",
       "0                   NaN               NaN               NaN               NaN   \n",
       "1                   NaN               NaN               NaN               NaN   \n",
       "2                   NaN               NaN               NaN               NaN   \n",
       "\n",
       "   svid_correctedPrM_37  svid_xSatPosM_37  svid_ySatPosM_37  svid_zSatPosM_37  \\\n",
       "0                   NaN               NaN               NaN               NaN   \n",
       "1                   NaN               NaN               NaN               NaN   \n",
       "2                   NaN               NaN               NaN               NaN   \n",
       "\n",
       "   secondsSinceGpsEpoch  \n",
       "0            1273529464  \n",
       "1            1273529465  \n",
       "2            1273529466  \n",
       "\n",
       "[3 rows x 151 columns]"
      ]
     },
     "execution_count": 23,
     "metadata": {},
     "output_type": "execute_result"
    }
   ],
   "source": [
    "df_test_derived_pivot.head(3)"
   ]
  },
  {
   "cell_type": "markdown",
   "id": "auburn-atlas",
   "metadata": {},
   "source": [
    "### dataframeに結合"
   ]
  },
  {
   "cell_type": "code",
   "execution_count": 24,
   "id": "theoretical-leadership",
   "metadata": {},
   "outputs": [],
   "source": [
    "#secondsSinceGpsEpoch\n",
    "df_trn = df_trn.merge(df_train_derived_pivot, how=\"left\",on = [ phone_col,\"secondsSinceGpsEpoch\"],suffixes=[\"\",\"_2\"])\n",
    "df_trn.drop(['secondsSinceGpsEpoch', ts_col + '_2'], axis=1, inplace=True)\n",
    "\n",
    "\n",
    "df_tst = df_tst.merge(df_test_derived_pivot, how=\"left\",on = [ phone_col,\"secondsSinceGpsEpoch\"],suffixes=[\"\",\"_2\"])\n",
    "df_tst.drop(['secondsSinceGpsEpoch', ts_col + '_2'], axis=1, inplace=True)"
   ]
  },
  {
   "cell_type": "markdown",
   "id": "chronic-minnesota",
   "metadata": {},
   "source": [
    "### diff baseline and true\n",
    "\n",
    "leakのような気がするので、削除"
   ]
  },
  {
   "cell_type": "code",
   "execution_count": 25,
   "id": "identified-folks",
   "metadata": {},
   "outputs": [],
   "source": [
    "#df_trn['diff_lat'] = df_trn['latDeg_gt'] - df_trn[lat_col]\n",
    "#df_trn['diff_lng'] = df_trn['lngDeg_gt'] - df_trn[lon_col]\n",
    "#df_trn[['diff_lat', 'diff_lng']].describe()"
   ]
  },
  {
   "cell_type": "markdown",
   "id": "waiting-teaching",
   "metadata": {},
   "source": [
    "## データ保存"
   ]
  },
  {
   "cell_type": "code",
   "execution_count": 26,
   "id": "artistic-corps",
   "metadata": {},
   "outputs": [],
   "source": [
    "df_trn.to_csv(\"/work/data/input/selfmade_dataset/baseline_with_derived_data_v1/train.csv\",index=False)\n",
    "df_tst.to_csv(\"/work/data/input/selfmade_dataset/baseline_with_derived_data_v1/test.csv\",index=False)\n",
    "\n",
    "pickle.dump(df_trn,open(\"/work/data/input/selfmade_dataset/baseline_with_derived_data_v1/train.pkl\",\"wb\"))\n",
    "pickle.dump(df_tst,open(\"/work/data/input/selfmade_dataset/baseline_with_derived_data_v1/test.pkl\",\"wb\"))"
   ]
  }
 ],
 "metadata": {
  "hide_input": false,
  "kernelspec": {
   "display_name": "Python 3",
   "language": "python",
   "name": "python3"
  },
  "language_info": {
   "codemirror_mode": {
    "name": "ipython",
    "version": 3
   },
   "file_extension": ".py",
   "mimetype": "text/x-python",
   "name": "python",
   "nbconvert_exporter": "python",
   "pygments_lexer": "ipython3",
   "version": "3.8.8"
  },
  "toc": {
   "base_numbering": 1,
   "nav_menu": {},
   "number_sections": true,
   "sideBar": true,
   "skip_h1_title": false,
   "title_cell": "Table of Contents",
   "title_sidebar": "Contents",
   "toc_cell": false,
   "toc_position": {
    "height": "calc(100% - 180px)",
    "left": "10px",
    "top": "150px",
    "width": "335.994px"
   },
   "toc_section_display": true,
   "toc_window_display": false
  }
 },
 "nbformat": 4,
 "nbformat_minor": 5
}
