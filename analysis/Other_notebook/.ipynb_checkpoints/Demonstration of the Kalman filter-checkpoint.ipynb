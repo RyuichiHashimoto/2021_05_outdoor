{
 "cells": [
  {
   "cell_type": "code",
   "execution_count": 3,
   "id": "revolutionary-catering",
   "metadata": {},
   "outputs": [
    {
     "name": "stdout",
     "output_type": "stream",
     "text": [
      "Collecting simdkalman\n",
      "  Downloading simdkalman-1.0.1-py2.py3-none-any.whl (11 kB)\n",
      "Requirement already satisfied: numpy>=1.9.0 in /opt/conda/lib/python3.8/site-packages (from simdkalman) (1.20.1)\n",
      "Installing collected packages: simdkalman\n",
      "Successfully installed simdkalman-1.0.1\n"
     ]
    }
   ],
   "source": [
    "!pip install simdkalman"
   ]
  },
  {
   "cell_type": "code",
   "execution_count": 139,
   "id": "institutional-instrument",
   "metadata": {},
   "outputs": [],
   "source": [
    "import numpy as np\n",
    "import pandas as pd\n",
    "import simdkalman\n",
    "from tqdm.notebook import tqdm\n",
    "import warnings\n",
    "warnings.simplefilter(\"ignore\")"
   ]
  },
  {
   "cell_type": "markdown",
   "id": "convinced-mixture",
   "metadata": {},
   "source": [
    "### カルマンフィルターのパラメータ"
   ]
  },
  {
   "cell_type": "code",
   "execution_count": 140,
   "id": "conservative-madonna",
   "metadata": {},
   "outputs": [
    {
     "data": {
      "text/plain": [
       "array([[1. , 0. , 1. , 0. , 0.5, 0. ],\n",
       "       [0. , 1. , 0. , 1. , 0. , 0.5],\n",
       "       [0. , 0. , 1. , 0. , 1. , 0. ],\n",
       "       [0. , 0. , 0. , 1. , 0. , 1. ],\n",
       "       [0. , 0. , 0. , 0. , 1. , 0. ],\n",
       "       [0. , 0. , 0. , 0. , 0. , 1. ]])"
      ]
     },
     "metadata": {},
     "output_type": "display_data"
    },
    {
     "data": {
      "text/plain": [
       "array([[1.0001e-05, 1.0000e-09, 1.0000e-09, 1.0000e-09, 1.0000e-09,\n",
       "        1.0000e-09],\n",
       "       [1.0000e-09, 1.0001e-05, 1.0000e-09, 1.0000e-09, 1.0000e-09,\n",
       "        1.0000e-09],\n",
       "       [1.0000e-09, 1.0000e-09, 5.0010e-06, 1.0000e-09, 1.0000e-09,\n",
       "        1.0000e-09],\n",
       "       [1.0000e-09, 1.0000e-09, 1.0000e-09, 5.0010e-06, 1.0000e-09,\n",
       "        1.0000e-09],\n",
       "       [1.0000e-09, 1.0000e-09, 1.0000e-09, 1.0000e-09, 1.0010e-06,\n",
       "        1.0000e-09],\n",
       "       [1.0000e-09, 1.0000e-09, 1.0000e-09, 1.0000e-09, 1.0000e-09,\n",
       "        1.0010e-06]])"
      ]
     },
     "metadata": {},
     "output_type": "display_data"
    },
    {
     "data": {
      "text/plain": [
       "array([[1, 0, 0, 0, 0, 0],\n",
       "       [0, 1, 0, 0, 0, 0]])"
      ]
     },
     "metadata": {},
     "output_type": "display_data"
    },
    {
     "data": {
      "text/plain": [
       "array([[5.0001e-05, 1.0000e-09],\n",
       "       [1.0000e-09, 5.0001e-05]])"
      ]
     },
     "metadata": {},
     "output_type": "display_data"
    }
   ],
   "source": [
    "T = 1.0\n",
    "\n",
    "\n",
    "state_transition = np.array([[1, 0, T, 0, 0.5 * T ** 2, 0], [0, 1, 0, T, 0, 0.5 * T ** 2], [0, 0, 1, 0, T, 0],\n",
    "                             [0, 0, 0, 1, 0, T], [0, 0, 0, 0, 1, 0], [0, 0, 0, 0, 0, 1]])\n",
    "\n",
    "\n",
    "process_noise = np.diag([1e-5, 1e-5, 5e-6, 5e-6, 1e-6, 1e-6]) + np.ones((6, 6)) * 1e-9\n",
    "\n",
    "observation_model = np.array([[1, 0, 0, 0, 0, 0], [0, 1, 0, 0, 0, 0]])\n",
    "observation_noise = np.diag([5e-5, 5e-5]) + np.ones((2, 2)) * 1e-9\n",
    "\n",
    "\n",
    "display(state_transition)\n",
    "display(process_noise)\n",
    "display(observation_model)\n",
    "display(observation_noise)"
   ]
  },
  {
   "cell_type": "markdown",
   "id": "parental-philip",
   "metadata": {},
   "source": [
    "### カルマンフィルター実行関数"
   ]
  },
  {
   "cell_type": "code",
   "execution_count": 143,
   "id": "treated-daughter",
   "metadata": {},
   "outputs": [],
   "source": [
    "def apply_kf_smoothing(df,kf_=kf):\n",
    "    \n",
    "    kf = simdkalman.KalmanFilter(\n",
    "        state_transition = state_transition,\n",
    "        process_noise = process_noise,\n",
    "        observation_model = observation_model,\n",
    "        observation_noise = observation_noise\n",
    "    )\n",
    "    \n",
    "    \n",
    "    \n",
    "    df_set = [];\n",
    "    \n",
    "    for (colName,phone),df_per_phone in tqdm(df.groupby([\"collectionName\",\"phoneName\"])):\n",
    "        \n",
    "        data_df = df_per_phone[[\"latDeg\",\"lngDeg\"]];\n",
    "        data = data_df.to_numpy();\n",
    "        \n",
    "        data = data.reshape(1,len(data),2);        \n",
    "        smoothed = kf_.smooth(data)\n",
    "        \n",
    "        data_df['latDeg'] =  smoothed.states.mean[0, :, 0]\n",
    "        data_df['lngDeg'] =  smoothed.states.mean[0, :, 1]\n",
    "                \n",
    "        df_set.append(data_df); \n",
    "                                \n",
    "    modified = pd.concat(df_set);\n",
    "    \n",
    "    df[\"latDeg\"] = modified[\"latDeg\"];\n",
    "    df[\"lngDeg\"] = modified[\"lngDeg\"];\n",
    "    "
   ]
  },
  {
   "cell_type": "markdown",
   "id": "uniform-concentration",
   "metadata": {},
   "source": [
    "### train データに対してカルマンフィルターを行う。"
   ]
  },
  {
   "cell_type": "markdown",
   "id": "dominican-soundtrack",
   "metadata": {},
   "source": [
    "#### 以下、グラフプロット関数"
   ]
  },
  {
   "cell_type": "code",
   "execution_count": 128,
   "id": "cathedral-likelihood",
   "metadata": {
    "hide_input": false
   },
   "outputs": [],
   "source": [
    "\n",
    "def visualize_trafic(df,color_header:str=None, zoom=9,outputfile=None):\n",
    "    \n",
    "\n",
    "    center = {\"lat\":(df[\"latDeg\"].max()  + df[\"latDeg\"].min())/2, \"lon\": (df[\"lngDeg\"].max()  + df[\"lngDeg\"].min())/2}\n",
    "    \n",
    "    \n",
    "    if (color_header == None):\n",
    "        df[\"history\"] =  [ i for i in range(sample_ground_truth_df.shape[0])]\n",
    "        color_header = \"history\"\n",
    "    \n",
    "    fig = px.scatter_mapbox(df,\n",
    "                            \n",
    "                            # Here, plotly gets, (x,y) coordinates\n",
    "                            lat=\"latDeg\",\n",
    "                            lon=\"lngDeg\",\n",
    "                            \n",
    "                            #Here, plotly detects color of series\n",
    "                            color=color_header,\n",
    "                            labels=\"phoneName\",\n",
    "                            \n",
    "                            zoom=zoom,\n",
    "                            center=center,\n",
    "                            height=600,\n",
    "                            width=800)\n",
    "    fig.update_layout(mapbox_style='stamen-terrain')\n",
    "    fig.update_layout(margin={\"r\": 0, \"t\": 0, \"l\": 0, \"b\": 0})\n",
    "    fig.update_layout(title_text=\"GPS trafic\")\n",
    "    \n",
    "    \n",
    "    if (not outputfile == None):\n",
    "        if (outputfile.endswith(\".html\")):\n",
    "            fig.write_html(outputfile);\n",
    "        elif(outputfile.endswith(\".png\")):\n",
    "            fig.write_image(outputfile,format = \"png\")\n",
    "        else:\n",
    "            raise Exception(\"Sorry, I cannot understand the \" + outputfile.split(\".\")[-1] +\" file\");\n",
    "    else:\n",
    "        return fig\n",
    "    \n"
   ]
  },
  {
   "cell_type": "code",
   "execution_count": 130,
   "id": "virgin-string",
   "metadata": {},
   "outputs": [
    {
     "data": {
      "text/html": [
       "<div>\n",
       "<style scoped>\n",
       "    .dataframe tbody tr th:only-of-type {\n",
       "        vertical-align: middle;\n",
       "    }\n",
       "\n",
       "    .dataframe tbody tr th {\n",
       "        vertical-align: top;\n",
       "    }\n",
       "\n",
       "    .dataframe thead th {\n",
       "        text-align: right;\n",
       "    }\n",
       "</style>\n",
       "<table border=\"1\" class=\"dataframe\">\n",
       "  <thead>\n",
       "    <tr style=\"text-align: right;\">\n",
       "      <th></th>\n",
       "      <th>collectionName</th>\n",
       "      <th>phoneName</th>\n",
       "      <th>millisSinceGpsEpoch</th>\n",
       "      <th>latDeg</th>\n",
       "      <th>lngDeg</th>\n",
       "      <th>heightAboveWgs84EllipsoidM</th>\n",
       "      <th>phone</th>\n",
       "    </tr>\n",
       "  </thead>\n",
       "  <tbody>\n",
       "    <tr>\n",
       "      <th>59239</th>\n",
       "      <td>2020-09-04-US-SF-1</td>\n",
       "      <td>Pixel4</td>\n",
       "      <td>1283274652442</td>\n",
       "      <td>37.416558</td>\n",
       "      <td>-122.081989</td>\n",
       "      <td>-8.86</td>\n",
       "      <td>2020-09-04-US-SF-1_Pixel4</td>\n",
       "    </tr>\n",
       "    <tr>\n",
       "      <th>59240</th>\n",
       "      <td>2020-09-04-US-SF-1</td>\n",
       "      <td>Pixel4</td>\n",
       "      <td>1283274653442</td>\n",
       "      <td>37.416553</td>\n",
       "      <td>-122.082009</td>\n",
       "      <td>-10.03</td>\n",
       "      <td>2020-09-04-US-SF-1_Pixel4</td>\n",
       "    </tr>\n",
       "    <tr>\n",
       "      <th>59241</th>\n",
       "      <td>2020-09-04-US-SF-1</td>\n",
       "      <td>Pixel4</td>\n",
       "      <td>1283274654442</td>\n",
       "      <td>37.416557</td>\n",
       "      <td>-122.081999</td>\n",
       "      <td>-5.37</td>\n",
       "      <td>2020-09-04-US-SF-1_Pixel4</td>\n",
       "    </tr>\n",
       "    <tr>\n",
       "      <th>59242</th>\n",
       "      <td>2020-09-04-US-SF-1</td>\n",
       "      <td>Pixel4</td>\n",
       "      <td>1283274655442</td>\n",
       "      <td>37.416565</td>\n",
       "      <td>-122.081995</td>\n",
       "      <td>-12.26</td>\n",
       "      <td>2020-09-04-US-SF-1_Pixel4</td>\n",
       "    </tr>\n",
       "    <tr>\n",
       "      <th>59243</th>\n",
       "      <td>2020-09-04-US-SF-1</td>\n",
       "      <td>Pixel4</td>\n",
       "      <td>1283274656442</td>\n",
       "      <td>37.416547</td>\n",
       "      <td>-122.081976</td>\n",
       "      <td>-13.82</td>\n",
       "      <td>2020-09-04-US-SF-1_Pixel4</td>\n",
       "    </tr>\n",
       "    <tr>\n",
       "      <th>...</th>\n",
       "      <td>...</td>\n",
       "      <td>...</td>\n",
       "      <td>...</td>\n",
       "      <td>...</td>\n",
       "      <td>...</td>\n",
       "      <td>...</td>\n",
       "      <td>...</td>\n",
       "    </tr>\n",
       "    <tr>\n",
       "      <th>60981</th>\n",
       "      <td>2020-09-04-US-SF-1</td>\n",
       "      <td>Pixel4</td>\n",
       "      <td>1283276399667</td>\n",
       "      <td>37.629641</td>\n",
       "      <td>-122.401144</td>\n",
       "      <td>-15.35</td>\n",
       "      <td>2020-09-04-US-SF-1_Pixel4</td>\n",
       "    </tr>\n",
       "    <tr>\n",
       "      <th>60982</th>\n",
       "      <td>2020-09-04-US-SF-1</td>\n",
       "      <td>Pixel4</td>\n",
       "      <td>1283276400654</td>\n",
       "      <td>37.629627</td>\n",
       "      <td>-122.401042</td>\n",
       "      <td>-26.61</td>\n",
       "      <td>2020-09-04-US-SF-1_Pixel4</td>\n",
       "    </tr>\n",
       "    <tr>\n",
       "      <th>60983</th>\n",
       "      <td>2020-09-04-US-SF-1</td>\n",
       "      <td>Pixel4</td>\n",
       "      <td>1283276401651</td>\n",
       "      <td>37.629513</td>\n",
       "      <td>-122.401005</td>\n",
       "      <td>-48.44</td>\n",
       "      <td>2020-09-04-US-SF-1_Pixel4</td>\n",
       "    </tr>\n",
       "    <tr>\n",
       "      <th>60984</th>\n",
       "      <td>2020-09-04-US-SF-1</td>\n",
       "      <td>Pixel4</td>\n",
       "      <td>1283276402664</td>\n",
       "      <td>37.629522</td>\n",
       "      <td>-122.400881</td>\n",
       "      <td>-28.55</td>\n",
       "      <td>2020-09-04-US-SF-1_Pixel4</td>\n",
       "    </tr>\n",
       "    <tr>\n",
       "      <th>60985</th>\n",
       "      <td>2020-09-04-US-SF-1</td>\n",
       "      <td>Pixel4</td>\n",
       "      <td>1283276403654</td>\n",
       "      <td>37.629505</td>\n",
       "      <td>-122.400771</td>\n",
       "      <td>-36.10</td>\n",
       "      <td>2020-09-04-US-SF-1_Pixel4</td>\n",
       "    </tr>\n",
       "  </tbody>\n",
       "</table>\n",
       "<p>1747 rows × 7 columns</p>\n",
       "</div>"
      ],
      "text/plain": [
       "           collectionName phoneName  millisSinceGpsEpoch     latDeg  \\\n",
       "59239  2020-09-04-US-SF-1    Pixel4        1283274652442  37.416558   \n",
       "59240  2020-09-04-US-SF-1    Pixel4        1283274653442  37.416553   \n",
       "59241  2020-09-04-US-SF-1    Pixel4        1283274654442  37.416557   \n",
       "59242  2020-09-04-US-SF-1    Pixel4        1283274655442  37.416565   \n",
       "59243  2020-09-04-US-SF-1    Pixel4        1283274656442  37.416547   \n",
       "...                   ...       ...                  ...        ...   \n",
       "60981  2020-09-04-US-SF-1    Pixel4        1283276399667  37.629641   \n",
       "60982  2020-09-04-US-SF-1    Pixel4        1283276400654  37.629627   \n",
       "60983  2020-09-04-US-SF-1    Pixel4        1283276401651  37.629513   \n",
       "60984  2020-09-04-US-SF-1    Pixel4        1283276402664  37.629522   \n",
       "60985  2020-09-04-US-SF-1    Pixel4        1283276403654  37.629505   \n",
       "\n",
       "           lngDeg  heightAboveWgs84EllipsoidM                      phone  \n",
       "59239 -122.081989                       -8.86  2020-09-04-US-SF-1_Pixel4  \n",
       "59240 -122.082009                      -10.03  2020-09-04-US-SF-1_Pixel4  \n",
       "59241 -122.081999                       -5.37  2020-09-04-US-SF-1_Pixel4  \n",
       "59242 -122.081995                      -12.26  2020-09-04-US-SF-1_Pixel4  \n",
       "59243 -122.081976                      -13.82  2020-09-04-US-SF-1_Pixel4  \n",
       "...           ...                         ...                        ...  \n",
       "60981 -122.401144                      -15.35  2020-09-04-US-SF-1_Pixel4  \n",
       "60982 -122.401042                      -26.61  2020-09-04-US-SF-1_Pixel4  \n",
       "60983 -122.401005                      -48.44  2020-09-04-US-SF-1_Pixel4  \n",
       "60984 -122.400881                      -28.55  2020-09-04-US-SF-1_Pixel4  \n",
       "60985 -122.400771                      -36.10  2020-09-04-US-SF-1_Pixel4  \n",
       "\n",
       "[1747 rows x 7 columns]"
      ]
     },
     "metadata": {},
     "output_type": "display_data"
    }
   ],
   "source": [
    "train_df = pd.read_csv(\"/work/data/input/google-smartphone-decimeter-challenge/baseline_locations_train.csv\");\n",
    "\n",
    "path = \"2020-09-04-US-SF-1\"\n",
    "phone = \"Pixel4\"\n",
    "extracted_train_df = train_df[(train_df[\"phoneName\"] == phone) & (train_df[\"collectionName\"] == path)]"
   ]
  },
  {
   "cell_type": "code",
   "execution_count": 146,
   "id": "decimal-enzyme",
   "metadata": {},
   "outputs": [
    {
     "data": {
      "application/vnd.jupyter.widget-view+json": {
       "model_id": "b959e29e4e3244419914dde165a31bac",
       "version_major": 2,
       "version_minor": 0
      },
      "text/plain": [
       "  0%|          | 0/1 [00:00<?, ?it/s]"
      ]
     },
     "metadata": {},
     "output_type": "display_data"
    }
   ],
   "source": [
    "filterd = extracted_train_df.copy()\n",
    "apply_kf_smoothing(filterd);"
   ]
  },
  {
   "cell_type": "code",
   "execution_count": 147,
   "id": "approximate-petite",
   "metadata": {},
   "outputs": [
    {
     "ename": "NameError",
     "evalue": "name 'sample_ground_truth_df' is not defined",
     "output_type": "error",
     "traceback": [
      "\u001b[0;31m---------------------------------------------------------------------------\u001b[0m",
      "\u001b[0;31mNameError\u001b[0m                                 Traceback (most recent call last)",
      "\u001b[0;32m<ipython-input-147-69fe1b172e0c>\u001b[0m in \u001b[0;36m<module>\u001b[0;34m\u001b[0m\n\u001b[0;32m----> 1\u001b[0;31m \u001b[0mvisualize_trafic\u001b[0m\u001b[0;34m(\u001b[0m\u001b[0mfilterd\u001b[0m\u001b[0;34m)\u001b[0m\u001b[0;34m\u001b[0m\u001b[0;34m\u001b[0m\u001b[0m\n\u001b[0m",
      "\u001b[0;32m<ipython-input-128-458bd9e5de31>\u001b[0m in \u001b[0;36mvisualize_trafic\u001b[0;34m(df, color_header, zoom, outputfile)\u001b[0m\n\u001b[1;32m      6\u001b[0m \u001b[0;34m\u001b[0m\u001b[0m\n\u001b[1;32m      7\u001b[0m     \u001b[0;32mif\u001b[0m \u001b[0;34m(\u001b[0m\u001b[0mcolor_header\u001b[0m \u001b[0;34m==\u001b[0m \u001b[0;32mNone\u001b[0m\u001b[0;34m)\u001b[0m\u001b[0;34m:\u001b[0m\u001b[0;34m\u001b[0m\u001b[0;34m\u001b[0m\u001b[0m\n\u001b[0;32m----> 8\u001b[0;31m         \u001b[0msample_ground_truth_df\u001b[0m\u001b[0;34m[\u001b[0m\u001b[0;34m\"history\"\u001b[0m\u001b[0;34m]\u001b[0m \u001b[0;34m=\u001b[0m  \u001b[0;34m[\u001b[0m \u001b[0mi\u001b[0m \u001b[0;32mfor\u001b[0m \u001b[0mi\u001b[0m \u001b[0;32min\u001b[0m \u001b[0mrange\u001b[0m\u001b[0;34m(\u001b[0m\u001b[0msample_ground_truth_df\u001b[0m\u001b[0;34m.\u001b[0m\u001b[0mshape\u001b[0m\u001b[0;34m[\u001b[0m\u001b[0;36m0\u001b[0m\u001b[0;34m]\u001b[0m\u001b[0;34m)\u001b[0m\u001b[0;34m]\u001b[0m\u001b[0;34m\u001b[0m\u001b[0;34m\u001b[0m\u001b[0m\n\u001b[0m\u001b[1;32m      9\u001b[0m         \u001b[0mcolor_header\u001b[0m \u001b[0;34m=\u001b[0m \u001b[0;34m\"history\"\u001b[0m\u001b[0;34m\u001b[0m\u001b[0;34m\u001b[0m\u001b[0m\n\u001b[1;32m     10\u001b[0m \u001b[0;34m\u001b[0m\u001b[0m\n",
      "\u001b[0;31mNameError\u001b[0m: name 'sample_ground_truth_df' is not defined"
     ]
    }
   ],
   "source": [
    "visualize_trafic(filterd)"
   ]
  }
 ],
 "metadata": {
  "hide_input": false,
  "kernelspec": {
   "display_name": "Python 3",
   "language": "python",
   "name": "python3"
  },
  "language_info": {
   "codemirror_mode": {
    "name": "ipython",
    "version": 3
   },
   "file_extension": ".py",
   "mimetype": "text/x-python",
   "name": "python",
   "nbconvert_exporter": "python",
   "pygments_lexer": "ipython3",
   "version": "3.8.8"
  },
  "toc": {
   "base_numbering": 1,
   "nav_menu": {},
   "number_sections": true,
   "sideBar": true,
   "skip_h1_title": false,
   "title_cell": "Table of Contents",
   "title_sidebar": "Contents",
   "toc_cell": false,
   "toc_position": {},
   "toc_section_display": true,
   "toc_window_display": false
  }
 },
 "nbformat": 4,
 "nbformat_minor": 5
}
