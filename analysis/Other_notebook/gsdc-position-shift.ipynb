{
 "cells": [
  {
   "cell_type": "markdown",
   "id": "attractive-edition",
   "metadata": {},
   "source": [
    "# Refernece\n",
    "\n",
    "https://www.kaggle.com/wrrosa/gsdc-position-shift"
   ]
  },
  {
   "cell_type": "markdown",
   "id": "rough-determination",
   "metadata": {},
   "source": [
    "# Import "
   ]
  },
  {
   "cell_type": "code",
   "execution_count": 1,
   "id": "passive-leonard",
   "metadata": {},
   "outputs": [],
   "source": [
    "import sys\n",
    "sys.path.append(\"/work/src/\")\n",
    "\n",
    "import numpy as np # linear algebra\n",
    "import pandas as pd # data processing, CSV file I/O (e.g. pd.read_csv)\n",
    "import os\n",
    "from pathlib import Path\n",
    "#!pip install pyproj\n",
    "import pyproj\n",
    "\n",
    "from pyproj import Proj, transform\n",
    "import glob\n",
    "from lib.noglobal import noglobal"
   ]
  },
  {
   "cell_type": "markdown",
   "id": "junior-harmony",
   "metadata": {},
   "source": [
    "# 関数定義"
   ]
  },
  {
   "cell_type": "code",
   "execution_count": 2,
   "id": "valid-income",
   "metadata": {},
   "outputs": [],
   "source": [
    "@noglobal(excepts=[\"np\"])\n",
    "def calc_haversine(lat1, lon1, lat2, lon2):\n",
    "    RADIUS = 6_367_000\n",
    "    lat1, lon1, lat2, lon2 = map(np.radians, [lat1, lon1, lat2, lon2])\n",
    "    dlat = lat2 - lat1\n",
    "    dlon = lon2 - lon1\n",
    "    a = np.sin(dlat/2)**2 + np.cos(lat1) * np.cos(lat2) * np.sin(dlon/2)**2\n",
    "    dist = 2 * RADIUS * np.arcsin(a**0.5)\n",
    "    return dist\n",
    "\n",
    "@noglobal(excepts=[\"calc_haversine\"])\n",
    "def compute_dist(oof, gt_df=None):\n",
    "        \n",
    "    if (gt_df is None):\n",
    "        FILES = glob.glob(f\"/work/data/input/google-smartphone-decimeter-challenge/train/*/*/ground_truth.csv\")\n",
    "        gt_list = [ pd.read_csv(f) for f in FILES ];\n",
    "        gt_df = pd.concat(gt_list,axis=0);\n",
    "            \n",
    "    \n",
    "    gt_df[\"phone\"] = gt_df[\"collectionName\"] + \"_\" + gt_df[\"phoneName\"]\n",
    "        \n",
    "    df = oof.merge(gt_df, on = ['phone','millisSinceGpsEpoch'])\n",
    "         \n",
    "    dst_oof = calc_haversine(df.latDeg_x,df.lngDeg_x, df.latDeg_y, df.lngDeg_y)\n",
    "    \n",
    "    scores = pd.DataFrame({'phone': df.phone,'dst': dst_oof})\n",
    "    scores_grp = scores.groupby('phone')\n",
    "    \n",
    "    d50 = scores_grp.quantile(.50).reset_index()\n",
    "    d50.columns = ['phone','q50']\n",
    "    d95 = scores_grp.quantile(.95).reset_index()\n",
    "    d95.columns = ['phone','q95']\n",
    "    \n",
    "    return (scores_grp.quantile(.50).mean() + scores_grp.quantile(.95).mean())/2, d50.merge(d95)\n",
    "\n",
    "def WGS84_to_ECEF(lat, lon, alt):\n",
    "    # convert to radians\n",
    "    rad_lat = lat * (np.pi / 180.0)\n",
    "    rad_lon = lon * (np.pi / 180.0)\n",
    "    a    = 6378137.0\n",
    "    # f is the flattening factor\n",
    "    finv = 298.257223563\n",
    "    f = 1 / finv   \n",
    "    # e is the eccentricity\n",
    "    e2 = 1 - (1 - f) * (1 - f)    \n",
    "    # N is the radius of curvature in the prime vertical\n",
    "    N = a / np.sqrt(1 - e2 * np.sin(rad_lat) * np.sin(rad_lat))\n",
    "    x = (N + alt) * np.cos(rad_lat) * np.cos(rad_lon)\n",
    "    y = (N + alt) * np.cos(rad_lat) * np.sin(rad_lon)\n",
    "    z = (N * (1 - e2) + alt)        * np.sin(rad_lat)\n",
    "    return x, y, z\n",
    "\n",
    "\n",
    "transformer = pyproj.Transformer.from_crs(\n",
    "    {\"proj\":\"geocent\",\"ellips\":\"WGS84\",\"datum\":\"WGS84\"},\n",
    "    {\"proj\":\"latlong\",\"ellips\":\"WGS84\",\"datum\":\"WGS84\"},\n",
    ")\n",
    "\n",
    "def ECEF_to_WGS84(x,y,z):\n",
    "    return transformer.transform(x,y,z,radians=False);"
   ]
  },
  {
   "cell_type": "markdown",
   "id": "annual-contest",
   "metadata": {},
   "source": [
    "# data loader"
   ]
  },
  {
   "cell_type": "code",
   "execution_count": 3,
   "id": "considered-delicious",
   "metadata": {},
   "outputs": [],
   "source": [
    "datadir = \"/work/data/input/google-smartphone-decimeter-challenge\"\n",
    "\n",
    "train_dir = f\"{datadir}/train\"\n",
    "test_dir = f\"{datadir}/test\"\n",
    "\n",
    "sample_sub = pd.read_csv(f\"{datadir}/sample_submission.csv\")\n",
    "sub_columns = sample_sub.columns\n",
    "\n",
    "baseline_train = pd.read_csv(f\"{datadir}/baseline_locations_train.csv\")\n",
    "baseline_test = pd.read_csv(f\"{datadir}/baseline_locations_test.csv\")\n",
    "\n",
    "msge = 'millisSinceGpsEpoch'\n",
    "\n",
    "\n",
    "FILES = glob.glob(f\"{train_dir}/*/*/ground_truth.csv\")\n",
    "gt_list = [ pd.read_csv(f) for f in FILES ];\n",
    "gt = pd.concat(gt_list,axis=0);\n",
    "\n"
   ]
  },
  {
   "cell_type": "markdown",
   "id": "statewide-tracy",
   "metadata": {},
   "source": [
    "# ベースラインの推定誤差"
   ]
  },
  {
   "cell_type": "code",
   "execution_count": 8,
   "id": "extraordinary-advantage",
   "metadata": {},
   "outputs": [
    {
     "name": "stdout",
     "output_type": "stream",
     "text": [
      "dst    5.287971\n",
      "dtype: float64\n"
     ]
    }
   ],
   "source": [
    "score, scores = compute_dist(baseline_train,gt);\n",
    "print(score)"
   ]
  },
  {
   "cell_type": "markdown",
   "id": "mature-partnership",
   "metadata": {},
   "source": [
    "# optuna"
   ]
  },
  {
   "cell_type": "code",
   "execution_count": 22,
   "id": "extraordinary-trust",
   "metadata": {
    "collapsed": true
   },
   "outputs": [
    {
     "name": "stdout",
     "output_type": "stream",
     "text": [
      "Collecting optuna\n",
      "  Downloading optuna-2.7.0-py3-none-any.whl (293 kB)\n",
      "\u001b[K     |████████████████████████████████| 293 kB 3.8 MB/s eta 0:00:01\n",
      "\u001b[?25hCollecting cliff\n",
      "  Downloading cliff-3.8.0-py3-none-any.whl (80 kB)\n",
      "\u001b[K     |████████████████████████████████| 80 kB 5.2 MB/s eta 0:00:01\n",
      "\u001b[?25hRequirement already satisfied: alembic in /opt/conda/lib/python3.8/site-packages (from optuna) (1.5.5)\n",
      "Requirement already satisfied: sqlalchemy>=1.1.0 in /opt/conda/lib/python3.8/site-packages (from optuna) (1.3.23)\n",
      "Requirement already satisfied: packaging>=20.0 in /opt/conda/lib/python3.8/site-packages (from optuna) (20.9)\n",
      "Requirement already satisfied: scipy!=1.4.0 in /opt/conda/lib/python3.8/site-packages (from optuna) (1.6.0)\n",
      "Collecting colorlog\n",
      "  Downloading colorlog-5.0.1-py2.py3-none-any.whl (10 kB)\n",
      "Collecting cmaes>=0.8.2\n",
      "  Downloading cmaes-0.8.2-py3-none-any.whl (15 kB)\n",
      "Requirement already satisfied: tqdm in /opt/conda/lib/python3.8/site-packages (from optuna) (4.58.0)\n",
      "Requirement already satisfied: numpy in /opt/conda/lib/python3.8/site-packages (from optuna) (1.20.1)\n",
      "Requirement already satisfied: pyparsing>=2.0.2 in /opt/conda/lib/python3.8/site-packages (from packaging>=20.0->optuna) (2.4.7)\n",
      "Requirement already satisfied: Mako in /opt/conda/lib/python3.8/site-packages (from alembic->optuna) (1.1.4)\n",
      "Requirement already satisfied: python-editor>=0.3 in /opt/conda/lib/python3.8/site-packages (from alembic->optuna) (1.0.4)\n",
      "Requirement already satisfied: python-dateutil in /opt/conda/lib/python3.8/site-packages (from alembic->optuna) (2.8.1)\n",
      "Collecting cmd2>=1.0.0\n",
      "  Downloading cmd2-1.5.0-py3-none-any.whl (133 kB)\n",
      "\u001b[K     |████████████████████████████████| 133 kB 6.4 MB/s eta 0:00:01\n",
      "\u001b[?25hRequirement already satisfied: PyYAML>=3.12 in /opt/conda/lib/python3.8/site-packages (from cliff->optuna) (5.4.1)\n",
      "Collecting pbr!=2.1.0,>=2.0.0\n",
      "  Downloading pbr-5.6.0-py2.py3-none-any.whl (111 kB)\n",
      "\u001b[K     |████████████████████████████████| 111 kB 7.0 MB/s eta 0:00:01\n",
      "\u001b[?25hCollecting stevedore>=2.0.1\n",
      "  Downloading stevedore-3.3.0-py3-none-any.whl (49 kB)\n",
      "\u001b[K     |████████████████████████████████| 49 kB 3.7 MB/s eta 0:00:011\n",
      "\u001b[?25hCollecting PrettyTable>=0.7.2\n",
      "  Downloading prettytable-2.1.0-py3-none-any.whl (22 kB)\n",
      "Collecting pyperclip>=1.6\n",
      "  Downloading pyperclip-1.8.2.tar.gz (20 kB)\n",
      "Requirement already satisfied: attrs>=16.3.0 in /opt/conda/lib/python3.8/site-packages (from cmd2>=1.0.0->cliff->optuna) (20.3.0)\n",
      "Collecting colorama>=0.3.7\n",
      "  Downloading colorama-0.4.4-py2.py3-none-any.whl (16 kB)\n",
      "Requirement already satisfied: wcwidth>=0.1.7 in /opt/conda/lib/python3.8/site-packages (from cmd2>=1.0.0->cliff->optuna) (0.2.5)\n",
      "Requirement already satisfied: MarkupSafe>=0.9.2 in /opt/conda/lib/python3.8/site-packages (from Mako->alembic->optuna) (1.1.1)\n",
      "Requirement already satisfied: six>=1.5 in /opt/conda/lib/python3.8/site-packages (from python-dateutil->alembic->optuna) (1.15.0)\n",
      "Building wheels for collected packages: pyperclip\n",
      "  Building wheel for pyperclip (setup.py) ... \u001b[?25ldone\n",
      "\u001b[?25h  Created wheel for pyperclip: filename=pyperclip-1.8.2-py3-none-any.whl size=11107 sha256=b8834a1ff9991fda638293d8b22212ecf50a391f93f83496fc229f1a76e87b44\n",
      "  Stored in directory: /home/jovyan/.cache/pip/wheels/7f/1a/65/84ff8c386bec21fca6d220ea1f5498a0367883a78dd5ba6122\n",
      "Successfully built pyperclip\n",
      "Installing collected packages: pyperclip, pbr, colorama, stevedore, PrettyTable, cmd2, colorlog, cmaes, cliff, optuna\n",
      "Successfully installed PrettyTable-2.1.0 cliff-3.8.0 cmaes-0.8.2 cmd2-1.5.0 colorama-0.4.4 colorlog-5.0.1 optuna-2.7.0 pbr-5.6.0 pyperclip-1.8.2 stevedore-3.3.0\n"
     ]
    }
   ],
   "source": [
    "!pip install optuna"
   ]
  },
  {
   "cell_type": "code",
   "execution_count": 51,
   "id": "medium-habitat",
   "metadata": {},
   "outputs": [],
   "source": [
    "import optuna\n",
    "\n",
    "#@noglobal\n",
    "def position_shift(df,a):\n",
    "    \n",
    "    d = df.copy()\n",
    "    \n",
    "    d['heightAboveWgs84EllipsoidM'] = 63.5\n",
    "    d['x'], d['y'], d['z'] = zip(*d.apply(lambda x: WGS84_to_ECEF(x.latDeg, x.lngDeg, x.heightAboveWgs84EllipsoidM), axis=1))\n",
    "    \n",
    "    # a = -0.2\n",
    "    d.sort_values([\"phone\",msge],inplace=True);\n",
    "    \n",
    "    for fi in [\"x\",\"y\",\"z\"]:\n",
    "        d[[fi+'p']] = d[fi].shift().where(d['phone'].eq(d['phone'].shift()))\n",
    "        d[[fi+\"diff\"]] = d[fi] - d[fi+\"p\"]\n",
    "        \n",
    "    d[['dist']] = np.sqrt(d['xdiff']**2 + d['ydiff']**2+ d['zdiff']**2)\n",
    "    \n",
    "    for fi in [\"x\",\"y\",\"z\"]:\n",
    "        d[[fi+'new']] = d[fi+'p'] + d[fi+'diff']*(1-a/d['dist']);\n",
    "    \n",
    "    lng, lat, alt = ECEF_to_WGS84(d['xnew'].values,d['ynew'].values,d['znew'].values)\n",
    "    \n",
    "    lng[np.isnan(lng)] = d.loc[np.isnan(lng),'lngDeg']\n",
    "    lat[np.isnan(lat)] = d.loc[np.isnan(lat),'latDeg']\n",
    "    d['latDeg'] = lat\n",
    "    d['lngDeg'] = lng\n",
    "    \n",
    "    d.sort_values(['phone',msge],inplace = True)\n",
    "        \n",
    "    return d\n",
    "\n",
    "#@noglobal(excepts=[\"baseline_train\",\"gt\"])\n",
    "def objective(trial):\n",
    "    a = trial.suggest_uniform(\"a\",-1,1)            \n",
    "    score,scores = compute_dist(position_shift(baseline_train,a),gt)\n",
    "    return score\n",
    "\n",
    "#study = optuna.create_study()\n",
    "#study.optimize(objective, n_trials=30)\n",
    "\n",
    "a = 0.7884495383712343\n",
    "\n",
    "\n",
    "#study = optuna.create_study();    \n",
    "#study.optimize(objective, n_trials=100)\n",
    "\n",
    "\n",
    "\n",
    "sample_sub = pd.read_csv(f\"{datadir}/sample_submission.csv\")\n",
    "sub_columns = sample_sub.columns\n",
    "sub = position_shift(sample_sub, a)\n",
    "\n",
    "\n",
    "\n",
    "\n",
    "                        "
   ]
  },
  {
   "cell_type": "code",
   "execution_count": 52,
   "id": "prescribed-marathon",
   "metadata": {},
   "outputs": [],
   "source": [
    "sub[sub_columns].to_csv(\"/work/submission/baseline_plus_positionshift.csv\",index=False)"
   ]
  }
 ],
 "metadata": {
  "hide_input": false,
  "kernelspec": {
   "display_name": "Python 3",
   "language": "python",
   "name": "python3"
  },
  "language_info": {
   "codemirror_mode": {
    "name": "ipython",
    "version": 3
   },
   "file_extension": ".py",
   "mimetype": "text/x-python",
   "name": "python",
   "nbconvert_exporter": "python",
   "pygments_lexer": "ipython3",
   "version": "3.8.8"
  },
  "toc": {
   "base_numbering": 1,
   "nav_menu": {},
   "number_sections": true,
   "sideBar": true,
   "skip_h1_title": false,
   "title_cell": "Table of Contents",
   "title_sidebar": "Contents",
   "toc_cell": false,
   "toc_position": {},
   "toc_section_display": true,
   "toc_window_display": false
  }
 },
 "nbformat": 4,
 "nbformat_minor": 5
}
