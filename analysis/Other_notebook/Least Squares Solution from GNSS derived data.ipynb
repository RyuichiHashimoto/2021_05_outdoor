{
 "cells": [
  {
   "cell_type": "code",
   "execution_count": 1,
   "id": "dramatic-engineering",
   "metadata": {
    "hide_input": true
   },
   "outputs": [
    {
     "data": {
      "text/html": [
       "<style>\n",
       "    div#notebook-container    { width: 95%; }\n",
       "    div#menubar-container     { width: 65%; }\n",
       "    div#maintoolbar-container { width: 99%; }\n",
       "</style>\n"
      ],
      "text/plain": [
       "<IPython.core.display.HTML object>"
      ]
     },
     "metadata": {},
     "output_type": "display_data"
    }
   ],
   "source": [
    "%%HTML\n",
    "<style>\n",
    "    div#notebook-container    { width: 95%; }\n",
    "    div#menubar-container     { width: 65%; }\n",
    "    div#maintoolbar-container { width: 99%; }\n",
    "</style>"
   ]
  },
  {
   "cell_type": "markdown",
   "id": "fifteen-prevention",
   "metadata": {},
   "source": [
    "# 参考ノートブック\n",
    "https://www.kaggle.com/foreveryoung/least-squares-solution-from-gnss-derived-data"
   ]
  },
  {
   "cell_type": "markdown",
   "id": "military-return",
   "metadata": {},
   "source": [
    "# インポート"
   ]
  },
  {
   "cell_type": "code",
   "execution_count": 57,
   "id": "excess-smoke",
   "metadata": {},
   "outputs": [],
   "source": [
    "import pandas as pd\n",
    "import numpy as np\n",
    "import math"
   ]
  },
  {
   "cell_type": "markdown",
   "id": "dutch-milwaukee",
   "metadata": {},
   "source": [
    "# ユーティリティ関数"
   ]
  },
  {
   "cell_type": "code",
   "execution_count": 3,
   "id": "southeast-burns",
   "metadata": {},
   "outputs": [],
   "source": [
    "def ecef2lla(x, y, z):\n",
    "  # x, y and z are scalars or vectors in meters\n",
    "  x = np.array([x]).reshape(np.array([x]).shape[-1], 1)\n",
    "  y = np.array([y]).reshape(np.array([y]).shape[-1], 1)\n",
    "  z = np.array([z]).reshape(np.array([z]).shape[-1], 1)\n",
    "\n",
    "  a=6378137\n",
    "  a_sq=a**2\n",
    "  e = 8.181919084261345e-2\n",
    "  e_sq = 6.69437999014e-3\n",
    "\n",
    "  f = 1/298.257223563\n",
    "  b = a*(1-f)\n",
    "\n",
    "  # calculations:\n",
    "  r = np.sqrt(x**2 + y**2)\n",
    "  ep_sq  = (a**2-b**2)/b**2\n",
    "  ee = (a**2-b**2)\n",
    "  f = (54*b**2)*(z**2)\n",
    "  g = r**2 + (1 - e_sq)*(z**2) - e_sq*ee*2\n",
    "  c = (e_sq**2)*f*r**2/(g**3)\n",
    "  s = (1 + c + np.sqrt(c**2 + 2*c))**(1/3.)\n",
    "  p = f/(3.*(g**2)*(s + (1./s) + 1)**2)\n",
    "  q = np.sqrt(1 + 2*p*e_sq**2)\n",
    "  r_0 = -(p*e_sq*r)/(1+q) + np.sqrt(0.5*(a**2)*(1+(1./q)) - p*(z**2)*(1-e_sq)/(q*(1+q)) - 0.5*p*(r**2))\n",
    "  u = np.sqrt((r - e_sq*r_0)**2 + z**2)\n",
    "  v = np.sqrt((r - e_sq*r_0)**2 + (1 - e_sq)*z**2)\n",
    "  z_0 = (b**2)*z/(a*v)\n",
    "  h = u*(1 - b**2/(a*v))\n",
    "  phi = np.arctan((z + ep_sq*z_0)/r)\n",
    "  lambd = np.arctan2(y, x)\n",
    "\n",
    "  return phi*180/np.pi, lambd*180/np.pi, h"
   ]
  },
  {
   "cell_type": "markdown",
   "id": "complete-philosophy",
   "metadata": {},
   "source": [
    "# load provided data"
   ]
  },
  {
   "cell_type": "code",
   "execution_count": 34,
   "id": "catholic-volleyball",
   "metadata": {},
   "outputs": [],
   "source": [
    "datapath = \"/work/data/input/google-smartphone-decimeter-challenge\"\n",
    "\n",
    "df_baseline_train = pd.read_csv(f\"{datapath}/baseline_locations_train.csv\")\n",
    "df_sample_trail_gt = pd.read_csv(f\"{datapath}/train/2020-05-14-US-MTV-1/Pixel4/ground_truth.csv\")    \n",
    "df_sample_trail = pd.read_csv(f\"{datapath}/train/2020-05-14-US-MTV-1/Pixel4/Pixel4_derived.csv\")\n",
    "\n",
    "df_sample_trail[\"correctedPrM\"] = df_sample_trail[\"rawPrM\"] + df_sample_trail[\"satClkBiasM\"] - df_sample_trail[\"isrbM\"] - df_sample_trail[\"ionoDelayM\"] - df_sample_trail[\"tropoDelayM\"] \n",
    "\n",
    "\n",
    "sat_pos = df_sample_epoch[[\"xSatPosM\",\"ySatPosM\",\"zSatPosM\"]].to_numpy()\n",
    "pseudoranges = np.squeeze(df_sample_epoch[[\"correctedPrM\"]].to_numpy())"
   ]
  },
  {
   "cell_type": "code",
   "execution_count": 5,
   "id": "animated-exclusive",
   "metadata": {},
   "outputs": [
    {
     "data": {
      "text/html": [
       "<div>\n",
       "<style scoped>\n",
       "    .dataframe tbody tr th:only-of-type {\n",
       "        vertical-align: middle;\n",
       "    }\n",
       "\n",
       "    .dataframe tbody tr th {\n",
       "        vertical-align: top;\n",
       "    }\n",
       "\n",
       "    .dataframe thead th {\n",
       "        text-align: right;\n",
       "    }\n",
       "</style>\n",
       "<table border=\"1\" class=\"dataframe\">\n",
       "  <thead>\n",
       "    <tr style=\"text-align: right;\">\n",
       "      <th></th>\n",
       "      <th>collectionName</th>\n",
       "      <th>phoneName</th>\n",
       "      <th>millisSinceGpsEpoch</th>\n",
       "      <th>constellationType</th>\n",
       "      <th>svid</th>\n",
       "      <th>signalType</th>\n",
       "      <th>receivedSvTimeInGpsNanos</th>\n",
       "      <th>xSatPosM</th>\n",
       "      <th>ySatPosM</th>\n",
       "      <th>zSatPosM</th>\n",
       "      <th>...</th>\n",
       "      <th>ySatVelMps</th>\n",
       "      <th>zSatVelMps</th>\n",
       "      <th>satClkBiasM</th>\n",
       "      <th>satClkDriftMps</th>\n",
       "      <th>rawPrM</th>\n",
       "      <th>rawPrUncM</th>\n",
       "      <th>isrbM</th>\n",
       "      <th>ionoDelayM</th>\n",
       "      <th>tropoDelayM</th>\n",
       "      <th>correctedPrM</th>\n",
       "    </tr>\n",
       "  </thead>\n",
       "  <tbody>\n",
       "    <tr>\n",
       "      <th>0</th>\n",
       "      <td>2020-05-14-US-MTV-1</td>\n",
       "      <td>Pixel4</td>\n",
       "      <td>1273529464442</td>\n",
       "      <td>3</td>\n",
       "      <td>24</td>\n",
       "      <td>GLO_G1</td>\n",
       "      <td>1273529463363061857</td>\n",
       "      <td>-2.539901e+07</td>\n",
       "      <td>-6.925122e+05</td>\n",
       "      <td>-2.280430e+06</td>\n",
       "      <td>...</td>\n",
       "      <td>156.040</td>\n",
       "      <td>3559.757</td>\n",
       "      <td>-468.084</td>\n",
       "      <td>0.001</td>\n",
       "      <td>2.379498e+07</td>\n",
       "      <td>11.992</td>\n",
       "      <td>1134.758</td>\n",
       "      <td>10.866</td>\n",
       "      <td>16.647</td>\n",
       "      <td>2.379335e+07</td>\n",
       "    </tr>\n",
       "    <tr>\n",
       "      <th>1</th>\n",
       "      <td>2020-05-14-US-MTV-1</td>\n",
       "      <td>Pixel4</td>\n",
       "      <td>1273529464442</td>\n",
       "      <td>6</td>\n",
       "      <td>13</td>\n",
       "      <td>GAL_E1</td>\n",
       "      <td>1273529463363970742</td>\n",
       "      <td>-5.199894e+06</td>\n",
       "      <td>-1.741927e+07</td>\n",
       "      <td>2.336128e+07</td>\n",
       "      <td>...</td>\n",
       "      <td>700.815</td>\n",
       "      <td>1022.014</td>\n",
       "      <td>120171.076</td>\n",
       "      <td>0.000</td>\n",
       "      <td>2.352251e+07</td>\n",
       "      <td>1.799</td>\n",
       "      <td>-222.675</td>\n",
       "      <td>3.946</td>\n",
       "      <td>2.717</td>\n",
       "      <td>2.364289e+07</td>\n",
       "    </tr>\n",
       "    <tr>\n",
       "      <th>2</th>\n",
       "      <td>2020-05-14-US-MTV-1</td>\n",
       "      <td>Pixel4</td>\n",
       "      <td>1273529464442</td>\n",
       "      <td>1</td>\n",
       "      <td>5</td>\n",
       "      <td>GPS_L1</td>\n",
       "      <td>1273529463365539137</td>\n",
       "      <td>-2.179863e+06</td>\n",
       "      <td>-2.615488e+07</td>\n",
       "      <td>-3.437694e+06</td>\n",
       "      <td>...</td>\n",
       "      <td>-419.725</td>\n",
       "      <td>3129.012</td>\n",
       "      <td>-3793.067</td>\n",
       "      <td>-0.001</td>\n",
       "      <td>2.305231e+07</td>\n",
       "      <td>4.197</td>\n",
       "      <td>0.000</td>\n",
       "      <td>7.554</td>\n",
       "      <td>5.704</td>\n",
       "      <td>2.304851e+07</td>\n",
       "    </tr>\n",
       "  </tbody>\n",
       "</table>\n",
       "<p>3 rows × 21 columns</p>\n",
       "</div>"
      ],
      "text/plain": [
       "        collectionName phoneName  millisSinceGpsEpoch  constellationType  \\\n",
       "0  2020-05-14-US-MTV-1    Pixel4        1273529464442                  3   \n",
       "1  2020-05-14-US-MTV-1    Pixel4        1273529464442                  6   \n",
       "2  2020-05-14-US-MTV-1    Pixel4        1273529464442                  1   \n",
       "\n",
       "   svid signalType  receivedSvTimeInGpsNanos      xSatPosM      ySatPosM  \\\n",
       "0    24     GLO_G1       1273529463363061857 -2.539901e+07 -6.925122e+05   \n",
       "1    13     GAL_E1       1273529463363970742 -5.199894e+06 -1.741927e+07   \n",
       "2     5     GPS_L1       1273529463365539137 -2.179863e+06 -2.615488e+07   \n",
       "\n",
       "       zSatPosM  ...  ySatVelMps  zSatVelMps  satClkBiasM  satClkDriftMps  \\\n",
       "0 -2.280430e+06  ...     156.040    3559.757     -468.084           0.001   \n",
       "1  2.336128e+07  ...     700.815    1022.014   120171.076           0.000   \n",
       "2 -3.437694e+06  ...    -419.725    3129.012    -3793.067          -0.001   \n",
       "\n",
       "         rawPrM  rawPrUncM     isrbM  ionoDelayM  tropoDelayM  correctedPrM  \n",
       "0  2.379498e+07     11.992  1134.758      10.866       16.647  2.379335e+07  \n",
       "1  2.352251e+07      1.799  -222.675       3.946        2.717  2.364289e+07  \n",
       "2  2.305231e+07      4.197     0.000       7.554        5.704  2.304851e+07  \n",
       "\n",
       "[3 rows x 21 columns]"
      ]
     },
     "execution_count": 5,
     "metadata": {},
     "output_type": "execute_result"
    }
   ],
   "source": [
    "df_sample_trail.head(3)"
   ]
  },
  {
   "cell_type": "markdown",
   "id": "sitting-baltimore",
   "metadata": {},
   "source": [
    "# 理論\n",
    "\n",
    "\n",
    "## 位置推定式\n",
    "\n",
    "初めに、第$k$個目のサテライトから見たスマホの位置$\\sigma^k$は、以下式で求められる。\n",
    "\n",
    "$$ \\sigma^k = r_u^k + b_u - Pr_u^k  $$\n",
    "\n",
    "ここで、$r_u^k$は第$k$サテライトとスマホ間の距離、$b_u$は、ユーザクロックバイアスを距離変換したもの、$Pr_u^k$は？？？である。\n",
    "\n",
    "\n",
    "\n",
    "## サテライト・スマホ間の距離 $r_u^k$\n",
    "\n",
    "$x^k_{sat}$と$x_u$はそれぞれ、サテライト・スマホの正確な座標位置である。\n",
    "\n",
    "$$r_u^k = ||x^k_{sat} - x_u||$$\n",
    "\n",
    "\n",
    "## ユーザクロックバイアスを距離変換したもの $b_u$\n",
    "\n",
    "\n",
    "初めに、ユーザクロックバイアス$b_u$とは、GPSの送受信端末の時間誤差を距離変換したものであり、クロックバイアスを$clock\\_bias_u$、光速を$c$としたとき、以下式で算出される。\n",
    "\n",
    "$$b_u = clock\\_bias_u * c$$\n",
    "\n",
    "クロックバイアスに関して、詳細は[こちら](https://www.jstage.jst.go.jp/article/ieiej/31/5/31_340/_pdf/-char/ja)で確認してください。\n",
    "\n",
    "\n",
    "## 補正範囲 \n",
    "\n",
    "\n",
    "$$correctedPrM = rawPrM + satClkBiasM - isrbM - ionoDelayM - tropoDelayM$$\n",
    "\n",
    "右辺の各変数は、\"*_derived\"で記載のファイルにある変数である。\n",
    "\n",
    "\n",
    "\n",
    "\n",
    "\n"
   ]
  },
  {
   "cell_type": "markdown",
   "id": "worth-console",
   "metadata": {},
   "source": [
    "<img src='https://www.researchgate.net/publication/324989880/figure/fig1/AS:623672356253699@1525706485241/Global-Navigation-Satellite-System-GNSS-spoofing-attack-illustration.png' width=600/>"
   ]
  },
  {
   "cell_type": "markdown",
   "id": "intelligent-declaration",
   "metadata": {},
   "source": [
    "# 実装"
   ]
  },
  {
   "cell_type": "markdown",
   "id": "opposite-columbia",
   "metadata": {},
   "source": [
    "## 自作関数の場合"
   ]
  },
  {
   "cell_type": "markdown",
   "id": "decreased-blame",
   "metadata": {},
   "source": [
    "### 関数定義"
   ]
  },
  {
   "cell_type": "code",
   "execution_count": 117,
   "id": "quantitative-breach",
   "metadata": {},
   "outputs": [],
   "source": [
    "def least_squares(sat_pos, pseudoranges, weights=1, x_hat=np.array([0, 0, 0, 0])):\n",
    "    \"\"\"\n",
    "    Args:\n",
    "    sat_pos: The satellite position (meters) in an ECEF coordinate frame\n",
    "    pseudoranges: The corrected pseudorange (i.e. a closer approximation to the geometric range from the phone to the satellite)\n",
    "    x_hat: the phone's initial/previous estimated position (x, y, z, b) and \n",
    "           b represent the user clock bias in units of distance = clock bias (t) * light speed (c)\n",
    "           \n",
    "    Returns:\n",
    "     x_hat: the phone's estimated position\n",
    "    norm_dp:\n",
    "    \"\"\"\n",
    "    sat_pos = rotate_sat(sat_pos,0.07)\n",
    "    \n",
    "    dx = np.Inf*np.ones(3);\n",
    "    G = np.ones((pseudoranges.size, 4))\n",
    "    iterations = 0\n",
    "    \n",
    "    if isinstance(weights, np.ndarray):\n",
    "        weights = np.diag(weights)\n",
    "    else:\n",
    "        weights = weights*np.eye(pseudoranges.size)\n",
    "\n",
    "    while np.linalg.norm(dx) > 1e-3:\n",
    "        norms = np.linalg.norm(sat_pos - x_hat[:3], axis=1)\n",
    "        dp = pseudoranges - norms - x_hat[3]\n",
    "        G[:, 0:3] = -(sat_pos - x_hat[:3])/norms[:, None]\n",
    "        # G_T = np.transpose(G)\n",
    "        # dx = np.linalg.inv(G_T@G) @ G_T @ dp\n",
    "        dx = np.linalg.pinv(weights@G) @ weights @ dp\n",
    "        x_hat = x_hat + dx\n",
    "        iterations += 1\n",
    "    return x_hat, np.linalg.norm(dp)"
   ]
  },
  {
   "cell_type": "markdown",
   "id": "lesbian-specification",
   "metadata": {},
   "source": [
    "### 1エポック分のデータ抽出"
   ]
  },
  {
   "cell_type": "code",
   "execution_count": 80,
   "id": "parliamentary-advertising",
   "metadata": {},
   "outputs": [
    {
     "data": {
      "text/html": [
       "<div>\n",
       "<style scoped>\n",
       "    .dataframe tbody tr th:only-of-type {\n",
       "        vertical-align: middle;\n",
       "    }\n",
       "\n",
       "    .dataframe tbody tr th {\n",
       "        vertical-align: top;\n",
       "    }\n",
       "\n",
       "    .dataframe thead th {\n",
       "        text-align: right;\n",
       "    }\n",
       "</style>\n",
       "<table border=\"1\" class=\"dataframe\">\n",
       "  <thead>\n",
       "    <tr style=\"text-align: right;\">\n",
       "      <th></th>\n",
       "      <th>collectionName</th>\n",
       "      <th>phoneName</th>\n",
       "      <th>millisSinceGpsEpoch</th>\n",
       "      <th>constellationType</th>\n",
       "      <th>svid</th>\n",
       "      <th>signalType</th>\n",
       "      <th>receivedSvTimeInGpsNanos</th>\n",
       "      <th>xSatPosM</th>\n",
       "      <th>ySatPosM</th>\n",
       "      <th>zSatPosM</th>\n",
       "      <th>...</th>\n",
       "      <th>ySatVelMps</th>\n",
       "      <th>zSatVelMps</th>\n",
       "      <th>satClkBiasM</th>\n",
       "      <th>satClkDriftMps</th>\n",
       "      <th>rawPrM</th>\n",
       "      <th>rawPrUncM</th>\n",
       "      <th>isrbM</th>\n",
       "      <th>ionoDelayM</th>\n",
       "      <th>tropoDelayM</th>\n",
       "      <th>correctedPrM</th>\n",
       "    </tr>\n",
       "  </thead>\n",
       "  <tbody>\n",
       "    <tr>\n",
       "      <th>0</th>\n",
       "      <td>2020-05-14-US-MTV-1</td>\n",
       "      <td>Pixel4</td>\n",
       "      <td>1273529464442</td>\n",
       "      <td>3</td>\n",
       "      <td>24</td>\n",
       "      <td>GLO_G1</td>\n",
       "      <td>1273529463363061857</td>\n",
       "      <td>-2.539901e+07</td>\n",
       "      <td>-6.925122e+05</td>\n",
       "      <td>-2.280430e+06</td>\n",
       "      <td>...</td>\n",
       "      <td>156.040</td>\n",
       "      <td>3559.757</td>\n",
       "      <td>-468.084</td>\n",
       "      <td>0.001</td>\n",
       "      <td>2.379498e+07</td>\n",
       "      <td>11.992</td>\n",
       "      <td>1134.758</td>\n",
       "      <td>10.866</td>\n",
       "      <td>16.647</td>\n",
       "      <td>2.379335e+07</td>\n",
       "    </tr>\n",
       "    <tr>\n",
       "      <th>1</th>\n",
       "      <td>2020-05-14-US-MTV-1</td>\n",
       "      <td>Pixel4</td>\n",
       "      <td>1273529464442</td>\n",
       "      <td>6</td>\n",
       "      <td>13</td>\n",
       "      <td>GAL_E1</td>\n",
       "      <td>1273529463363970742</td>\n",
       "      <td>-5.199894e+06</td>\n",
       "      <td>-1.741927e+07</td>\n",
       "      <td>2.336128e+07</td>\n",
       "      <td>...</td>\n",
       "      <td>700.815</td>\n",
       "      <td>1022.014</td>\n",
       "      <td>120171.076</td>\n",
       "      <td>0.000</td>\n",
       "      <td>2.352251e+07</td>\n",
       "      <td>1.799</td>\n",
       "      <td>-222.675</td>\n",
       "      <td>3.946</td>\n",
       "      <td>2.717</td>\n",
       "      <td>2.364289e+07</td>\n",
       "    </tr>\n",
       "    <tr>\n",
       "      <th>2</th>\n",
       "      <td>2020-05-14-US-MTV-1</td>\n",
       "      <td>Pixel4</td>\n",
       "      <td>1273529464442</td>\n",
       "      <td>1</td>\n",
       "      <td>5</td>\n",
       "      <td>GPS_L1</td>\n",
       "      <td>1273529463365539137</td>\n",
       "      <td>-2.179863e+06</td>\n",
       "      <td>-2.615488e+07</td>\n",
       "      <td>-3.437694e+06</td>\n",
       "      <td>...</td>\n",
       "      <td>-419.725</td>\n",
       "      <td>3129.012</td>\n",
       "      <td>-3793.067</td>\n",
       "      <td>-0.001</td>\n",
       "      <td>2.305231e+07</td>\n",
       "      <td>4.197</td>\n",
       "      <td>0.000</td>\n",
       "      <td>7.554</td>\n",
       "      <td>5.704</td>\n",
       "      <td>2.304851e+07</td>\n",
       "    </tr>\n",
       "  </tbody>\n",
       "</table>\n",
       "<p>3 rows × 21 columns</p>\n",
       "</div>"
      ],
      "text/plain": [
       "        collectionName phoneName  millisSinceGpsEpoch  constellationType  \\\n",
       "0  2020-05-14-US-MTV-1    Pixel4        1273529464442                  3   \n",
       "1  2020-05-14-US-MTV-1    Pixel4        1273529464442                  6   \n",
       "2  2020-05-14-US-MTV-1    Pixel4        1273529464442                  1   \n",
       "\n",
       "   svid signalType  receivedSvTimeInGpsNanos      xSatPosM      ySatPosM  \\\n",
       "0    24     GLO_G1       1273529463363061857 -2.539901e+07 -6.925122e+05   \n",
       "1    13     GAL_E1       1273529463363970742 -5.199894e+06 -1.741927e+07   \n",
       "2     5     GPS_L1       1273529463365539137 -2.179863e+06 -2.615488e+07   \n",
       "\n",
       "       zSatPosM  ...  ySatVelMps  zSatVelMps  satClkBiasM  satClkDriftMps  \\\n",
       "0 -2.280430e+06  ...     156.040    3559.757     -468.084           0.001   \n",
       "1  2.336128e+07  ...     700.815    1022.014   120171.076           0.000   \n",
       "2 -3.437694e+06  ...    -419.725    3129.012    -3793.067          -0.001   \n",
       "\n",
       "         rawPrM  rawPrUncM     isrbM  ionoDelayM  tropoDelayM  correctedPrM  \n",
       "0  2.379498e+07     11.992  1134.758      10.866       16.647  2.379335e+07  \n",
       "1  2.352251e+07      1.799  -222.675       3.946        2.717  2.364289e+07  \n",
       "2  2.305231e+07      4.197     0.000       7.554        5.704  2.304851e+07  \n",
       "\n",
       "[3 rows x 21 columns]"
      ]
     },
     "metadata": {},
     "output_type": "display_data"
    }
   ],
   "source": [
    "epoch_time = 1273529464442\n",
    "\n",
    "df_sample_epoch = df_sample_trail[df_sample_trail[\"millisSinceGpsEpoch\"] == epoch_time]\n",
    "df_sample_epoch_gt = df_sample_trail_gt[df_sample_trail_gt[\"millisSinceGpsEpoch\"] == epoch_time]\n",
    "\n",
    "df_sample_epoch_baseline = df_baseline_train[(df_baseline_train.collectionName == \"2020-05-14-US-MTV-1\") & (df_baseline_train.phoneName == \"Pixel4\") & (df_baseline_train.millisSinceGpsEpoch == epoch_time)]\n",
    "\n",
    "sat_pos = df_sample_epoch[[\"xSatPosM\",\"ySatPosM\",\"zSatPosM\"]].to_numpy()\n",
    "\n",
    "display(df_sample_epoch.head(3))\n",
    "\n",
    "pseudoranges = np.squeeze(df_sample_epoch[[\"correctedPrM\"]].to_numpy())"
   ]
  },
  {
   "cell_type": "markdown",
   "id": "distinct-sunset",
   "metadata": {},
   "source": [
    "### 推定"
   ]
  },
  {
   "cell_type": "code",
   "execution_count": 88,
   "id": "french-conclusion",
   "metadata": {},
   "outputs": [
    {
     "name": "stdout",
     "output_type": "stream",
     "text": [
      "Ground truth: [[  37.42357595 -122.09413204   33.21      ]]\n",
      "Weighted Least Square Estimation (Baseline): [[  37.4235777 -122.094101   -33.29     ]]\n",
      "Simple Least Square Estimation: [[37.42361372]] [[-122.0936959]] [[-26.18615617]]\n"
     ]
    }
   ],
   "source": [
    "x, dp = least_squares(sat_pos, pseudoranges)\n",
    "\n",
    "print(\"Ground truth:\", df_sample_epoch_gt[[\"latDeg\",\"lngDeg\",\"heightAboveWgs84EllipsoidM\"]].to_numpy())\n",
    "print(\"Weighted Least Square Estimation (Baseline):\", df_sample_epoch_baseline[[\"latDeg\",\"lngDeg\",\"heightAboveWgs84EllipsoidM\"]].to_numpy())\n",
    "print(\"Simple Least Square Estimation:\", *ecef2lla(*x[:3]))"
   ]
  },
  {
   "cell_type": "markdown",
   "id": "plastic-application",
   "metadata": {},
   "source": [
    "## Scipy optimize version"
   ]
  },
  {
   "cell_type": "markdown",
   "id": "greenhouse-prototype",
   "metadata": {},
   "source": [
    "### 関数定義"
   ]
  },
  {
   "cell_type": "code",
   "execution_count": 114,
   "id": "changed-treaty",
   "metadata": {},
   "outputs": [],
   "source": [
    "import scipy.optimize as opt\n",
    "\n",
    "def calc_pos_fix(sat_pos, pr, weights=1, x0 = [0,0,0,0]):\n",
    "    \"\"\"\n",
    "    calclates gps fix with WLS optimizer\n",
    "    \n",
    "    return:\n",
    "        0 -> list with positions\n",
    "        1 -> pseudorange errs                \n",
    "    \"\"\"\n",
    "    #sat_pos = rotate_sat(sat_pos,0.07)\n",
    "    \n",
    "    n = len(pr)\n",
    "    \n",
    "    if (n < 3):\n",
    "        return x0, [];\n",
    "    \n",
    "    Fx_pos = pr_residual(sat_pos, pr, weights = weights);\n",
    "    opt_pos = opt.least_squares(Fx_pos, x0).x\n",
    "    return opt_pos, Fx_pos(opt_pos, weights=1)\n",
    "    \n",
    "    \n",
    "def pr_residual(sat_pos, pr, weights=1):\n",
    "  # solve for pos\n",
    "  def Fx_pos(x_hat, weights=weights):\n",
    "    rows = weights * (np.linalg.norm(sat_pos - x_hat[:3], axis=1) + x_hat[3] - pr)\n",
    "    return rows\n",
    "  return Fx_pos    "
   ]
  },
  {
   "cell_type": "markdown",
   "id": "demonstrated-cornwall",
   "metadata": {},
   "source": [
    "### 推定"
   ]
  },
  {
   "cell_type": "code",
   "execution_count": 115,
   "id": "prompt-continuity",
   "metadata": {
    "scrolled": true
   },
   "outputs": [
    {
     "name": "stdout",
     "output_type": "stream",
     "text": [
      "Ground truth: [[  37.42357595 -122.09413204   33.21      ]]\n",
      "Weighted Least Square Estimation (Baseline): [[  37.4235777 -122.094101   -33.29     ]]\n",
      "Simple Least Square Estimation: [[37.42361372]] [[-122.0936959]] [[-26.18615579]]\n",
      "Weighted Least Square haversine distance (M): [[38.71773646]]\n"
     ]
    }
   ],
   "source": [
    "x, dp = calc_pos_fix(sat_pos, pseudoranges)\n",
    "\n",
    "print(\"Ground truth:\", df_sample_epoch_gt[[\"latDeg\",\"lngDeg\",\"heightAboveWgs84EllipsoidM\"]].to_numpy())\n",
    "print(\"Weighted Least Square Estimation (Baseline):\", df_sample_epoch_baseline[[\"latDeg\",\"lngDeg\",\"heightAboveWgs84EllipsoidM\"]].to_numpy())\n",
    "print(\"Simple Least Square Estimation:\", *ecef2lla(*x[:3]))\n",
    "\n",
    "print(\"Weighted Least Square haversine distance (M):\", calc_haversine(*deg_gt, *ecef2lla(*x[:3])[:2]))"
   ]
  },
  {
   "cell_type": "code",
   "execution_count": 110,
   "id": "personal-sunday",
   "metadata": {},
   "outputs": [],
   "source": [
    "def rotate_sat(sat, tm):\n",
    "    res = sat.copy()\n",
    "    ang = math.pi*(tm)/(126060)\n",
    "    res[:,2] = sat[:,2] \n",
    "    res[:,0] = np.cos(ang)*sat[:,0]+np.sin(ang)*sat[:,1] \n",
    "    res[:,1] = -np.sin(ang)*sat[:,0]+np.cos(ang)*sat[:,1]    \n",
    "    return res"
   ]
  },
  {
   "cell_type": "markdown",
   "id": "changing-account",
   "metadata": {},
   "source": [
    "## Weighted Least Square Solution"
   ]
  },
  {
   "cell_type": "markdown",
   "id": "disabled-magazine",
   "metadata": {},
   "source": [
    "### 理論\n",
    "\n",
    "6.2節、6.3節では複数のサテライトを平等に扱い、推定を行ったが、実際には推定に悪影響を及ぼすやつもある。\n",
    "なので、$rawPrUc$に基づき重み付けを行い、より推定に有益なサテライトを優先的に推定に用いる。\n"
   ]
  },
  {
   "cell_type": "code",
   "execution_count": 120,
   "id": "executive-brook",
   "metadata": {},
   "outputs": [
    {
     "name": "stdout",
     "output_type": "stream",
     "text": [
      "Ground truth: [[  37.42357595 -122.09413204   33.21      ]]\n",
      "Weighted Least Square Estimation (Baseline): [[  37.4235777 -122.094101   -33.29     ]]\n",
      "Weighted Least Square Estimation: [[37.42357917]] [[-122.09375833]] [[-35.25074978]]\n",
      "Weighted Least Square haversine distance (M): [[32.98200155]]\n"
     ]
    }
   ],
   "source": [
    "pseudoranges_sigma = np.squeeze(df_sample_epoch[[\"rawPrUncM\"]].to_numpy())\n",
    "\n",
    "x, dp = least_squares(sat_pos, pseudoranges, 1/pseudoranges_sigma)\n",
    "\n",
    "print(\"Ground truth:\", df_sample_epoch_gt[[\"latDeg\",\"lngDeg\",\"heightAboveWgs84EllipsoidM\"]].to_numpy())\n",
    "print(\"Weighted Least Square Estimation (Baseline):\", df_sample_epoch_baseline[[\"latDeg\",\"lngDeg\",\"heightAboveWgs84EllipsoidM\"]].to_numpy())\n",
    "print(\"Weighted Least Square Estimation:\", *ecef2lla(*x[:3]))\n",
    "\n",
    "\n",
    "print(\"Weighted Least Square haversine distance (M):\", calc_haversine(*deg_gt, *ecef2lla(*x[:3])[:2]))"
   ]
  },
  {
   "cell_type": "markdown",
   "id": "actual-admission",
   "metadata": {},
   "source": [
    "## 評価関数"
   ]
  },
  {
   "cell_type": "markdown",
   "id": "sunset-bristol",
   "metadata": {},
   "source": [
    "### 評価関数"
   ]
  },
  {
   "cell_type": "code",
   "execution_count": 46,
   "id": "joined-resort",
   "metadata": {},
   "outputs": [],
   "source": [
    "def calc_haversine(lat1, lon1, lat2, lon2):\n",
    "  \"\"\"Calculates the great circle distance between two points\n",
    "  on the earth. Inputs are array-like and specified in decimal degrees.\n",
    "  \"\"\"\n",
    "  RADIUS = 6_367_000\n",
    "  lat1, lon1, lat2, lon2 = map(np.radians, [lat1, lon1, lat2, lon2])\n",
    "  dlat = lat2 - lat1\n",
    "  dlon = lon2 - lon1\n",
    "  a = np.sin(dlat/2)**2 + \\\n",
    "      np.cos(lat1) * np.cos(lat2) * np.sin(dlon/2)**2\n",
    "  dist = 2 * RADIUS * np.arcsin(a**0.5)\n",
    "  return dist"
   ]
  },
  {
   "cell_type": "markdown",
   "id": "chronic-throat",
   "metadata": {},
   "source": [
    "### 1エポック分の評価"
   ]
  },
  {
   "cell_type": "code",
   "execution_count": 109,
   "id": "manufactured-marijuana",
   "metadata": {},
   "outputs": [
    {
     "name": "stdout",
     "output_type": "stream",
     "text": [
      "Weighted Least Square (baseline) haversine distance (M): [2.74590055]\n",
      "Weighted Least Square haversine distance (M): [[32.9857079]]\n"
     ]
    }
   ],
   "source": [
    "deg_gt = df_sample_epoch_gt[[\"latDeg\",\"lngDeg\"]].to_numpy().transpose()\n",
    "deg_baseline = df_sample_epoch_baseline[[\"latDeg\",\"lngDeg\"]].to_numpy().transpose()\n",
    "print(\"Weighted Least Square (baseline) haversine distance (M):\", calc_haversine(*deg_gt, *deg_baseline))\n",
    "print(\"Weighted Least Square haversine distance (M):\", calc_haversine(*deg_gt, *ecef2lla(*x[:3])[:2]))"
   ]
  },
  {
   "cell_type": "code",
   "execution_count": 50,
   "id": "composed-azerbaijan",
   "metadata": {},
   "outputs": [],
   "source": [
    "def simple_pipeline(df_trails):\n",
    "  \"\"\" simple pipeline to estimate the GNSS receiver location by least square\n",
    "  Args:\n",
    "    df_trails: the df read from derived file\n",
    "  \n",
    "  Returns:\n",
    "    result df with estimated degrees and heights\n",
    "  \"\"\"\n",
    "\n",
    "  ### 推定に必要な\n",
    "  df_trails[\"correctedPrM\"] = df_trails[\"rawPrM\"] + df_trails[\"satClkBiasM\"] - df_trails[\"isrbM\"] - df_trails[\"ionoDelayM\"] - df_trails[\"tropoDelayM\"]\n",
    "  \n",
    "  results = []\n",
    "  x = [0, 0, 0, 0]\n",
    "  df_epochs = df_trails.groupby([\"collectionName\", \"phoneName\", \"millisSinceGpsEpoch\"])\n",
    "  for indices, df_epoch in tqdm(df_epochs, desc=\"Estimate location by LS for epoch\"):\n",
    "    sat_pos = df_epoch[[\"xSatPosM\",\"ySatPosM\",\"zSatPosM\"]].to_numpy()\n",
    "    pseudoranges = np.squeeze(df_epoch[[\"correctedPrM\"]].to_numpy())\n",
    "    pseudoranges_sigma = np.squeeze(df_epoch[[\"rawPrUncM\"]].to_numpy())\n",
    "    x, _ = calc_pos_fix(sat_pos, pseudoranges, 1/pseudoranges_sigma, x)\n",
    "    # x, _ = calc_pos_fix(sat_pos, pseudoranges, 1, x)\n",
    "    values = np.squeeze(ecef2lla(*x[:3]))\n",
    "    results.append([*indices, *values])\n",
    "  return pd.DataFrame(results,columns=[\"collectionName\", \"phoneName\", \"millisSinceGpsEpoch\", \"latDeg\", \"lngDeg\", \"heightAboveWgs84EllipsoidM\"])"
   ]
  }
 ],
 "metadata": {
  "hide_input": false,
  "kernelspec": {
   "display_name": "Python 3",
   "language": "python",
   "name": "python3"
  },
  "language_info": {
   "codemirror_mode": {
    "name": "ipython",
    "version": 3
   },
   "file_extension": ".py",
   "mimetype": "text/x-python",
   "name": "python",
   "nbconvert_exporter": "python",
   "pygments_lexer": "ipython3",
   "version": "3.8.8"
  },
  "toc": {
   "base_numbering": 1,
   "nav_menu": {},
   "number_sections": true,
   "sideBar": true,
   "skip_h1_title": false,
   "title_cell": "Table of Contents",
   "title_sidebar": "Contents",
   "toc_cell": false,
   "toc_position": {},
   "toc_section_display": true,
   "toc_window_display": false
  }
 },
 "nbformat": 4,
 "nbformat_minor": 5
}
